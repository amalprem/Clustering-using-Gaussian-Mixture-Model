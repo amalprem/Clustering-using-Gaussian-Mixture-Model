{
 "cells": [
  {
   "cell_type": "code",
   "execution_count": 1,
   "id": "8ed21706",
   "metadata": {},
   "outputs": [
    {
     "name": "stdout",
     "output_type": "stream",
     "text": [
      "Null features ['race', 'weight', 'payer_code', 'medical_specialty', 'diag_1', 'diag_2', 'diag_3'] \n",
      "\n",
      "Feature \t null_count \t not_null_count\n",
      "race \t 2273 \t\t 99493\n",
      "weight \t 98569 \t\t 3197\n",
      "payer_code \t 40256 \t\t 61510\n",
      "medical_specialty \t 49949 \t\t 51817\n",
      "diag_1 \t 21 \t\t 101745\n",
      "diag_2 \t 358 \t\t 101408\n",
      "diag_3 \t 1423 \t\t 100343\n",
      "The numeric feature is encounter_id \n",
      " The value counts are 2278392      1\n",
      "190792044    1\n",
      "190790070    1\n",
      "190789722    1\n",
      "190786806    1\n",
      "            ..\n",
      "106665324    1\n",
      "106657776    1\n",
      "106644876    1\n",
      "106644474    1\n",
      "443867222    1\n",
      "Name: encounter_id, Length: 101766, dtype: int64\n",
      "The numeric feature is patient_nbr \n",
      " The value counts are 88785891     40\n",
      "43140906     28\n",
      "1660293      23\n",
      "88227540     23\n",
      "23199021     23\n",
      "             ..\n",
      "11005362      1\n",
      "98252496      1\n",
      "1019673       1\n",
      "13396320      1\n",
      "175429310     1\n",
      "Name: patient_nbr, Length: 71518, dtype: int64\n",
      "The numeric feature is age \n",
      " The value counts are 75    26068\n",
      "65    22483\n",
      "55    17256\n",
      "85    17197\n",
      "45     9685\n",
      "35     3775\n",
      "95     2793\n",
      "25     1657\n",
      "15      691\n",
      "5       161\n",
      "Name: age, dtype: int64\n",
      "The numeric feature is admission_type_id \n",
      " The value counts are 1    53990\n",
      "3    18869\n",
      "2    18480\n",
      "6     5291\n",
      "5     4785\n",
      "8      320\n",
      "7       21\n",
      "4       10\n",
      "Name: admission_type_id, dtype: int64\n",
      "The numeric feature is discharge_disposition_id \n",
      " The value counts are 1     60234\n",
      "3     13954\n",
      "6     12902\n",
      "18     3691\n",
      "2      2128\n",
      "22     1993\n",
      "11     1642\n",
      "5      1184\n",
      "25      989\n",
      "4       815\n",
      "7       623\n",
      "23      412\n",
      "13      399\n",
      "14      372\n",
      "28      139\n",
      "8       108\n",
      "15       63\n",
      "24       48\n",
      "9        21\n",
      "17       14\n",
      "16       11\n",
      "19        8\n",
      "10        6\n",
      "27        5\n",
      "12        3\n",
      "20        2\n",
      "Name: discharge_disposition_id, dtype: int64\n",
      "The numeric feature is admission_source_id \n",
      " The value counts are 7     57494\n",
      "1     29565\n",
      "17     6781\n",
      "4      3187\n",
      "6      2264\n",
      "2      1104\n",
      "5       855\n",
      "3       187\n",
      "20      161\n",
      "9       125\n",
      "8        16\n",
      "22       12\n",
      "10        8\n",
      "14        2\n",
      "11        2\n",
      "25        2\n",
      "13        1\n",
      "Name: admission_source_id, dtype: int64\n",
      "The numeric feature is time_in_hospital \n",
      " The value counts are 3     17756\n",
      "2     17224\n",
      "1     14208\n",
      "4     13924\n",
      "5      9966\n",
      "6      7539\n",
      "7      5859\n",
      "8      4391\n",
      "9      3002\n",
      "10     2342\n",
      "11     1855\n",
      "12     1448\n",
      "13     1210\n",
      "14     1042\n",
      "Name: time_in_hospital, dtype: int64\n",
      "The numeric feature is num_lab_procedures \n",
      " The value counts are 1      3208\n",
      "43     2804\n",
      "44     2496\n",
      "45     2376\n",
      "38     2213\n",
      "       ... \n",
      "120       1\n",
      "132       1\n",
      "121       1\n",
      "126       1\n",
      "118       1\n",
      "Name: num_lab_procedures, Length: 118, dtype: int64\n",
      "The numeric feature is num_procedures \n",
      " The value counts are 0    46652\n",
      "1    20742\n",
      "2    12717\n",
      "3     9443\n",
      "6     4954\n",
      "4     4180\n",
      "5     3078\n",
      "Name: num_procedures, dtype: int64\n",
      "The numeric feature is num_medications \n",
      " The value counts are 13    6086\n",
      "12    6004\n",
      "11    5795\n",
      "15    5792\n",
      "14    5707\n",
      "      ... \n",
      "70       2\n",
      "75       2\n",
      "81       1\n",
      "79       1\n",
      "74       1\n",
      "Name: num_medications, Length: 75, dtype: int64\n",
      "The numeric feature is number_outpatient \n",
      " The value counts are 0     85027\n",
      "1      8547\n",
      "2      3594\n",
      "3      2042\n",
      "4      1099\n",
      "5       533\n",
      "6       303\n",
      "7       155\n",
      "8        98\n",
      "9        83\n",
      "10       57\n",
      "11       42\n",
      "13       31\n",
      "12       30\n",
      "14       28\n",
      "15       20\n",
      "16       15\n",
      "17        8\n",
      "21        7\n",
      "20        7\n",
      "18        5\n",
      "22        5\n",
      "19        3\n",
      "27        3\n",
      "24        3\n",
      "26        2\n",
      "23        2\n",
      "25        2\n",
      "33        2\n",
      "35        2\n",
      "36        2\n",
      "29        2\n",
      "34        1\n",
      "39        1\n",
      "42        1\n",
      "28        1\n",
      "37        1\n",
      "38        1\n",
      "40        1\n",
      "Name: number_outpatient, dtype: int64\n",
      "The numeric feature is number_emergency \n",
      " The value counts are 0     90383\n",
      "1      7677\n",
      "2      2042\n",
      "3       725\n",
      "4       374\n",
      "5       192\n",
      "6        94\n",
      "7        73\n",
      "8        50\n",
      "10       34\n",
      "9        33\n",
      "11       23\n",
      "13       12\n",
      "12       10\n",
      "22        6\n",
      "16        5\n",
      "18        5\n",
      "19        4\n",
      "20        4\n",
      "15        3\n",
      "14        3\n",
      "25        2\n",
      "21        2\n",
      "28        1\n",
      "42        1\n",
      "46        1\n",
      "76        1\n",
      "37        1\n",
      "64        1\n",
      "63        1\n",
      "54        1\n",
      "24        1\n",
      "29        1\n",
      "Name: number_emergency, dtype: int64\n",
      "The numeric feature is number_inpatient \n",
      " The value counts are 0     67630\n",
      "1     19521\n",
      "2      7566\n",
      "3      3411\n",
      "4      1622\n",
      "5       812\n",
      "6       480\n",
      "7       268\n",
      "8       151\n",
      "9       111\n",
      "10       61\n",
      "11       49\n",
      "12       34\n",
      "13       20\n",
      "14       10\n",
      "15        9\n",
      "16        6\n",
      "19        2\n",
      "17        1\n",
      "21        1\n",
      "18        1\n",
      "Name: number_inpatient, dtype: int64\n",
      "The numeric feature is number_diagnoses \n",
      " The value counts are 9     49474\n",
      "5     11393\n",
      "8     10616\n",
      "7     10393\n",
      "6     10161\n",
      "4      5537\n",
      "3      2835\n",
      "2      1023\n",
      "1       219\n",
      "16       45\n",
      "10       17\n",
      "13       16\n",
      "11       11\n",
      "15       10\n",
      "12        9\n",
      "14        7\n",
      "Name: number_diagnoses, dtype: int64\n",
      "The numeric feature is readmitted \n",
      " The value counts are 0    54864\n",
      "1    46902\n",
      "Name: readmitted, dtype: int64\n"
     ]
    },
    {
     "data": {
      "application/vnd.jupyter.widget-view+json": {
       "model_id": "870cc0628f8f4e7ca8e1aa3e22102a19",
       "version_major": 2,
       "version_minor": 0
      },
      "text/plain": [
       "Pandas Apply:   0%|          | 0/11 [00:00<?, ?it/s]"
      ]
     },
     "metadata": {},
     "output_type": "display_data"
    },
    {
     "data": {
      "text/plain": [
       "(101766, 32)"
      ]
     },
     "execution_count": 1,
     "metadata": {},
     "output_type": "execute_result"
    }
   ],
   "source": [
    "import pandas as pd\n",
    "import swifter\n",
    "import matplotlib.pyplot as plt\n",
    "import seaborn as sns\n",
    "from sklearn.preprocessing import LabelEncoder\n",
    "from tqdm import tqdm\n",
    "from sklearn.preprocessing import StandardScaler\n",
    "from scipy.stats import multivariate_normal\n",
    "from sklearn.metrics import silhouette_score, calinski_harabasz_score\n",
    "from scipy.spatial.distance import euclidean\n",
    "\n",
    "df= pd.read_csv('dataset_diabetes/diabetic_data.csv')\n",
    "import numpy as np\n",
    "df.replace({'?':np.nan},inplace=True)\n",
    "df.head()\n",
    "\n",
    "null_feature=[i for i in df.columns if df[i].isnull().sum()>=1]\n",
    "print('Null features {} \\n'.format(null_feature))\n",
    "print('Feature \\t null_count \\t not_null_count')\n",
    "for i in null_feature:\n",
    "    print('{} \\t {} \\t\\t {}'.format(i,df[i].isnull().sum(),df[i].count()))\n",
    "    \n",
    "    \n",
    "#Dropping columns with count of null values around the count of not null values. As they dont provide significant information or \n",
    "#mostly contains null data\n",
    "df.drop(['weight','payer_code','medical_specialty'],axis=1,inplace=True)\n",
    "\n",
    "\n",
    "df['age'] = df['age'].replace({'[0-10)': 5, '[10-20)': 15, '[20-30)': 25, '[30-40)': 35, '[40-50)': 45, '[50-60)': 55, '[60-70)': 65, '[70-80)': 75, '[80-90)': 85, '[90-100)': 95})\n",
    "\n",
    "df['readmitted'] = df['readmitted'].replace({'>30':1,'<30':1,'NO':0})\n",
    "\n",
    "\n",
    "for i in df.select_dtypes(include=['int', 'float']).columns.to_list():\n",
    "    print('The numeric feature is {} \\n The value counts are {}'.format(i,df[i].value_counts()) )\n",
    "    \n",
    "df.drop(columns=['encounter_id','patient_nbr'],inplace=True,axis=1)\n",
    "\n",
    "meds=['max_glu_serum', 'A1Cresult', 'metformin', 'repaglinide', 'nateglinide', 'chlorpropamide',\n",
    "      'glimepiride', 'acetohexamide', 'glipizide', 'glyburide', 'tolbutamide', 'pioglitazone', 'rosiglitazone', \n",
    "      'acarbose', 'miglitol', 'troglitazone', 'tolazamide', 'examide', 'citoglipton', 'insulin', 'glyburide-metformin',\n",
    "      'glipizide-metformin', 'glimepiride-pioglitazone', 'metformin-rosiglitazone', 'metformin-pioglitazone']\n",
    "df_value_counts=pd.DataFrame()\n",
    "for i in meds:\n",
    "    value_counts=df[i].value_counts()\n",
    "    percent = []\n",
    "    for j in value_counts.index:\n",
    "        percent.append(value_counts[j] *100/ len(df))\n",
    "    ## PErcentage dataframe to store the feature, its unique values, the count and the percentage\n",
    "    df_temp=pd.DataFrame({'Feature':i,'Value': value_counts.index, 'Count': value_counts.values, 'Percentage': percent})\n",
    "    df_value_counts=pd.concat([df_value_counts,df_temp],ignore_index=True)\n",
    "df_value_counts.head(80)  \n",
    "\n",
    "skewed_data=df_value_counts[df_value_counts['Percentage']>95]['Feature'].to_list()\n",
    "df.drop(columns=skewed_data,inplace=True)\n",
    "\n",
    "label_encoded_columns=[]\n",
    "for i in df.select_dtypes(include=['object']).columns.to_list():\n",
    "    if i not in skewed_data:\n",
    "        label_encoded_columns.append(i)\n",
    "## The columns remaining after all the EDA that are to be label encoded\n",
    "\n",
    "df_cleaned_dia=df.copy()\n",
    "## creating the copy of data before performing label encoding and one hot encoding\n",
    "one_hot = pd.get_dummies(df_cleaned_dia[['gender','race']])\n",
    "label_encoded_columns.remove('diag_1')\n",
    "label_encoded_columns.remove('diag_2')\n",
    "label_encoded_columns.remove('diag_3')\n",
    "label_encoded_columns.remove('gender')\n",
    "label_encoded_columns.remove('race')\n",
    "# combine the one-hot encoded columns with the original dataframe\n",
    "df_cleaned_dia = pd.concat([df_cleaned_dia, one_hot], axis=1)\n",
    "df_cleaned_dia.drop(columns=['diag_1','diag_2','diag_3','gender','race'],inplace=True)\n",
    "##\n",
    "df_cleaned_dia[label_encoded_columns]=df_cleaned_dia[label_encoded_columns].swifter.apply(LabelEncoder().fit_transform)\n",
    "\n",
    "\n",
    "df_cleaned_dia.shape"
   ]
  },
  {
   "cell_type": "code",
   "execution_count": 2,
   "id": "621b3693",
   "metadata": {},
   "outputs": [],
   "source": [
    "import pandas as pd\n",
    "import swifter\n",
    "import matplotlib.pyplot as plt\n",
    "import seaborn as sns\n",
    "from sklearn.preprocessing import LabelEncoder\n",
    "from tqdm import tqdm\n",
    "from sklearn.preprocessing import StandardScaler\n",
    "from scipy.stats import multivariate_normal\n",
    "from sklearn.metrics import silhouette_score, calinski_harabasz_score\n",
    "from scipy.spatial.distance import euclidean\n",
    "\n",
    "\n",
    "def GMM_initialization(df,k):\n",
    "    number_of_rows=df.shape[0]\n",
    "    number_of_columns=df.shape[1]\n",
    "    means_matrix = df.sample(n=k).values\n",
    "    identity_matrix=np.eye(number_of_columns)\n",
    "    covariance_matrix=np.array([identity_matrix]*k)\n",
    "    weights_matrix=np.array([float(1/k)]*k)\n",
    "    return means_matrix,covariance_matrix,weights_matrix,number_of_rows,number_of_columns\n",
    "    \n",
    "    \n",
    "def calculate_posterior(data,means_matrix,covariance_matrix,weights_matrix,k,number_of_columns):\n",
    "    posterior=np.zeros(k)\n",
    "    for i in range(k):\n",
    "        try:\n",
    "            pseudo_inverse = np.linalg.pinv(covariance_matrix[i] + np.eye(covariance_matrix[i].shape[0]) * 1e-2, rcond=1e-10)\n",
    "            posterior[i] = multivariate_normal.pdf(data, mean=means_matrix[i], cov=pseudo_inverse)\n",
    "        except Exception as e:\n",
    "            continue\n",
    "    return posterior*weights_matrix#/(posterior*weights_matrix).sum()\n",
    "    \n",
    "def maintain_k_clusters(labels,k):\n",
    "    unique_values, value_counts = np.unique(labels, return_counts=True)\n",
    "    missing_labels=[i for i in range(k) if i not in unique_values]\n",
    "    unique_values_to_be_replaced=[unique_values[i] for i in np.where(value_counts > 1)[0]]\n",
    "\n",
    "    indices=[i for i in range(len(labels))    if labels[i] in unique_values_to_be_replaced]\n",
    "    random_indices = np.random.choice(indices, size=len(missing_labels), replace=False)\n",
    "    for i,val in enumerate(random_indices):\n",
    "        labels[val]=missing_labels[i]\n",
    "    return labels\n",
    "\n",
    "\n",
    "def sum_of_square_error_em(new_centroids, data, labels):\n",
    "    columns = data.columns\n",
    "    # Join the data dataframe and the labels dataframe\n",
    "    data = data.join(labels)\n",
    "    # Rename the '0' column of the labels dataframe to 'Label'\n",
    "    data.rename(columns={0:'Label'}, inplace=True)\n",
    "    sse = []\n",
    "    # Compute the distance between each data point and its assigned centroid\n",
    "    for i in range(len(new_centroids)):\n",
    "        distance = np.sum(np.square(data[data['Label']==i][columns] - new_centroids.iloc[i][columns],dtype=np.float64), axis=1)\n",
    "        #print(distance)\n",
    "        sse.append(distance.sum())\n",
    "    # Return the sum of squared errors\n",
    "    \n",
    "    a=sum(sse)   \n",
    "    return a\n",
    "\n",
    "def Calinski_index_em(df_data,clusters):\n",
    "    ch_score = calinski_harabasz_score(df_data, clusters)\n",
    "    return ch_score\n",
    "    \n",
    "\n",
    "\n",
    "def GMM(df_cleaned_dia,k,tao):\n",
    "    scaler = StandardScaler()\n",
    "    scaler.fit(df_cleaned_dia)\n",
    "    scaled_input=scaler.transform(df_cleaned_dia)\n",
    "    \n",
    "    scaled_input_df= pd.DataFrame(scaled_input,columns=df_cleaned_dia.columns)\n",
    "    \n",
    "    means_matrix,covariance_matrix,weights_matrix,number_of_rows,number_of_columns= GMM_initialization(scaled_input_df,k)\n",
    "    likelihood=0\n",
    "    means_matrix_initial=means_matrix\n",
    "    for i in range(k):\n",
    "        try:\n",
    "            \n",
    "            pseudo_inverse = np.linalg.pinv(covariance_matrix[i] + np.diag(np.ones(covariance_matrix[i].shape[0]) * 1e-10))\n",
    "            likelihood=likelihood+weights_matrix[i]*multivariate_normal.logpdf(scaled_input,means_matrix[i], pseudo_inverse)\n",
    "        except Exception as e:\n",
    "            continue\n",
    "    log_likelihood_old=np.sum(likelihood)\n",
    "    old_means_matrix_df=pd.DataFrame(means_matrix)\n",
    "    posterior_probability = np.zeros((scaled_input.shape[0], k))\n",
    "    iterations=0\n",
    "    \n",
    "    while (True):\n",
    "        iterations+=1\n",
    "        # Expectation\n",
    "        for i in range(scaled_input.shape[0]):\n",
    "            posterior_probability[i] = calculate_posterior(scaled_input[i], means_matrix,covariance_matrix,weights_matrix,k,number_of_columns)\n",
    "        \n",
    "        # Maximization\n",
    "        posterior_probability=np.nan_to_num(posterior_probability, nan=0)\n",
    "        for i in range(k): \n",
    "            # Calculating weight\n",
    "            weight = posterior_probability[:, i].sum()\n",
    "            #print(weight)\n",
    "            # Updating each centroid\n",
    "            means_matrix[i] = (posterior_probability[:, i] @ scaled_input) / weight\n",
    "            #print(1,means_matrix[i])\n",
    "            # Subtracting the mean value from data\n",
    "            scaled_input_diff = scaled_input - means_matrix[i]\n",
    "\n",
    "            # Update the covariance matrix \n",
    "            #covariance_matrix[i] = (posterior_probability[:, i] * scaled_input_diff.T @ scaled_input_diff) / weight\n",
    "\n",
    "            # Update the weights matrix\n",
    "            #weights_matrix[i] = weight / number_of_rows\n",
    "        \n",
    "\n",
    "        likelihood=0\n",
    "        for i in range(k):\n",
    "            try:\n",
    "                pseudo_inverse = np.linalg.pinv(covariance_matrix[i] + np.diag(np.ones(covariance_matrix[i].shape[0]) * 1e-10))\n",
    "                likelihood=likelihood+weights_matrix[i]*multivariate_normal.logpdf(scaled_input,means_matrix[i], sudo_inverse)\n",
    "            except Exception as e:\n",
    "                continue\n",
    "        log_likelihood_new =np.sum(likelihood)\n",
    "        \n",
    "        new_means_matrix_df=pd.DataFrame(means_matrix)\n",
    "        distance = []\n",
    "        for col in new_means_matrix_df.columns:\n",
    "            col_distance = euclidean(old_means_matrix_df[col], new_means_matrix_df[col])\n",
    "            distance.append(col_distance)\n",
    "        tao_calculated=sum(distance)/k \n",
    "        \n",
    "        \n",
    "        \n",
    "        if tao_calculated< tao:#log_likelihood_new>log_likelihood_old and 100*((log_likelihood_new - log_likelihood_old) / log_likelihood_old)<tao:\n",
    "            \n",
    "            print(\"Converged\")\n",
    "            labels=np.argmax(posterior_probability,axis=1)\n",
    "            labels=maintain_k_clusters(labels,k)\n",
    "            labels_df=pd.DataFrame(labels)\n",
    "            means_matrix_df=pd.DataFrame(means_matrix,columns=scaled_input_df.columns)\n",
    "            sse=sum_of_square_error_em(means_matrix_df, scaled_input_df, labels_df)\n",
    "            clainski= Calinski_index_em(scaled_input_df,labels_df)\n",
    "            return sse,clainski,means_matrix_initial\n",
    "        #else:\n",
    "            #log_likelihood_old=log_likelihood_new\n",
    "            \n",
    "        if iterations>100:\n",
    "            print(\"Max iteration reached\")\n",
    "            labels=np.argmax(posterior_probability,axis=1)\n",
    "            labels=maintain_k_clusters(labels,k)\n",
    "            labels_df=pd.DataFrame(labels)\n",
    "            means_matrix_df=pd.DataFrame(means_matrix,columns=scaled_input_df.columns)\n",
    "            sse=sum_of_square_error_em(means_matrix_df, scaled_input_df, labels_df)\n",
    "            clainski= Calinski_index_em(scaled_input_df,labels_df)\n",
    "            return sse,clainski,means_matrix_initial\n",
    "        \n",
    "    \n"
   ]
  },
  {
   "cell_type": "code",
   "execution_count": 13,
   "id": "393831c4",
   "metadata": {},
   "outputs": [],
   "source": [
    "#GMM(df_cleaned_dia,2,10)"
   ]
  },
  {
   "cell_type": "code",
   "execution_count": null,
   "id": "7d01fbb8",
   "metadata": {},
   "outputs": [],
   "source": []
  },
  {
   "cell_type": "code",
   "execution_count": null,
   "id": "9e11e673",
   "metadata": {},
   "outputs": [],
   "source": []
  },
  {
   "cell_type": "code",
   "execution_count": 15,
   "id": "13559710",
   "metadata": {},
   "outputs": [],
   "source": [
    "import time\n",
    "from scipy.spatial.distance import euclidean\n",
    "def initialize_centroids(df, k,means_matrix):\n",
    "    \"\"\"\n",
    "    Function to initialize random centroids from dataset.\n",
    "    Input: \n",
    "        - df: pandas dataframe with the data\n",
    "        - k: integer number of clusters\n",
    "    Output: \n",
    "        - temp_df: pandas dataframe with the centroids as columns and index as label\n",
    "    \"\"\"\n",
    "    \n",
    "   \n",
    "    centroids=pd.DataFrame(means_matrix,columns=df.columns)\n",
    "    centroids=centroids.T\n",
    "    centroids.index.name = 'Label'\n",
    "    return centroids\n",
    "\n",
    "\n",
    "\n",
    "def assign_labels(df, centroids):\n",
    "    \"\"\"\n",
    "    Function to calculate the closest centroid label for each row in a dataframe.\n",
    "    Input: \n",
    "        - df: pandas dataframe with the data\n",
    "        - centroids: pandas dataframe with the centroids as columns and index as label\n",
    "    Output: \n",
    "        - distances.idxmin(axis=1): pandas series with the label of the closest centroid for each row in df\n",
    "    \"\"\"\n",
    "    distances = centroids.swifter.apply(lambda x: np.sqrt(((df - x) ** 2).sum(axis=1))) # Calculate the Euclidean distance between each row in df and each centroid\n",
    "    return distances.idxmin(axis=1) # Get the index of the minimum distance, which corresponds to the label of the closest centroid\n",
    "\n",
    "\n",
    "def new_centroids(df_label, df1):\n",
    "    \"\"\"\n",
    "    Function to calculate the new centroids based on the current labels of the rows.\n",
    "    Input: \n",
    "        - df_label: pandas series with the label of the closest centroid for each row in df1\n",
    "        - df1: pandas dataframe with the data\n",
    "    Output: \n",
    "        - new_centroids.T: pandas dataframe with the new centroids as columns and index as feature name\n",
    "    \"\"\"\n",
    "    joined_df = df1.join(df_label)\n",
    "    joined_df.rename(columns={0: 'Label'}, inplace=True) # Rename the column with the label\n",
    "    # Calculate the mean of the rows with the same label\n",
    "    return joined_df.groupby('Label').mean().T # Transpose the dataframe to have the new centroids as columns and index as feature name\n",
    "\n",
    "\n",
    "\n",
    "def error_clusters(df_new_centroids,df1,df_label):\n",
    "    \"\"\"\n",
    "    Calculate the error rate of each cluster.\n",
    "\n",
    "    Args:\n",
    "    - df_label (pandas.DataFrame): the label of the nearest centroid for each data point.\n",
    "    - df1 (pandas.DataFrame): the dataset.\n",
    "    - df_new_centroids (pandas.DataFrame): The new centroids computed in the current iteration.\n",
    "\n",
    "    Returns:\n",
    "    - error_rate (float): the total error rate of all clusters.\n",
    "    \"\"\"\n",
    "    \n",
    "\n",
    "    #Calculate mean value \n",
    "    mean_centroid=df1.groupby('readmitted').mean().reset_index()\n",
    "    # Transpose the new centroids dataframe and reset the index\n",
    "    new_centroids= df_new_centroids.T\n",
    "    # Get the columns of the data dataframe\n",
    "    columns = df1.columns\n",
    "\n",
    "    sse = []\n",
    "    # Compute the distance between each data point and its assigned centroid\n",
    "    for i in range(len(new_centroids)):   #### centroid\n",
    "        s=[]\n",
    "        for j in range(len(mean_centroid)): ### mean centroid\n",
    "        # Compute the distance between each data point and its assigned centroid\n",
    "            distance = np.sum(np.square(mean_centroid[mean_centroid['readmitted']==j][columns] - new_centroids.iloc[i][columns]), axis=1)\n",
    "            s.append(distance.iloc[0])\n",
    "        sse.append(s)\n",
    "    ## key  is the cluster number and value is the merged value\n",
    "    merge_label=pd.DataFrame(sse).idxmin(axis=1).to_dict() \n",
    "    ## Merging cluster based on the target variable\n",
    "    df_label[0]=df_label[0].replace(merge_label)\n",
    "    \n",
    "    df1 = df1.join(df_label) # add the label column to the dataset\n",
    "    df1.rename(columns={0: 'Label'}, inplace=True) # rename the label column\n",
    "    error_list = []\n",
    "    for i in df1['Label'].value_counts().index:\n",
    "        df_cluster = df1[df1['Label'] == i] # filter the dataset to include only the data points in the current cluster\n",
    "        y = len(df_cluster[df_cluster['readmitted'] == 1]) # count the number of data points in the current cluster that were readmitted\n",
    "        n = len(df_cluster[df_cluster['readmitted'] == 0]) # count the number of data points in the current cluster that were not readmitted\n",
    "        if y == 0 and n == 0:\n",
    "            error = 0\n",
    "        else:\n",
    "            error = n / (n + y) # calculate the error rate of the current cluster\n",
    "        error_list.append(error)\n",
    "    return round(sum(error_list),4)\n",
    "\n",
    "\n",
    "def sum_of_square_error(new_centroids, data, labels):\n",
    "    \"\"\"\n",
    "    Computes the sum of squared errors between the data points and their assigned centroids.\n",
    "\n",
    "    Args:\n",
    "    new_centroids (DataFrame): The new centroids computed in the current iteration.\n",
    "    data (DataFrame): The input data points.\n",
    "    labels (DataFrame): The labels assigned to each data point.\n",
    "\n",
    "    Returns:\n",
    "    The sum of squared errors.\n",
    "    \"\"\"\n",
    "    # Transpose the new centroids dataframe and reset the index\n",
    "    new_centroids = new_centroids.T.reset_index()\n",
    "    # Get the columns of the data dataframe\n",
    "    columns = new_centroids.columns\n",
    "    # Join the data dataframe and the labels dataframe\n",
    "    data = data.join(labels)\n",
    "    # Rename the '0' column of the labels dataframe to 'Label'\n",
    "    data.rename(columns={0:'Label'}, inplace=True)\n",
    "    sse = []\n",
    "    # Compute the distance between each data point and its assigned centroid\n",
    "    for i in range(len(new_centroids)):\n",
    "        distance = np.sum(np.square(data[data['Label']==i][columns] - new_centroids.iloc[i][columns]), axis=1)\n",
    "        sse.append(sum(distance))\n",
    "    # Return the sum of squared errors\n",
    "    return sum(sse)   \n",
    "\n",
    "def Calinski_index(df_data,clusters):\n",
    "    ch_score = calinski_harabasz_score(df_data, clusters)\n",
    "    return ch_score\n",
    "    \n",
    "\n",
    "\n",
    "\n",
    "def kmeans_lyod_with_error(df1, k, tou,means_matrix_initial):\n",
    "    \"\"\"\n",
    "    Function to run the K-means Lloyd algorithm.\n",
    "    Input: \n",
    "        - df1: pandas dataframe with the data\n",
    "        - k: integer number of clusters\n",
    "        - tou: float tolerance level to stop the algorithm\n",
    "    Output: \n",
    "        - centroids: pandas dataframe with the final centroids as columns and index as label\n",
    "    \"\"\"\n",
    "    start_time=time.time()\n",
    "    centroids = initialize_centroids(df1, k,means_matrix_initial) # Initialize random centroids\n",
    "    initial_list_of_columns = centroids.columns.to_list()\n",
    "    iteration = 0\n",
    "    while True:\n",
    "        # Assign labels to current centroids\n",
    "        df_label = assign_labels(df1, centroids)\n",
    "        df_label = pd.DataFrame(df_label)\n",
    "        # Calculate new centroids\n",
    "        df_new_centroids = new_centroids(df_label, df1)\n",
    "        new_list_of_columns = df_new_centroids.columns.to_list()\n",
    "        # Keep the number of clusters the same i.e maintain same k\n",
    "        for i in initial_list_of_columns:\n",
    "            if i not in new_list_of_columns:\n",
    "                df_new_centroids[i] = centroids[i]\n",
    "        # Calculate tao\n",
    "        distance = []\n",
    "        for col in centroids.columns:\n",
    "            col_distance = euclidean(centroids[col], df_new_centroids[col])\n",
    "            distance.append(col_distance)\n",
    "        tao_calculated=sum(distance)/k #Used the formula provided for calculating Tao\n",
    "        sse = sum_of_square_error(df_new_centroids, df1, df_label)\n",
    "        #error=error_clusters(df_label,df1,k)\n",
    "        end_time= time.time()\n",
    "        clainski= Calinski_index(df1,df_label)\n",
    "        if iteration>100:  \n",
    "            print(\"Iteration exceeded\")\n",
    "\n",
    "            return sse,clainski\n",
    "            break\n",
    "            \n",
    "        if tao_calculated<tou or iteration >100:   #if the convergence is met, kmeans will stop  or else if the convergence is never met, after 100 iteration code will stop \n",
    "            return  sse,clainski\n",
    "            break                                   # otherwise indefinite loop\n",
    "        else:\n",
    "            centroids= df_new_centroids # In case we need more iterations, the centroids calculated at this step acts as input\n",
    "        iteration+=1\n",
    "\n"
   ]
  },
  {
   "cell_type": "code",
   "execution_count": 16,
   "id": "a03baf00",
   "metadata": {},
   "outputs": [],
   "source": [
    "scaler = StandardScaler()\n",
    "scaler.fit(df_cleaned_dia)\n",
    "scaled_input=scaler.transform(df_cleaned_dia)\n",
    "\n",
    "scaled_input_df= pd.DataFrame(scaled_input,columns=df_cleaned_dia.columns)"
   ]
  },
  {
   "cell_type": "code",
   "execution_count": 14,
   "id": "cb4a4975",
   "metadata": {},
   "outputs": [],
   "source": [
    "#kmeans_lyod_with_error(scaled_input_df,2,10,means_matrix_initial)"
   ]
  },
  {
   "cell_type": "code",
   "execution_count": 17,
   "id": "4c980ca6",
   "metadata": {},
   "outputs": [
    {
     "name": "stderr",
     "output_type": "stream",
     "text": [
      "/tmp/ipykernel_24360/2613017783.py:31: RuntimeWarning: invalid value encountered in true_divide\n",
      "  return posterior*weights_matrix/(posterior*weights_matrix).sum()\n"
     ]
    },
    {
     "name": "stdout",
     "output_type": "stream",
     "text": [
      "Converged\n"
     ]
    },
    {
     "name": "stderr",
     "output_type": "stream",
     "text": [
      "/N/soft/rhel7/python/3.9.8/lib/python3.9/site-packages/sklearn/utils/validation.py:993: DataConversionWarning: A column-vector y was passed when a 1d array was expected. Please change the shape of y to (n_samples, ), for example using ravel().\n",
      "  y = column_or_1d(y, warn=True)\n"
     ]
    },
    {
     "data": {
      "application/vnd.jupyter.widget-view+json": {
       "model_id": "bcb4c98ff8f34763a36e52f5434c2f18",
       "version_major": 2,
       "version_minor": 0
      },
      "text/plain": [
       "Pandas Apply:   0%|          | 0/2 [00:00<?, ?it/s]"
      ]
     },
     "metadata": {},
     "output_type": "display_data"
    },
    {
     "name": "stderr",
     "output_type": "stream",
     "text": [
      "/N/soft/rhel7/python/3.9.8/lib/python3.9/site-packages/sklearn/utils/validation.py:993: DataConversionWarning: A column-vector y was passed when a 1d array was expected. Please change the shape of y to (n_samples, ), for example using ravel().\n",
      "  y = column_or_1d(y, warn=True)\n",
      "/tmp/ipykernel_24360/2613017783.py:31: RuntimeWarning: invalid value encountered in true_divide\n",
      "  return posterior*weights_matrix/(posterior*weights_matrix).sum()\n"
     ]
    },
    {
     "name": "stdout",
     "output_type": "stream",
     "text": [
      "Converged\n"
     ]
    },
    {
     "name": "stderr",
     "output_type": "stream",
     "text": [
      "/N/soft/rhel7/python/3.9.8/lib/python3.9/site-packages/sklearn/utils/validation.py:993: DataConversionWarning: A column-vector y was passed when a 1d array was expected. Please change the shape of y to (n_samples, ), for example using ravel().\n",
      "  y = column_or_1d(y, warn=True)\n"
     ]
    },
    {
     "data": {
      "application/vnd.jupyter.widget-view+json": {
       "model_id": "26edbfb0ddc846ba9f0480da7bec521e",
       "version_major": 2,
       "version_minor": 0
      },
      "text/plain": [
       "Pandas Apply:   0%|          | 0/2 [00:00<?, ?it/s]"
      ]
     },
     "metadata": {},
     "output_type": "display_data"
    },
    {
     "name": "stderr",
     "output_type": "stream",
     "text": [
      "/N/soft/rhel7/python/3.9.8/lib/python3.9/site-packages/sklearn/utils/validation.py:993: DataConversionWarning: A column-vector y was passed when a 1d array was expected. Please change the shape of y to (n_samples, ), for example using ravel().\n",
      "  y = column_or_1d(y, warn=True)\n",
      "/tmp/ipykernel_24360/2613017783.py:31: RuntimeWarning: invalid value encountered in true_divide\n",
      "  return posterior*weights_matrix/(posterior*weights_matrix).sum()\n"
     ]
    },
    {
     "name": "stdout",
     "output_type": "stream",
     "text": [
      "Converged\n"
     ]
    },
    {
     "name": "stderr",
     "output_type": "stream",
     "text": [
      "/N/soft/rhel7/python/3.9.8/lib/python3.9/site-packages/sklearn/utils/validation.py:993: DataConversionWarning: A column-vector y was passed when a 1d array was expected. Please change the shape of y to (n_samples, ), for example using ravel().\n",
      "  y = column_or_1d(y, warn=True)\n"
     ]
    },
    {
     "data": {
      "application/vnd.jupyter.widget-view+json": {
       "model_id": "fd617f5573ce49febe7b1d0647388df0",
       "version_major": 2,
       "version_minor": 0
      },
      "text/plain": [
       "Pandas Apply:   0%|          | 0/2 [00:00<?, ?it/s]"
      ]
     },
     "metadata": {},
     "output_type": "display_data"
    },
    {
     "name": "stderr",
     "output_type": "stream",
     "text": [
      "/N/soft/rhel7/python/3.9.8/lib/python3.9/site-packages/sklearn/utils/validation.py:993: DataConversionWarning: A column-vector y was passed when a 1d array was expected. Please change the shape of y to (n_samples, ), for example using ravel().\n",
      "  y = column_or_1d(y, warn=True)\n",
      "/tmp/ipykernel_24360/2613017783.py:31: RuntimeWarning: invalid value encountered in true_divide\n",
      "  return posterior*weights_matrix/(posterior*weights_matrix).sum()\n"
     ]
    },
    {
     "name": "stdout",
     "output_type": "stream",
     "text": [
      "Converged\n"
     ]
    },
    {
     "name": "stderr",
     "output_type": "stream",
     "text": [
      "/N/soft/rhel7/python/3.9.8/lib/python3.9/site-packages/sklearn/utils/validation.py:993: DataConversionWarning: A column-vector y was passed when a 1d array was expected. Please change the shape of y to (n_samples, ), for example using ravel().\n",
      "  y = column_or_1d(y, warn=True)\n"
     ]
    },
    {
     "data": {
      "application/vnd.jupyter.widget-view+json": {
       "model_id": "39bd0047eed1433e9b01f34562302868",
       "version_major": 2,
       "version_minor": 0
      },
      "text/plain": [
       "Pandas Apply:   0%|          | 0/2 [00:00<?, ?it/s]"
      ]
     },
     "metadata": {},
     "output_type": "display_data"
    },
    {
     "name": "stderr",
     "output_type": "stream",
     "text": [
      "/N/soft/rhel7/python/3.9.8/lib/python3.9/site-packages/sklearn/utils/validation.py:993: DataConversionWarning: A column-vector y was passed when a 1d array was expected. Please change the shape of y to (n_samples, ), for example using ravel().\n",
      "  y = column_or_1d(y, warn=True)\n",
      "/tmp/ipykernel_24360/2613017783.py:31: RuntimeWarning: invalid value encountered in true_divide\n",
      "  return posterior*weights_matrix/(posterior*weights_matrix).sum()\n"
     ]
    },
    {
     "name": "stdout",
     "output_type": "stream",
     "text": [
      "Converged\n"
     ]
    },
    {
     "name": "stderr",
     "output_type": "stream",
     "text": [
      "/N/soft/rhel7/python/3.9.8/lib/python3.9/site-packages/sklearn/utils/validation.py:993: DataConversionWarning: A column-vector y was passed when a 1d array was expected. Please change the shape of y to (n_samples, ), for example using ravel().\n",
      "  y = column_or_1d(y, warn=True)\n"
     ]
    },
    {
     "data": {
      "application/vnd.jupyter.widget-view+json": {
       "model_id": "7e1bb9cac1b849a6ba01abbfe443567e",
       "version_major": 2,
       "version_minor": 0
      },
      "text/plain": [
       "Pandas Apply:   0%|          | 0/2 [00:00<?, ?it/s]"
      ]
     },
     "metadata": {},
     "output_type": "display_data"
    },
    {
     "name": "stderr",
     "output_type": "stream",
     "text": [
      "/N/soft/rhel7/python/3.9.8/lib/python3.9/site-packages/sklearn/utils/validation.py:993: DataConversionWarning: A column-vector y was passed when a 1d array was expected. Please change the shape of y to (n_samples, ), for example using ravel().\n",
      "  y = column_or_1d(y, warn=True)\n",
      "/tmp/ipykernel_24360/2613017783.py:31: RuntimeWarning: invalid value encountered in true_divide\n",
      "  return posterior*weights_matrix/(posterior*weights_matrix).sum()\n"
     ]
    },
    {
     "name": "stdout",
     "output_type": "stream",
     "text": [
      "Converged\n"
     ]
    },
    {
     "name": "stderr",
     "output_type": "stream",
     "text": [
      "/N/soft/rhel7/python/3.9.8/lib/python3.9/site-packages/sklearn/utils/validation.py:993: DataConversionWarning: A column-vector y was passed when a 1d array was expected. Please change the shape of y to (n_samples, ), for example using ravel().\n",
      "  y = column_or_1d(y, warn=True)\n"
     ]
    },
    {
     "data": {
      "application/vnd.jupyter.widget-view+json": {
       "model_id": "9b6c6bb8775e42b9a24c4418109b4391",
       "version_major": 2,
       "version_minor": 0
      },
      "text/plain": [
       "Pandas Apply:   0%|          | 0/2 [00:00<?, ?it/s]"
      ]
     },
     "metadata": {},
     "output_type": "display_data"
    },
    {
     "name": "stderr",
     "output_type": "stream",
     "text": [
      "/N/soft/rhel7/python/3.9.8/lib/python3.9/site-packages/sklearn/utils/validation.py:993: DataConversionWarning: A column-vector y was passed when a 1d array was expected. Please change the shape of y to (n_samples, ), for example using ravel().\n",
      "  y = column_or_1d(y, warn=True)\n",
      "/tmp/ipykernel_24360/2613017783.py:31: RuntimeWarning: invalid value encountered in true_divide\n",
      "  return posterior*weights_matrix/(posterior*weights_matrix).sum()\n"
     ]
    },
    {
     "name": "stdout",
     "output_type": "stream",
     "text": [
      "Converged\n"
     ]
    },
    {
     "name": "stderr",
     "output_type": "stream",
     "text": [
      "/N/soft/rhel7/python/3.9.8/lib/python3.9/site-packages/sklearn/utils/validation.py:993: DataConversionWarning: A column-vector y was passed when a 1d array was expected. Please change the shape of y to (n_samples, ), for example using ravel().\n",
      "  y = column_or_1d(y, warn=True)\n"
     ]
    },
    {
     "data": {
      "application/vnd.jupyter.widget-view+json": {
       "model_id": "9d735b7c37904b7ca8c72cdf5bd0930a",
       "version_major": 2,
       "version_minor": 0
      },
      "text/plain": [
       "Pandas Apply:   0%|          | 0/2 [00:00<?, ?it/s]"
      ]
     },
     "metadata": {},
     "output_type": "display_data"
    },
    {
     "name": "stderr",
     "output_type": "stream",
     "text": [
      "/N/soft/rhel7/python/3.9.8/lib/python3.9/site-packages/sklearn/utils/validation.py:993: DataConversionWarning: A column-vector y was passed when a 1d array was expected. Please change the shape of y to (n_samples, ), for example using ravel().\n",
      "  y = column_or_1d(y, warn=True)\n",
      "/tmp/ipykernel_24360/2613017783.py:31: RuntimeWarning: invalid value encountered in true_divide\n",
      "  return posterior*weights_matrix/(posterior*weights_matrix).sum()\n"
     ]
    },
    {
     "name": "stdout",
     "output_type": "stream",
     "text": [
      "Converged\n"
     ]
    },
    {
     "name": "stderr",
     "output_type": "stream",
     "text": [
      "/N/soft/rhel7/python/3.9.8/lib/python3.9/site-packages/sklearn/utils/validation.py:993: DataConversionWarning: A column-vector y was passed when a 1d array was expected. Please change the shape of y to (n_samples, ), for example using ravel().\n",
      "  y = column_or_1d(y, warn=True)\n"
     ]
    },
    {
     "data": {
      "application/vnd.jupyter.widget-view+json": {
       "model_id": "8f0b971de00c488088be57f6dcde95ef",
       "version_major": 2,
       "version_minor": 0
      },
      "text/plain": [
       "Pandas Apply:   0%|          | 0/2 [00:00<?, ?it/s]"
      ]
     },
     "metadata": {},
     "output_type": "display_data"
    },
    {
     "name": "stderr",
     "output_type": "stream",
     "text": [
      "/N/soft/rhel7/python/3.9.8/lib/python3.9/site-packages/sklearn/utils/validation.py:993: DataConversionWarning: A column-vector y was passed when a 1d array was expected. Please change the shape of y to (n_samples, ), for example using ravel().\n",
      "  y = column_or_1d(y, warn=True)\n",
      "/tmp/ipykernel_24360/2613017783.py:31: RuntimeWarning: invalid value encountered in true_divide\n",
      "  return posterior*weights_matrix/(posterior*weights_matrix).sum()\n"
     ]
    },
    {
     "name": "stdout",
     "output_type": "stream",
     "text": [
      "Converged\n"
     ]
    },
    {
     "name": "stderr",
     "output_type": "stream",
     "text": [
      "/N/soft/rhel7/python/3.9.8/lib/python3.9/site-packages/sklearn/utils/validation.py:993: DataConversionWarning: A column-vector y was passed when a 1d array was expected. Please change the shape of y to (n_samples, ), for example using ravel().\n",
      "  y = column_or_1d(y, warn=True)\n"
     ]
    },
    {
     "data": {
      "application/vnd.jupyter.widget-view+json": {
       "model_id": "9ebcb04afa454e83b5df7114a8d43556",
       "version_major": 2,
       "version_minor": 0
      },
      "text/plain": [
       "Pandas Apply:   0%|          | 0/2 [00:00<?, ?it/s]"
      ]
     },
     "metadata": {},
     "output_type": "display_data"
    },
    {
     "name": "stderr",
     "output_type": "stream",
     "text": [
      "/N/soft/rhel7/python/3.9.8/lib/python3.9/site-packages/sklearn/utils/validation.py:993: DataConversionWarning: A column-vector y was passed when a 1d array was expected. Please change the shape of y to (n_samples, ), for example using ravel().\n",
      "  y = column_or_1d(y, warn=True)\n",
      "/tmp/ipykernel_24360/2613017783.py:31: RuntimeWarning: invalid value encountered in true_divide\n",
      "  return posterior*weights_matrix/(posterior*weights_matrix).sum()\n"
     ]
    },
    {
     "name": "stdout",
     "output_type": "stream",
     "text": [
      "Converged\n"
     ]
    },
    {
     "name": "stderr",
     "output_type": "stream",
     "text": [
      "/N/soft/rhel7/python/3.9.8/lib/python3.9/site-packages/sklearn/utils/validation.py:993: DataConversionWarning: A column-vector y was passed when a 1d array was expected. Please change the shape of y to (n_samples, ), for example using ravel().\n",
      "  y = column_or_1d(y, warn=True)\n"
     ]
    },
    {
     "data": {
      "application/vnd.jupyter.widget-view+json": {
       "model_id": "eff03596f202420fa41c2f9453946044",
       "version_major": 2,
       "version_minor": 0
      },
      "text/plain": [
       "Pandas Apply:   0%|          | 0/2 [00:00<?, ?it/s]"
      ]
     },
     "metadata": {},
     "output_type": "display_data"
    },
    {
     "name": "stderr",
     "output_type": "stream",
     "text": [
      "/N/soft/rhel7/python/3.9.8/lib/python3.9/site-packages/sklearn/utils/validation.py:993: DataConversionWarning: A column-vector y was passed when a 1d array was expected. Please change the shape of y to (n_samples, ), for example using ravel().\n",
      "  y = column_or_1d(y, warn=True)\n",
      "/tmp/ipykernel_24360/2613017783.py:31: RuntimeWarning: invalid value encountered in true_divide\n",
      "  return posterior*weights_matrix/(posterior*weights_matrix).sum()\n"
     ]
    },
    {
     "name": "stdout",
     "output_type": "stream",
     "text": [
      "Converged\n"
     ]
    },
    {
     "name": "stderr",
     "output_type": "stream",
     "text": [
      "/N/soft/rhel7/python/3.9.8/lib/python3.9/site-packages/sklearn/utils/validation.py:993: DataConversionWarning: A column-vector y was passed when a 1d array was expected. Please change the shape of y to (n_samples, ), for example using ravel().\n",
      "  y = column_or_1d(y, warn=True)\n"
     ]
    },
    {
     "data": {
      "application/vnd.jupyter.widget-view+json": {
       "model_id": "975d55c63c0740068363d8034f6e5486",
       "version_major": 2,
       "version_minor": 0
      },
      "text/plain": [
       "Pandas Apply:   0%|          | 0/2 [00:00<?, ?it/s]"
      ]
     },
     "metadata": {},
     "output_type": "display_data"
    },
    {
     "name": "stderr",
     "output_type": "stream",
     "text": [
      "/N/soft/rhel7/python/3.9.8/lib/python3.9/site-packages/sklearn/utils/validation.py:993: DataConversionWarning: A column-vector y was passed when a 1d array was expected. Please change the shape of y to (n_samples, ), for example using ravel().\n",
      "  y = column_or_1d(y, warn=True)\n",
      "/tmp/ipykernel_24360/2613017783.py:31: RuntimeWarning: invalid value encountered in true_divide\n",
      "  return posterior*weights_matrix/(posterior*weights_matrix).sum()\n"
     ]
    },
    {
     "name": "stdout",
     "output_type": "stream",
     "text": [
      "Converged\n"
     ]
    },
    {
     "name": "stderr",
     "output_type": "stream",
     "text": [
      "/N/soft/rhel7/python/3.9.8/lib/python3.9/site-packages/sklearn/utils/validation.py:993: DataConversionWarning: A column-vector y was passed when a 1d array was expected. Please change the shape of y to (n_samples, ), for example using ravel().\n",
      "  y = column_or_1d(y, warn=True)\n"
     ]
    },
    {
     "data": {
      "application/vnd.jupyter.widget-view+json": {
       "model_id": "fa383ca48a6e480a894195e27e1dcb6b",
       "version_major": 2,
       "version_minor": 0
      },
      "text/plain": [
       "Pandas Apply:   0%|          | 0/2 [00:00<?, ?it/s]"
      ]
     },
     "metadata": {},
     "output_type": "display_data"
    },
    {
     "name": "stderr",
     "output_type": "stream",
     "text": [
      "/N/soft/rhel7/python/3.9.8/lib/python3.9/site-packages/sklearn/utils/validation.py:993: DataConversionWarning: A column-vector y was passed when a 1d array was expected. Please change the shape of y to (n_samples, ), for example using ravel().\n",
      "  y = column_or_1d(y, warn=True)\n",
      "/tmp/ipykernel_24360/2613017783.py:31: RuntimeWarning: invalid value encountered in true_divide\n",
      "  return posterior*weights_matrix/(posterior*weights_matrix).sum()\n"
     ]
    },
    {
     "name": "stdout",
     "output_type": "stream",
     "text": [
      "Converged\n"
     ]
    },
    {
     "name": "stderr",
     "output_type": "stream",
     "text": [
      "/N/soft/rhel7/python/3.9.8/lib/python3.9/site-packages/sklearn/utils/validation.py:993: DataConversionWarning: A column-vector y was passed when a 1d array was expected. Please change the shape of y to (n_samples, ), for example using ravel().\n",
      "  y = column_or_1d(y, warn=True)\n"
     ]
    },
    {
     "data": {
      "application/vnd.jupyter.widget-view+json": {
       "model_id": "1de9618cfb5f43748ef7c1d6f1fe66a5",
       "version_major": 2,
       "version_minor": 0
      },
      "text/plain": [
       "Pandas Apply:   0%|          | 0/2 [00:00<?, ?it/s]"
      ]
     },
     "metadata": {},
     "output_type": "display_data"
    },
    {
     "name": "stderr",
     "output_type": "stream",
     "text": [
      "/N/soft/rhel7/python/3.9.8/lib/python3.9/site-packages/sklearn/utils/validation.py:993: DataConversionWarning: A column-vector y was passed when a 1d array was expected. Please change the shape of y to (n_samples, ), for example using ravel().\n",
      "  y = column_or_1d(y, warn=True)\n",
      "/tmp/ipykernel_24360/2613017783.py:31: RuntimeWarning: invalid value encountered in true_divide\n",
      "  return posterior*weights_matrix/(posterior*weights_matrix).sum()\n"
     ]
    },
    {
     "name": "stdout",
     "output_type": "stream",
     "text": [
      "Converged\n"
     ]
    },
    {
     "name": "stderr",
     "output_type": "stream",
     "text": [
      "/N/soft/rhel7/python/3.9.8/lib/python3.9/site-packages/sklearn/utils/validation.py:993: DataConversionWarning: A column-vector y was passed when a 1d array was expected. Please change the shape of y to (n_samples, ), for example using ravel().\n",
      "  y = column_or_1d(y, warn=True)\n"
     ]
    },
    {
     "data": {
      "application/vnd.jupyter.widget-view+json": {
       "model_id": "c8049b832b984d13a64a5626499e74de",
       "version_major": 2,
       "version_minor": 0
      },
      "text/plain": [
       "Pandas Apply:   0%|          | 0/2 [00:00<?, ?it/s]"
      ]
     },
     "metadata": {},
     "output_type": "display_data"
    },
    {
     "name": "stderr",
     "output_type": "stream",
     "text": [
      "/N/soft/rhel7/python/3.9.8/lib/python3.9/site-packages/sklearn/utils/validation.py:993: DataConversionWarning: A column-vector y was passed when a 1d array was expected. Please change the shape of y to (n_samples, ), for example using ravel().\n",
      "  y = column_or_1d(y, warn=True)\n",
      "/tmp/ipykernel_24360/2613017783.py:31: RuntimeWarning: invalid value encountered in true_divide\n",
      "  return posterior*weights_matrix/(posterior*weights_matrix).sum()\n"
     ]
    },
    {
     "name": "stdout",
     "output_type": "stream",
     "text": [
      "Converged\n"
     ]
    },
    {
     "name": "stderr",
     "output_type": "stream",
     "text": [
      "/N/soft/rhel7/python/3.9.8/lib/python3.9/site-packages/sklearn/utils/validation.py:993: DataConversionWarning: A column-vector y was passed when a 1d array was expected. Please change the shape of y to (n_samples, ), for example using ravel().\n",
      "  y = column_or_1d(y, warn=True)\n"
     ]
    },
    {
     "data": {
      "application/vnd.jupyter.widget-view+json": {
       "model_id": "15f560ae2d504d38bf4ef4d70d8abb93",
       "version_major": 2,
       "version_minor": 0
      },
      "text/plain": [
       "Pandas Apply:   0%|          | 0/2 [00:00<?, ?it/s]"
      ]
     },
     "metadata": {},
     "output_type": "display_data"
    },
    {
     "name": "stderr",
     "output_type": "stream",
     "text": [
      "/N/soft/rhel7/python/3.9.8/lib/python3.9/site-packages/sklearn/utils/validation.py:993: DataConversionWarning: A column-vector y was passed when a 1d array was expected. Please change the shape of y to (n_samples, ), for example using ravel().\n",
      "  y = column_or_1d(y, warn=True)\n",
      "/tmp/ipykernel_24360/2613017783.py:31: RuntimeWarning: invalid value encountered in true_divide\n",
      "  return posterior*weights_matrix/(posterior*weights_matrix).sum()\n"
     ]
    },
    {
     "name": "stdout",
     "output_type": "stream",
     "text": [
      "Converged\n"
     ]
    },
    {
     "name": "stderr",
     "output_type": "stream",
     "text": [
      "/N/soft/rhel7/python/3.9.8/lib/python3.9/site-packages/sklearn/utils/validation.py:993: DataConversionWarning: A column-vector y was passed when a 1d array was expected. Please change the shape of y to (n_samples, ), for example using ravel().\n",
      "  y = column_or_1d(y, warn=True)\n"
     ]
    },
    {
     "data": {
      "application/vnd.jupyter.widget-view+json": {
       "model_id": "63fa44ea04fb46108c1dd9cce9ce8065",
       "version_major": 2,
       "version_minor": 0
      },
      "text/plain": [
       "Pandas Apply:   0%|          | 0/2 [00:00<?, ?it/s]"
      ]
     },
     "metadata": {},
     "output_type": "display_data"
    },
    {
     "name": "stderr",
     "output_type": "stream",
     "text": [
      "/N/soft/rhel7/python/3.9.8/lib/python3.9/site-packages/sklearn/utils/validation.py:993: DataConversionWarning: A column-vector y was passed when a 1d array was expected. Please change the shape of y to (n_samples, ), for example using ravel().\n",
      "  y = column_or_1d(y, warn=True)\n",
      "/tmp/ipykernel_24360/2613017783.py:31: RuntimeWarning: invalid value encountered in true_divide\n",
      "  return posterior*weights_matrix/(posterior*weights_matrix).sum()\n"
     ]
    },
    {
     "name": "stdout",
     "output_type": "stream",
     "text": [
      "Converged\n"
     ]
    },
    {
     "name": "stderr",
     "output_type": "stream",
     "text": [
      "/N/soft/rhel7/python/3.9.8/lib/python3.9/site-packages/sklearn/utils/validation.py:993: DataConversionWarning: A column-vector y was passed when a 1d array was expected. Please change the shape of y to (n_samples, ), for example using ravel().\n",
      "  y = column_or_1d(y, warn=True)\n"
     ]
    },
    {
     "data": {
      "application/vnd.jupyter.widget-view+json": {
       "model_id": "f01c6bb90fce4986b9c123201ae57355",
       "version_major": 2,
       "version_minor": 0
      },
      "text/plain": [
       "Pandas Apply:   0%|          | 0/2 [00:00<?, ?it/s]"
      ]
     },
     "metadata": {},
     "output_type": "display_data"
    },
    {
     "name": "stderr",
     "output_type": "stream",
     "text": [
      "/N/soft/rhel7/python/3.9.8/lib/python3.9/site-packages/sklearn/utils/validation.py:993: DataConversionWarning: A column-vector y was passed when a 1d array was expected. Please change the shape of y to (n_samples, ), for example using ravel().\n",
      "  y = column_or_1d(y, warn=True)\n",
      "/tmp/ipykernel_24360/2613017783.py:31: RuntimeWarning: invalid value encountered in true_divide\n",
      "  return posterior*weights_matrix/(posterior*weights_matrix).sum()\n"
     ]
    },
    {
     "name": "stdout",
     "output_type": "stream",
     "text": [
      "Converged\n"
     ]
    },
    {
     "name": "stderr",
     "output_type": "stream",
     "text": [
      "/N/soft/rhel7/python/3.9.8/lib/python3.9/site-packages/sklearn/utils/validation.py:993: DataConversionWarning: A column-vector y was passed when a 1d array was expected. Please change the shape of y to (n_samples, ), for example using ravel().\n",
      "  y = column_or_1d(y, warn=True)\n"
     ]
    },
    {
     "data": {
      "application/vnd.jupyter.widget-view+json": {
       "model_id": "92c72dc870534bf8954268397992f47d",
       "version_major": 2,
       "version_minor": 0
      },
      "text/plain": [
       "Pandas Apply:   0%|          | 0/2 [00:00<?, ?it/s]"
      ]
     },
     "metadata": {},
     "output_type": "display_data"
    },
    {
     "name": "stderr",
     "output_type": "stream",
     "text": [
      "/N/soft/rhel7/python/3.9.8/lib/python3.9/site-packages/sklearn/utils/validation.py:993: DataConversionWarning: A column-vector y was passed when a 1d array was expected. Please change the shape of y to (n_samples, ), for example using ravel().\n",
      "  y = column_or_1d(y, warn=True)\n",
      "/tmp/ipykernel_24360/2613017783.py:31: RuntimeWarning: invalid value encountered in true_divide\n",
      "  return posterior*weights_matrix/(posterior*weights_matrix).sum()\n"
     ]
    },
    {
     "name": "stdout",
     "output_type": "stream",
     "text": [
      "Converged\n"
     ]
    },
    {
     "name": "stderr",
     "output_type": "stream",
     "text": [
      "/N/soft/rhel7/python/3.9.8/lib/python3.9/site-packages/sklearn/utils/validation.py:993: DataConversionWarning: A column-vector y was passed when a 1d array was expected. Please change the shape of y to (n_samples, ), for example using ravel().\n",
      "  y = column_or_1d(y, warn=True)\n"
     ]
    },
    {
     "data": {
      "application/vnd.jupyter.widget-view+json": {
       "model_id": "fb0703189fba443ba0051c53df63b242",
       "version_major": 2,
       "version_minor": 0
      },
      "text/plain": [
       "Pandas Apply:   0%|          | 0/2 [00:00<?, ?it/s]"
      ]
     },
     "metadata": {},
     "output_type": "display_data"
    },
    {
     "name": "stderr",
     "output_type": "stream",
     "text": [
      "/N/soft/rhel7/python/3.9.8/lib/python3.9/site-packages/sklearn/utils/validation.py:993: DataConversionWarning: A column-vector y was passed when a 1d array was expected. Please change the shape of y to (n_samples, ), for example using ravel().\n",
      "  y = column_or_1d(y, warn=True)\n",
      "/tmp/ipykernel_24360/2613017783.py:31: RuntimeWarning: invalid value encountered in true_divide\n",
      "  return posterior*weights_matrix/(posterior*weights_matrix).sum()\n"
     ]
    },
    {
     "name": "stdout",
     "output_type": "stream",
     "text": [
      "Converged\n"
     ]
    },
    {
     "name": "stderr",
     "output_type": "stream",
     "text": [
      "/N/soft/rhel7/python/3.9.8/lib/python3.9/site-packages/sklearn/utils/validation.py:993: DataConversionWarning: A column-vector y was passed when a 1d array was expected. Please change the shape of y to (n_samples, ), for example using ravel().\n",
      "  y = column_or_1d(y, warn=True)\n"
     ]
    },
    {
     "data": {
      "application/vnd.jupyter.widget-view+json": {
       "model_id": "e3a00e00a793418fbbad144912932412",
       "version_major": 2,
       "version_minor": 0
      },
      "text/plain": [
       "Pandas Apply:   0%|          | 0/2 [00:00<?, ?it/s]"
      ]
     },
     "metadata": {},
     "output_type": "display_data"
    },
    {
     "name": "stderr",
     "output_type": "stream",
     "text": [
      "/N/soft/rhel7/python/3.9.8/lib/python3.9/site-packages/sklearn/utils/validation.py:993: DataConversionWarning: A column-vector y was passed when a 1d array was expected. Please change the shape of y to (n_samples, ), for example using ravel().\n",
      "  y = column_or_1d(y, warn=True)\n",
      "/tmp/ipykernel_24360/2613017783.py:31: RuntimeWarning: invalid value encountered in true_divide\n",
      "  return posterior*weights_matrix/(posterior*weights_matrix).sum()\n"
     ]
    },
    {
     "name": "stdout",
     "output_type": "stream",
     "text": [
      "Converged\n"
     ]
    },
    {
     "name": "stderr",
     "output_type": "stream",
     "text": [
      "/N/soft/rhel7/python/3.9.8/lib/python3.9/site-packages/sklearn/utils/validation.py:993: DataConversionWarning: A column-vector y was passed when a 1d array was expected. Please change the shape of y to (n_samples, ), for example using ravel().\n",
      "  y = column_or_1d(y, warn=True)\n"
     ]
    },
    {
     "data": {
      "application/vnd.jupyter.widget-view+json": {
       "model_id": "640a93d33731480c86f187cd3edd8dfd",
       "version_major": 2,
       "version_minor": 0
      },
      "text/plain": [
       "Pandas Apply:   0%|          | 0/3 [00:00<?, ?it/s]"
      ]
     },
     "metadata": {},
     "output_type": "display_data"
    },
    {
     "name": "stderr",
     "output_type": "stream",
     "text": [
      "/N/soft/rhel7/python/3.9.8/lib/python3.9/site-packages/sklearn/utils/validation.py:993: DataConversionWarning: A column-vector y was passed when a 1d array was expected. Please change the shape of y to (n_samples, ), for example using ravel().\n",
      "  y = column_or_1d(y, warn=True)\n",
      "/tmp/ipykernel_24360/2613017783.py:31: RuntimeWarning: invalid value encountered in true_divide\n",
      "  return posterior*weights_matrix/(posterior*weights_matrix).sum()\n"
     ]
    },
    {
     "name": "stdout",
     "output_type": "stream",
     "text": [
      "Converged\n"
     ]
    },
    {
     "name": "stderr",
     "output_type": "stream",
     "text": [
      "/N/soft/rhel7/python/3.9.8/lib/python3.9/site-packages/sklearn/utils/validation.py:993: DataConversionWarning: A column-vector y was passed when a 1d array was expected. Please change the shape of y to (n_samples, ), for example using ravel().\n",
      "  y = column_or_1d(y, warn=True)\n"
     ]
    },
    {
     "data": {
      "application/vnd.jupyter.widget-view+json": {
       "model_id": "4f7a84f444db49f796c5c3d6fdec4971",
       "version_major": 2,
       "version_minor": 0
      },
      "text/plain": [
       "Pandas Apply:   0%|          | 0/3 [00:00<?, ?it/s]"
      ]
     },
     "metadata": {},
     "output_type": "display_data"
    },
    {
     "name": "stderr",
     "output_type": "stream",
     "text": [
      "/N/soft/rhel7/python/3.9.8/lib/python3.9/site-packages/sklearn/utils/validation.py:993: DataConversionWarning: A column-vector y was passed when a 1d array was expected. Please change the shape of y to (n_samples, ), for example using ravel().\n",
      "  y = column_or_1d(y, warn=True)\n",
      "/tmp/ipykernel_24360/2613017783.py:31: RuntimeWarning: invalid value encountered in true_divide\n",
      "  return posterior*weights_matrix/(posterior*weights_matrix).sum()\n"
     ]
    },
    {
     "name": "stdout",
     "output_type": "stream",
     "text": [
      "Converged\n"
     ]
    },
    {
     "name": "stderr",
     "output_type": "stream",
     "text": [
      "/N/soft/rhel7/python/3.9.8/lib/python3.9/site-packages/sklearn/utils/validation.py:993: DataConversionWarning: A column-vector y was passed when a 1d array was expected. Please change the shape of y to (n_samples, ), for example using ravel().\n",
      "  y = column_or_1d(y, warn=True)\n"
     ]
    },
    {
     "data": {
      "application/vnd.jupyter.widget-view+json": {
       "model_id": "db25a79fc2854ce1baa95cca26a186e3",
       "version_major": 2,
       "version_minor": 0
      },
      "text/plain": [
       "Pandas Apply:   0%|          | 0/3 [00:00<?, ?it/s]"
      ]
     },
     "metadata": {},
     "output_type": "display_data"
    },
    {
     "name": "stderr",
     "output_type": "stream",
     "text": [
      "/N/soft/rhel7/python/3.9.8/lib/python3.9/site-packages/sklearn/utils/validation.py:993: DataConversionWarning: A column-vector y was passed when a 1d array was expected. Please change the shape of y to (n_samples, ), for example using ravel().\n",
      "  y = column_or_1d(y, warn=True)\n",
      "/tmp/ipykernel_24360/2613017783.py:31: RuntimeWarning: invalid value encountered in true_divide\n",
      "  return posterior*weights_matrix/(posterior*weights_matrix).sum()\n"
     ]
    },
    {
     "name": "stdout",
     "output_type": "stream",
     "text": [
      "Converged\n"
     ]
    },
    {
     "name": "stderr",
     "output_type": "stream",
     "text": [
      "/N/soft/rhel7/python/3.9.8/lib/python3.9/site-packages/sklearn/utils/validation.py:993: DataConversionWarning: A column-vector y was passed when a 1d array was expected. Please change the shape of y to (n_samples, ), for example using ravel().\n",
      "  y = column_or_1d(y, warn=True)\n"
     ]
    },
    {
     "data": {
      "application/vnd.jupyter.widget-view+json": {
       "model_id": "4d2184c264c042dcbe6c41073bbb33a1",
       "version_major": 2,
       "version_minor": 0
      },
      "text/plain": [
       "Pandas Apply:   0%|          | 0/3 [00:00<?, ?it/s]"
      ]
     },
     "metadata": {},
     "output_type": "display_data"
    },
    {
     "name": "stderr",
     "output_type": "stream",
     "text": [
      "/N/soft/rhel7/python/3.9.8/lib/python3.9/site-packages/sklearn/utils/validation.py:993: DataConversionWarning: A column-vector y was passed when a 1d array was expected. Please change the shape of y to (n_samples, ), for example using ravel().\n",
      "  y = column_or_1d(y, warn=True)\n",
      "/tmp/ipykernel_24360/2613017783.py:31: RuntimeWarning: invalid value encountered in true_divide\n",
      "  return posterior*weights_matrix/(posterior*weights_matrix).sum()\n"
     ]
    },
    {
     "name": "stdout",
     "output_type": "stream",
     "text": [
      "Converged\n"
     ]
    },
    {
     "name": "stderr",
     "output_type": "stream",
     "text": [
      "/N/soft/rhel7/python/3.9.8/lib/python3.9/site-packages/sklearn/utils/validation.py:993: DataConversionWarning: A column-vector y was passed when a 1d array was expected. Please change the shape of y to (n_samples, ), for example using ravel().\n",
      "  y = column_or_1d(y, warn=True)\n"
     ]
    },
    {
     "data": {
      "application/vnd.jupyter.widget-view+json": {
       "model_id": "5b306e2c8d1241639ea0cc8127df8880",
       "version_major": 2,
       "version_minor": 0
      },
      "text/plain": [
       "Pandas Apply:   0%|          | 0/3 [00:00<?, ?it/s]"
      ]
     },
     "metadata": {},
     "output_type": "display_data"
    },
    {
     "name": "stderr",
     "output_type": "stream",
     "text": [
      "/N/soft/rhel7/python/3.9.8/lib/python3.9/site-packages/sklearn/utils/validation.py:993: DataConversionWarning: A column-vector y was passed when a 1d array was expected. Please change the shape of y to (n_samples, ), for example using ravel().\n",
      "  y = column_or_1d(y, warn=True)\n",
      "/tmp/ipykernel_24360/2613017783.py:31: RuntimeWarning: invalid value encountered in true_divide\n",
      "  return posterior*weights_matrix/(posterior*weights_matrix).sum()\n"
     ]
    },
    {
     "name": "stdout",
     "output_type": "stream",
     "text": [
      "Converged\n"
     ]
    },
    {
     "name": "stderr",
     "output_type": "stream",
     "text": [
      "/N/soft/rhel7/python/3.9.8/lib/python3.9/site-packages/sklearn/utils/validation.py:993: DataConversionWarning: A column-vector y was passed when a 1d array was expected. Please change the shape of y to (n_samples, ), for example using ravel().\n",
      "  y = column_or_1d(y, warn=True)\n"
     ]
    },
    {
     "data": {
      "application/vnd.jupyter.widget-view+json": {
       "model_id": "dbec38125d5547ada6dc88c8bb32f397",
       "version_major": 2,
       "version_minor": 0
      },
      "text/plain": [
       "Pandas Apply:   0%|          | 0/3 [00:00<?, ?it/s]"
      ]
     },
     "metadata": {},
     "output_type": "display_data"
    },
    {
     "name": "stderr",
     "output_type": "stream",
     "text": [
      "/N/soft/rhel7/python/3.9.8/lib/python3.9/site-packages/sklearn/utils/validation.py:993: DataConversionWarning: A column-vector y was passed when a 1d array was expected. Please change the shape of y to (n_samples, ), for example using ravel().\n",
      "  y = column_or_1d(y, warn=True)\n",
      "/tmp/ipykernel_24360/2613017783.py:31: RuntimeWarning: invalid value encountered in true_divide\n",
      "  return posterior*weights_matrix/(posterior*weights_matrix).sum()\n"
     ]
    },
    {
     "name": "stdout",
     "output_type": "stream",
     "text": [
      "Converged\n"
     ]
    },
    {
     "name": "stderr",
     "output_type": "stream",
     "text": [
      "/N/soft/rhel7/python/3.9.8/lib/python3.9/site-packages/sklearn/utils/validation.py:993: DataConversionWarning: A column-vector y was passed when a 1d array was expected. Please change the shape of y to (n_samples, ), for example using ravel().\n",
      "  y = column_or_1d(y, warn=True)\n"
     ]
    },
    {
     "data": {
      "application/vnd.jupyter.widget-view+json": {
       "model_id": "24a3c8664c7d4e37bd83525c0fb430b8",
       "version_major": 2,
       "version_minor": 0
      },
      "text/plain": [
       "Pandas Apply:   0%|          | 0/3 [00:00<?, ?it/s]"
      ]
     },
     "metadata": {},
     "output_type": "display_data"
    },
    {
     "name": "stderr",
     "output_type": "stream",
     "text": [
      "/N/soft/rhel7/python/3.9.8/lib/python3.9/site-packages/sklearn/utils/validation.py:993: DataConversionWarning: A column-vector y was passed when a 1d array was expected. Please change the shape of y to (n_samples, ), for example using ravel().\n",
      "  y = column_or_1d(y, warn=True)\n",
      "/tmp/ipykernel_24360/2613017783.py:31: RuntimeWarning: invalid value encountered in true_divide\n",
      "  return posterior*weights_matrix/(posterior*weights_matrix).sum()\n"
     ]
    },
    {
     "name": "stdout",
     "output_type": "stream",
     "text": [
      "Converged\n"
     ]
    },
    {
     "name": "stderr",
     "output_type": "stream",
     "text": [
      "/N/soft/rhel7/python/3.9.8/lib/python3.9/site-packages/sklearn/utils/validation.py:993: DataConversionWarning: A column-vector y was passed when a 1d array was expected. Please change the shape of y to (n_samples, ), for example using ravel().\n",
      "  y = column_or_1d(y, warn=True)\n"
     ]
    },
    {
     "data": {
      "application/vnd.jupyter.widget-view+json": {
       "model_id": "32431110aeea4a4ba3f9dd6e629df236",
       "version_major": 2,
       "version_minor": 0
      },
      "text/plain": [
       "Pandas Apply:   0%|          | 0/3 [00:00<?, ?it/s]"
      ]
     },
     "metadata": {},
     "output_type": "display_data"
    },
    {
     "name": "stderr",
     "output_type": "stream",
     "text": [
      "/N/soft/rhel7/python/3.9.8/lib/python3.9/site-packages/sklearn/utils/validation.py:993: DataConversionWarning: A column-vector y was passed when a 1d array was expected. Please change the shape of y to (n_samples, ), for example using ravel().\n",
      "  y = column_or_1d(y, warn=True)\n",
      "/tmp/ipykernel_24360/2613017783.py:31: RuntimeWarning: invalid value encountered in true_divide\n",
      "  return posterior*weights_matrix/(posterior*weights_matrix).sum()\n"
     ]
    },
    {
     "name": "stdout",
     "output_type": "stream",
     "text": [
      "Converged\n"
     ]
    },
    {
     "name": "stderr",
     "output_type": "stream",
     "text": [
      "/N/soft/rhel7/python/3.9.8/lib/python3.9/site-packages/sklearn/utils/validation.py:993: DataConversionWarning: A column-vector y was passed when a 1d array was expected. Please change the shape of y to (n_samples, ), for example using ravel().\n",
      "  y = column_or_1d(y, warn=True)\n"
     ]
    },
    {
     "data": {
      "application/vnd.jupyter.widget-view+json": {
       "model_id": "b0ff5fd77cfd437b88376d230b18ee2f",
       "version_major": 2,
       "version_minor": 0
      },
      "text/plain": [
       "Pandas Apply:   0%|          | 0/3 [00:00<?, ?it/s]"
      ]
     },
     "metadata": {},
     "output_type": "display_data"
    },
    {
     "name": "stderr",
     "output_type": "stream",
     "text": [
      "/N/soft/rhel7/python/3.9.8/lib/python3.9/site-packages/sklearn/utils/validation.py:993: DataConversionWarning: A column-vector y was passed when a 1d array was expected. Please change the shape of y to (n_samples, ), for example using ravel().\n",
      "  y = column_or_1d(y, warn=True)\n",
      "/tmp/ipykernel_24360/2613017783.py:31: RuntimeWarning: invalid value encountered in true_divide\n",
      "  return posterior*weights_matrix/(posterior*weights_matrix).sum()\n"
     ]
    },
    {
     "name": "stdout",
     "output_type": "stream",
     "text": [
      "Converged\n"
     ]
    },
    {
     "name": "stderr",
     "output_type": "stream",
     "text": [
      "/N/soft/rhel7/python/3.9.8/lib/python3.9/site-packages/sklearn/utils/validation.py:993: DataConversionWarning: A column-vector y was passed when a 1d array was expected. Please change the shape of y to (n_samples, ), for example using ravel().\n",
      "  y = column_or_1d(y, warn=True)\n"
     ]
    },
    {
     "data": {
      "application/vnd.jupyter.widget-view+json": {
       "model_id": "2f0013032f4f4a6cbaaaea50e3c3e5c6",
       "version_major": 2,
       "version_minor": 0
      },
      "text/plain": [
       "Pandas Apply:   0%|          | 0/3 [00:00<?, ?it/s]"
      ]
     },
     "metadata": {},
     "output_type": "display_data"
    },
    {
     "name": "stderr",
     "output_type": "stream",
     "text": [
      "/N/soft/rhel7/python/3.9.8/lib/python3.9/site-packages/sklearn/utils/validation.py:993: DataConversionWarning: A column-vector y was passed when a 1d array was expected. Please change the shape of y to (n_samples, ), for example using ravel().\n",
      "  y = column_or_1d(y, warn=True)\n",
      "/tmp/ipykernel_24360/2613017783.py:31: RuntimeWarning: invalid value encountered in true_divide\n",
      "  return posterior*weights_matrix/(posterior*weights_matrix).sum()\n"
     ]
    },
    {
     "name": "stdout",
     "output_type": "stream",
     "text": [
      "Converged\n"
     ]
    },
    {
     "name": "stderr",
     "output_type": "stream",
     "text": [
      "/N/soft/rhel7/python/3.9.8/lib/python3.9/site-packages/sklearn/utils/validation.py:993: DataConversionWarning: A column-vector y was passed when a 1d array was expected. Please change the shape of y to (n_samples, ), for example using ravel().\n",
      "  y = column_or_1d(y, warn=True)\n"
     ]
    },
    {
     "data": {
      "application/vnd.jupyter.widget-view+json": {
       "model_id": "8b7e114744384beda9b39c71bc35e9b8",
       "version_major": 2,
       "version_minor": 0
      },
      "text/plain": [
       "Pandas Apply:   0%|          | 0/3 [00:00<?, ?it/s]"
      ]
     },
     "metadata": {},
     "output_type": "display_data"
    },
    {
     "name": "stderr",
     "output_type": "stream",
     "text": [
      "/N/soft/rhel7/python/3.9.8/lib/python3.9/site-packages/sklearn/utils/validation.py:993: DataConversionWarning: A column-vector y was passed when a 1d array was expected. Please change the shape of y to (n_samples, ), for example using ravel().\n",
      "  y = column_or_1d(y, warn=True)\n",
      "/tmp/ipykernel_24360/2613017783.py:31: RuntimeWarning: invalid value encountered in true_divide\n",
      "  return posterior*weights_matrix/(posterior*weights_matrix).sum()\n"
     ]
    },
    {
     "name": "stdout",
     "output_type": "stream",
     "text": [
      "Converged\n"
     ]
    },
    {
     "name": "stderr",
     "output_type": "stream",
     "text": [
      "/N/soft/rhel7/python/3.9.8/lib/python3.9/site-packages/sklearn/utils/validation.py:993: DataConversionWarning: A column-vector y was passed when a 1d array was expected. Please change the shape of y to (n_samples, ), for example using ravel().\n",
      "  y = column_or_1d(y, warn=True)\n"
     ]
    },
    {
     "data": {
      "application/vnd.jupyter.widget-view+json": {
       "model_id": "537a1460bdbc4e18ba05d2d84704353f",
       "version_major": 2,
       "version_minor": 0
      },
      "text/plain": [
       "Pandas Apply:   0%|          | 0/3 [00:00<?, ?it/s]"
      ]
     },
     "metadata": {},
     "output_type": "display_data"
    },
    {
     "name": "stderr",
     "output_type": "stream",
     "text": [
      "/N/soft/rhel7/python/3.9.8/lib/python3.9/site-packages/sklearn/utils/validation.py:993: DataConversionWarning: A column-vector y was passed when a 1d array was expected. Please change the shape of y to (n_samples, ), for example using ravel().\n",
      "  y = column_or_1d(y, warn=True)\n",
      "/tmp/ipykernel_24360/2613017783.py:31: RuntimeWarning: invalid value encountered in true_divide\n",
      "  return posterior*weights_matrix/(posterior*weights_matrix).sum()\n"
     ]
    },
    {
     "name": "stdout",
     "output_type": "stream",
     "text": [
      "Converged\n"
     ]
    },
    {
     "name": "stderr",
     "output_type": "stream",
     "text": [
      "/N/soft/rhel7/python/3.9.8/lib/python3.9/site-packages/sklearn/utils/validation.py:993: DataConversionWarning: A column-vector y was passed when a 1d array was expected. Please change the shape of y to (n_samples, ), for example using ravel().\n",
      "  y = column_or_1d(y, warn=True)\n"
     ]
    },
    {
     "data": {
      "application/vnd.jupyter.widget-view+json": {
       "model_id": "3714814360f04c109b95954cf0114bcb",
       "version_major": 2,
       "version_minor": 0
      },
      "text/plain": [
       "Pandas Apply:   0%|          | 0/3 [00:00<?, ?it/s]"
      ]
     },
     "metadata": {},
     "output_type": "display_data"
    },
    {
     "name": "stderr",
     "output_type": "stream",
     "text": [
      "/N/soft/rhel7/python/3.9.8/lib/python3.9/site-packages/sklearn/utils/validation.py:993: DataConversionWarning: A column-vector y was passed when a 1d array was expected. Please change the shape of y to (n_samples, ), for example using ravel().\n",
      "  y = column_or_1d(y, warn=True)\n",
      "/tmp/ipykernel_24360/2613017783.py:31: RuntimeWarning: invalid value encountered in true_divide\n",
      "  return posterior*weights_matrix/(posterior*weights_matrix).sum()\n"
     ]
    },
    {
     "name": "stdout",
     "output_type": "stream",
     "text": [
      "Converged\n"
     ]
    },
    {
     "name": "stderr",
     "output_type": "stream",
     "text": [
      "/N/soft/rhel7/python/3.9.8/lib/python3.9/site-packages/sklearn/utils/validation.py:993: DataConversionWarning: A column-vector y was passed when a 1d array was expected. Please change the shape of y to (n_samples, ), for example using ravel().\n",
      "  y = column_or_1d(y, warn=True)\n"
     ]
    },
    {
     "data": {
      "application/vnd.jupyter.widget-view+json": {
       "model_id": "81e1f9e0b01347dabf7b7cbd6687c6fd",
       "version_major": 2,
       "version_minor": 0
      },
      "text/plain": [
       "Pandas Apply:   0%|          | 0/3 [00:00<?, ?it/s]"
      ]
     },
     "metadata": {},
     "output_type": "display_data"
    },
    {
     "name": "stderr",
     "output_type": "stream",
     "text": [
      "/N/soft/rhel7/python/3.9.8/lib/python3.9/site-packages/sklearn/utils/validation.py:993: DataConversionWarning: A column-vector y was passed when a 1d array was expected. Please change the shape of y to (n_samples, ), for example using ravel().\n",
      "  y = column_or_1d(y, warn=True)\n",
      "/tmp/ipykernel_24360/2613017783.py:31: RuntimeWarning: invalid value encountered in true_divide\n",
      "  return posterior*weights_matrix/(posterior*weights_matrix).sum()\n"
     ]
    },
    {
     "name": "stdout",
     "output_type": "stream",
     "text": [
      "Converged\n"
     ]
    },
    {
     "name": "stderr",
     "output_type": "stream",
     "text": [
      "/N/soft/rhel7/python/3.9.8/lib/python3.9/site-packages/sklearn/utils/validation.py:993: DataConversionWarning: A column-vector y was passed when a 1d array was expected. Please change the shape of y to (n_samples, ), for example using ravel().\n",
      "  y = column_or_1d(y, warn=True)\n"
     ]
    },
    {
     "data": {
      "application/vnd.jupyter.widget-view+json": {
       "model_id": "dffc7bab074d466f979d23cbf1230052",
       "version_major": 2,
       "version_minor": 0
      },
      "text/plain": [
       "Pandas Apply:   0%|          | 0/3 [00:00<?, ?it/s]"
      ]
     },
     "metadata": {},
     "output_type": "display_data"
    },
    {
     "name": "stderr",
     "output_type": "stream",
     "text": [
      "/N/soft/rhel7/python/3.9.8/lib/python3.9/site-packages/sklearn/utils/validation.py:993: DataConversionWarning: A column-vector y was passed when a 1d array was expected. Please change the shape of y to (n_samples, ), for example using ravel().\n",
      "  y = column_or_1d(y, warn=True)\n",
      "/tmp/ipykernel_24360/2613017783.py:31: RuntimeWarning: invalid value encountered in true_divide\n",
      "  return posterior*weights_matrix/(posterior*weights_matrix).sum()\n"
     ]
    },
    {
     "name": "stdout",
     "output_type": "stream",
     "text": [
      "Converged\n"
     ]
    },
    {
     "name": "stderr",
     "output_type": "stream",
     "text": [
      "/N/soft/rhel7/python/3.9.8/lib/python3.9/site-packages/sklearn/utils/validation.py:993: DataConversionWarning: A column-vector y was passed when a 1d array was expected. Please change the shape of y to (n_samples, ), for example using ravel().\n",
      "  y = column_or_1d(y, warn=True)\n"
     ]
    },
    {
     "data": {
      "application/vnd.jupyter.widget-view+json": {
       "model_id": "3dd3922371254007a1693968ad12ba8b",
       "version_major": 2,
       "version_minor": 0
      },
      "text/plain": [
       "Pandas Apply:   0%|          | 0/3 [00:00<?, ?it/s]"
      ]
     },
     "metadata": {},
     "output_type": "display_data"
    },
    {
     "name": "stderr",
     "output_type": "stream",
     "text": [
      "/N/soft/rhel7/python/3.9.8/lib/python3.9/site-packages/sklearn/utils/validation.py:993: DataConversionWarning: A column-vector y was passed when a 1d array was expected. Please change the shape of y to (n_samples, ), for example using ravel().\n",
      "  y = column_or_1d(y, warn=True)\n",
      "/tmp/ipykernel_24360/2613017783.py:31: RuntimeWarning: invalid value encountered in true_divide\n",
      "  return posterior*weights_matrix/(posterior*weights_matrix).sum()\n"
     ]
    },
    {
     "name": "stdout",
     "output_type": "stream",
     "text": [
      "Converged\n"
     ]
    },
    {
     "name": "stderr",
     "output_type": "stream",
     "text": [
      "/N/soft/rhel7/python/3.9.8/lib/python3.9/site-packages/sklearn/utils/validation.py:993: DataConversionWarning: A column-vector y was passed when a 1d array was expected. Please change the shape of y to (n_samples, ), for example using ravel().\n",
      "  y = column_or_1d(y, warn=True)\n"
     ]
    },
    {
     "data": {
      "application/vnd.jupyter.widget-view+json": {
       "model_id": "fa0d76527eb74659988ba6228e099172",
       "version_major": 2,
       "version_minor": 0
      },
      "text/plain": [
       "Pandas Apply:   0%|          | 0/3 [00:00<?, ?it/s]"
      ]
     },
     "metadata": {},
     "output_type": "display_data"
    },
    {
     "name": "stderr",
     "output_type": "stream",
     "text": [
      "/N/soft/rhel7/python/3.9.8/lib/python3.9/site-packages/sklearn/utils/validation.py:993: DataConversionWarning: A column-vector y was passed when a 1d array was expected. Please change the shape of y to (n_samples, ), for example using ravel().\n",
      "  y = column_or_1d(y, warn=True)\n",
      "/tmp/ipykernel_24360/2613017783.py:31: RuntimeWarning: invalid value encountered in true_divide\n",
      "  return posterior*weights_matrix/(posterior*weights_matrix).sum()\n"
     ]
    },
    {
     "name": "stdout",
     "output_type": "stream",
     "text": [
      "Converged\n"
     ]
    },
    {
     "name": "stderr",
     "output_type": "stream",
     "text": [
      "/N/soft/rhel7/python/3.9.8/lib/python3.9/site-packages/sklearn/utils/validation.py:993: DataConversionWarning: A column-vector y was passed when a 1d array was expected. Please change the shape of y to (n_samples, ), for example using ravel().\n",
      "  y = column_or_1d(y, warn=True)\n"
     ]
    },
    {
     "data": {
      "application/vnd.jupyter.widget-view+json": {
       "model_id": "776cbf86853249978999b8e2a18c0c84",
       "version_major": 2,
       "version_minor": 0
      },
      "text/plain": [
       "Pandas Apply:   0%|          | 0/3 [00:00<?, ?it/s]"
      ]
     },
     "metadata": {},
     "output_type": "display_data"
    },
    {
     "name": "stderr",
     "output_type": "stream",
     "text": [
      "/N/soft/rhel7/python/3.9.8/lib/python3.9/site-packages/sklearn/utils/validation.py:993: DataConversionWarning: A column-vector y was passed when a 1d array was expected. Please change the shape of y to (n_samples, ), for example using ravel().\n",
      "  y = column_or_1d(y, warn=True)\n",
      "/tmp/ipykernel_24360/2613017783.py:31: RuntimeWarning: invalid value encountered in true_divide\n",
      "  return posterior*weights_matrix/(posterior*weights_matrix).sum()\n"
     ]
    },
    {
     "name": "stdout",
     "output_type": "stream",
     "text": [
      "Converged\n"
     ]
    },
    {
     "name": "stderr",
     "output_type": "stream",
     "text": [
      "/N/soft/rhel7/python/3.9.8/lib/python3.9/site-packages/sklearn/utils/validation.py:993: DataConversionWarning: A column-vector y was passed when a 1d array was expected. Please change the shape of y to (n_samples, ), for example using ravel().\n",
      "  y = column_or_1d(y, warn=True)\n"
     ]
    },
    {
     "data": {
      "application/vnd.jupyter.widget-view+json": {
       "model_id": "e7a24a9d931d476395e563db4d21a47d",
       "version_major": 2,
       "version_minor": 0
      },
      "text/plain": [
       "Pandas Apply:   0%|          | 0/3 [00:00<?, ?it/s]"
      ]
     },
     "metadata": {},
     "output_type": "display_data"
    },
    {
     "name": "stderr",
     "output_type": "stream",
     "text": [
      "/N/soft/rhel7/python/3.9.8/lib/python3.9/site-packages/sklearn/utils/validation.py:993: DataConversionWarning: A column-vector y was passed when a 1d array was expected. Please change the shape of y to (n_samples, ), for example using ravel().\n",
      "  y = column_or_1d(y, warn=True)\n",
      "/tmp/ipykernel_24360/2613017783.py:31: RuntimeWarning: invalid value encountered in true_divide\n",
      "  return posterior*weights_matrix/(posterior*weights_matrix).sum()\n"
     ]
    },
    {
     "name": "stdout",
     "output_type": "stream",
     "text": [
      "Converged\n"
     ]
    },
    {
     "name": "stderr",
     "output_type": "stream",
     "text": [
      "/N/soft/rhel7/python/3.9.8/lib/python3.9/site-packages/sklearn/utils/validation.py:993: DataConversionWarning: A column-vector y was passed when a 1d array was expected. Please change the shape of y to (n_samples, ), for example using ravel().\n",
      "  y = column_or_1d(y, warn=True)\n"
     ]
    },
    {
     "data": {
      "application/vnd.jupyter.widget-view+json": {
       "model_id": "cbcfe6b1a8cf4eaead157903ffcb4699",
       "version_major": 2,
       "version_minor": 0
      },
      "text/plain": [
       "Pandas Apply:   0%|          | 0/3 [00:00<?, ?it/s]"
      ]
     },
     "metadata": {},
     "output_type": "display_data"
    },
    {
     "name": "stderr",
     "output_type": "stream",
     "text": [
      "/N/soft/rhel7/python/3.9.8/lib/python3.9/site-packages/sklearn/utils/validation.py:993: DataConversionWarning: A column-vector y was passed when a 1d array was expected. Please change the shape of y to (n_samples, ), for example using ravel().\n",
      "  y = column_or_1d(y, warn=True)\n",
      "/tmp/ipykernel_24360/2613017783.py:31: RuntimeWarning: invalid value encountered in true_divide\n",
      "  return posterior*weights_matrix/(posterior*weights_matrix).sum()\n"
     ]
    },
    {
     "name": "stdout",
     "output_type": "stream",
     "text": [
      "Converged\n"
     ]
    },
    {
     "name": "stderr",
     "output_type": "stream",
     "text": [
      "/N/soft/rhel7/python/3.9.8/lib/python3.9/site-packages/sklearn/utils/validation.py:993: DataConversionWarning: A column-vector y was passed when a 1d array was expected. Please change the shape of y to (n_samples, ), for example using ravel().\n",
      "  y = column_or_1d(y, warn=True)\n"
     ]
    },
    {
     "data": {
      "application/vnd.jupyter.widget-view+json": {
       "model_id": "4630bb560c47482fb5c8a65c7b52b2c5",
       "version_major": 2,
       "version_minor": 0
      },
      "text/plain": [
       "Pandas Apply:   0%|          | 0/4 [00:00<?, ?it/s]"
      ]
     },
     "metadata": {},
     "output_type": "display_data"
    },
    {
     "name": "stderr",
     "output_type": "stream",
     "text": [
      "/N/soft/rhel7/python/3.9.8/lib/python3.9/site-packages/sklearn/utils/validation.py:993: DataConversionWarning: A column-vector y was passed when a 1d array was expected. Please change the shape of y to (n_samples, ), for example using ravel().\n",
      "  y = column_or_1d(y, warn=True)\n",
      "/tmp/ipykernel_24360/2613017783.py:31: RuntimeWarning: invalid value encountered in true_divide\n",
      "  return posterior*weights_matrix/(posterior*weights_matrix).sum()\n"
     ]
    },
    {
     "name": "stdout",
     "output_type": "stream",
     "text": [
      "Converged\n"
     ]
    },
    {
     "name": "stderr",
     "output_type": "stream",
     "text": [
      "/N/soft/rhel7/python/3.9.8/lib/python3.9/site-packages/sklearn/utils/validation.py:993: DataConversionWarning: A column-vector y was passed when a 1d array was expected. Please change the shape of y to (n_samples, ), for example using ravel().\n",
      "  y = column_or_1d(y, warn=True)\n"
     ]
    },
    {
     "data": {
      "application/vnd.jupyter.widget-view+json": {
       "model_id": "c2e93172c29d46259f2452387a476900",
       "version_major": 2,
       "version_minor": 0
      },
      "text/plain": [
       "Pandas Apply:   0%|          | 0/4 [00:00<?, ?it/s]"
      ]
     },
     "metadata": {},
     "output_type": "display_data"
    },
    {
     "name": "stderr",
     "output_type": "stream",
     "text": [
      "/N/soft/rhel7/python/3.9.8/lib/python3.9/site-packages/sklearn/utils/validation.py:993: DataConversionWarning: A column-vector y was passed when a 1d array was expected. Please change the shape of y to (n_samples, ), for example using ravel().\n",
      "  y = column_or_1d(y, warn=True)\n",
      "/tmp/ipykernel_24360/2613017783.py:31: RuntimeWarning: invalid value encountered in true_divide\n",
      "  return posterior*weights_matrix/(posterior*weights_matrix).sum()\n"
     ]
    },
    {
     "name": "stdout",
     "output_type": "stream",
     "text": [
      "Converged\n"
     ]
    },
    {
     "name": "stderr",
     "output_type": "stream",
     "text": [
      "/N/soft/rhel7/python/3.9.8/lib/python3.9/site-packages/sklearn/utils/validation.py:993: DataConversionWarning: A column-vector y was passed when a 1d array was expected. Please change the shape of y to (n_samples, ), for example using ravel().\n",
      "  y = column_or_1d(y, warn=True)\n"
     ]
    },
    {
     "data": {
      "application/vnd.jupyter.widget-view+json": {
       "model_id": "101686ec80ad4fa0b93c52884d9cdbd4",
       "version_major": 2,
       "version_minor": 0
      },
      "text/plain": [
       "Pandas Apply:   0%|          | 0/4 [00:00<?, ?it/s]"
      ]
     },
     "metadata": {},
     "output_type": "display_data"
    },
    {
     "name": "stderr",
     "output_type": "stream",
     "text": [
      "/N/soft/rhel7/python/3.9.8/lib/python3.9/site-packages/sklearn/utils/validation.py:993: DataConversionWarning: A column-vector y was passed when a 1d array was expected. Please change the shape of y to (n_samples, ), for example using ravel().\n",
      "  y = column_or_1d(y, warn=True)\n",
      "/tmp/ipykernel_24360/2613017783.py:31: RuntimeWarning: invalid value encountered in true_divide\n",
      "  return posterior*weights_matrix/(posterior*weights_matrix).sum()\n"
     ]
    },
    {
     "name": "stdout",
     "output_type": "stream",
     "text": [
      "Converged\n"
     ]
    },
    {
     "name": "stderr",
     "output_type": "stream",
     "text": [
      "/N/soft/rhel7/python/3.9.8/lib/python3.9/site-packages/sklearn/utils/validation.py:993: DataConversionWarning: A column-vector y was passed when a 1d array was expected. Please change the shape of y to (n_samples, ), for example using ravel().\n",
      "  y = column_or_1d(y, warn=True)\n"
     ]
    },
    {
     "data": {
      "application/vnd.jupyter.widget-view+json": {
       "model_id": "c568e8bf7031413fb63a6ad490a55e00",
       "version_major": 2,
       "version_minor": 0
      },
      "text/plain": [
       "Pandas Apply:   0%|          | 0/4 [00:00<?, ?it/s]"
      ]
     },
     "metadata": {},
     "output_type": "display_data"
    },
    {
     "name": "stderr",
     "output_type": "stream",
     "text": [
      "/N/soft/rhel7/python/3.9.8/lib/python3.9/site-packages/sklearn/utils/validation.py:993: DataConversionWarning: A column-vector y was passed when a 1d array was expected. Please change the shape of y to (n_samples, ), for example using ravel().\n",
      "  y = column_or_1d(y, warn=True)\n",
      "/tmp/ipykernel_24360/2613017783.py:31: RuntimeWarning: invalid value encountered in true_divide\n",
      "  return posterior*weights_matrix/(posterior*weights_matrix).sum()\n"
     ]
    },
    {
     "name": "stdout",
     "output_type": "stream",
     "text": [
      "Converged\n"
     ]
    },
    {
     "name": "stderr",
     "output_type": "stream",
     "text": [
      "/N/soft/rhel7/python/3.9.8/lib/python3.9/site-packages/sklearn/utils/validation.py:993: DataConversionWarning: A column-vector y was passed when a 1d array was expected. Please change the shape of y to (n_samples, ), for example using ravel().\n",
      "  y = column_or_1d(y, warn=True)\n"
     ]
    },
    {
     "data": {
      "application/vnd.jupyter.widget-view+json": {
       "model_id": "1d60d98419bc4439924430a9ed98f477",
       "version_major": 2,
       "version_minor": 0
      },
      "text/plain": [
       "Pandas Apply:   0%|          | 0/4 [00:00<?, ?it/s]"
      ]
     },
     "metadata": {},
     "output_type": "display_data"
    },
    {
     "name": "stderr",
     "output_type": "stream",
     "text": [
      "/N/soft/rhel7/python/3.9.8/lib/python3.9/site-packages/sklearn/utils/validation.py:993: DataConversionWarning: A column-vector y was passed when a 1d array was expected. Please change the shape of y to (n_samples, ), for example using ravel().\n",
      "  y = column_or_1d(y, warn=True)\n",
      "/tmp/ipykernel_24360/2613017783.py:31: RuntimeWarning: invalid value encountered in true_divide\n",
      "  return posterior*weights_matrix/(posterior*weights_matrix).sum()\n"
     ]
    },
    {
     "name": "stdout",
     "output_type": "stream",
     "text": [
      "Converged\n"
     ]
    },
    {
     "name": "stderr",
     "output_type": "stream",
     "text": [
      "/N/soft/rhel7/python/3.9.8/lib/python3.9/site-packages/sklearn/utils/validation.py:993: DataConversionWarning: A column-vector y was passed when a 1d array was expected. Please change the shape of y to (n_samples, ), for example using ravel().\n",
      "  y = column_or_1d(y, warn=True)\n"
     ]
    },
    {
     "data": {
      "application/vnd.jupyter.widget-view+json": {
       "model_id": "368204f1881745608f851b5671768845",
       "version_major": 2,
       "version_minor": 0
      },
      "text/plain": [
       "Pandas Apply:   0%|          | 0/4 [00:00<?, ?it/s]"
      ]
     },
     "metadata": {},
     "output_type": "display_data"
    },
    {
     "name": "stderr",
     "output_type": "stream",
     "text": [
      "/N/soft/rhel7/python/3.9.8/lib/python3.9/site-packages/sklearn/utils/validation.py:993: DataConversionWarning: A column-vector y was passed when a 1d array was expected. Please change the shape of y to (n_samples, ), for example using ravel().\n",
      "  y = column_or_1d(y, warn=True)\n",
      "/tmp/ipykernel_24360/2613017783.py:31: RuntimeWarning: invalid value encountered in true_divide\n",
      "  return posterior*weights_matrix/(posterior*weights_matrix).sum()\n"
     ]
    },
    {
     "name": "stdout",
     "output_type": "stream",
     "text": [
      "Converged\n"
     ]
    },
    {
     "name": "stderr",
     "output_type": "stream",
     "text": [
      "/N/soft/rhel7/python/3.9.8/lib/python3.9/site-packages/sklearn/utils/validation.py:993: DataConversionWarning: A column-vector y was passed when a 1d array was expected. Please change the shape of y to (n_samples, ), for example using ravel().\n",
      "  y = column_or_1d(y, warn=True)\n"
     ]
    },
    {
     "data": {
      "application/vnd.jupyter.widget-view+json": {
       "model_id": "2c3d29d714164d8a8868f4f4f2f42ee0",
       "version_major": 2,
       "version_minor": 0
      },
      "text/plain": [
       "Pandas Apply:   0%|          | 0/4 [00:00<?, ?it/s]"
      ]
     },
     "metadata": {},
     "output_type": "display_data"
    },
    {
     "name": "stderr",
     "output_type": "stream",
     "text": [
      "/N/soft/rhel7/python/3.9.8/lib/python3.9/site-packages/sklearn/utils/validation.py:993: DataConversionWarning: A column-vector y was passed when a 1d array was expected. Please change the shape of y to (n_samples, ), for example using ravel().\n",
      "  y = column_or_1d(y, warn=True)\n",
      "/tmp/ipykernel_24360/2613017783.py:31: RuntimeWarning: invalid value encountered in true_divide\n",
      "  return posterior*weights_matrix/(posterior*weights_matrix).sum()\n"
     ]
    },
    {
     "name": "stdout",
     "output_type": "stream",
     "text": [
      "Converged\n"
     ]
    },
    {
     "name": "stderr",
     "output_type": "stream",
     "text": [
      "/N/soft/rhel7/python/3.9.8/lib/python3.9/site-packages/sklearn/utils/validation.py:993: DataConversionWarning: A column-vector y was passed when a 1d array was expected. Please change the shape of y to (n_samples, ), for example using ravel().\n",
      "  y = column_or_1d(y, warn=True)\n"
     ]
    },
    {
     "data": {
      "application/vnd.jupyter.widget-view+json": {
       "model_id": "c8654d28b94c44afad37a436991f7d6e",
       "version_major": 2,
       "version_minor": 0
      },
      "text/plain": [
       "Pandas Apply:   0%|          | 0/4 [00:00<?, ?it/s]"
      ]
     },
     "metadata": {},
     "output_type": "display_data"
    },
    {
     "name": "stderr",
     "output_type": "stream",
     "text": [
      "/N/soft/rhel7/python/3.9.8/lib/python3.9/site-packages/sklearn/utils/validation.py:993: DataConversionWarning: A column-vector y was passed when a 1d array was expected. Please change the shape of y to (n_samples, ), for example using ravel().\n",
      "  y = column_or_1d(y, warn=True)\n",
      "/tmp/ipykernel_24360/2613017783.py:31: RuntimeWarning: invalid value encountered in true_divide\n",
      "  return posterior*weights_matrix/(posterior*weights_matrix).sum()\n"
     ]
    },
    {
     "name": "stdout",
     "output_type": "stream",
     "text": [
      "Converged\n"
     ]
    },
    {
     "name": "stderr",
     "output_type": "stream",
     "text": [
      "/N/soft/rhel7/python/3.9.8/lib/python3.9/site-packages/sklearn/utils/validation.py:993: DataConversionWarning: A column-vector y was passed when a 1d array was expected. Please change the shape of y to (n_samples, ), for example using ravel().\n",
      "  y = column_or_1d(y, warn=True)\n"
     ]
    },
    {
     "data": {
      "application/vnd.jupyter.widget-view+json": {
       "model_id": "b01c18812575412ab7b20b21785cb549",
       "version_major": 2,
       "version_minor": 0
      },
      "text/plain": [
       "Pandas Apply:   0%|          | 0/4 [00:00<?, ?it/s]"
      ]
     },
     "metadata": {},
     "output_type": "display_data"
    },
    {
     "name": "stderr",
     "output_type": "stream",
     "text": [
      "/N/soft/rhel7/python/3.9.8/lib/python3.9/site-packages/sklearn/utils/validation.py:993: DataConversionWarning: A column-vector y was passed when a 1d array was expected. Please change the shape of y to (n_samples, ), for example using ravel().\n",
      "  y = column_or_1d(y, warn=True)\n",
      "/tmp/ipykernel_24360/2613017783.py:31: RuntimeWarning: invalid value encountered in true_divide\n",
      "  return posterior*weights_matrix/(posterior*weights_matrix).sum()\n"
     ]
    },
    {
     "name": "stdout",
     "output_type": "stream",
     "text": [
      "Converged\n"
     ]
    },
    {
     "name": "stderr",
     "output_type": "stream",
     "text": [
      "/N/soft/rhel7/python/3.9.8/lib/python3.9/site-packages/sklearn/utils/validation.py:993: DataConversionWarning: A column-vector y was passed when a 1d array was expected. Please change the shape of y to (n_samples, ), for example using ravel().\n",
      "  y = column_or_1d(y, warn=True)\n"
     ]
    },
    {
     "data": {
      "application/vnd.jupyter.widget-view+json": {
       "model_id": "8236a4e0f1a045b4a49defc619c3b996",
       "version_major": 2,
       "version_minor": 0
      },
      "text/plain": [
       "Pandas Apply:   0%|          | 0/4 [00:00<?, ?it/s]"
      ]
     },
     "metadata": {},
     "output_type": "display_data"
    },
    {
     "name": "stderr",
     "output_type": "stream",
     "text": [
      "/N/soft/rhel7/python/3.9.8/lib/python3.9/site-packages/sklearn/utils/validation.py:993: DataConversionWarning: A column-vector y was passed when a 1d array was expected. Please change the shape of y to (n_samples, ), for example using ravel().\n",
      "  y = column_or_1d(y, warn=True)\n",
      "/tmp/ipykernel_24360/2613017783.py:31: RuntimeWarning: invalid value encountered in true_divide\n",
      "  return posterior*weights_matrix/(posterior*weights_matrix).sum()\n"
     ]
    },
    {
     "name": "stdout",
     "output_type": "stream",
     "text": [
      "Converged\n"
     ]
    },
    {
     "name": "stderr",
     "output_type": "stream",
     "text": [
      "/N/soft/rhel7/python/3.9.8/lib/python3.9/site-packages/sklearn/utils/validation.py:993: DataConversionWarning: A column-vector y was passed when a 1d array was expected. Please change the shape of y to (n_samples, ), for example using ravel().\n",
      "  y = column_or_1d(y, warn=True)\n"
     ]
    },
    {
     "data": {
      "application/vnd.jupyter.widget-view+json": {
       "model_id": "9ad93d98ee154164adb5a7b4c4d8bee2",
       "version_major": 2,
       "version_minor": 0
      },
      "text/plain": [
       "Pandas Apply:   0%|          | 0/4 [00:00<?, ?it/s]"
      ]
     },
     "metadata": {},
     "output_type": "display_data"
    },
    {
     "name": "stderr",
     "output_type": "stream",
     "text": [
      "/N/soft/rhel7/python/3.9.8/lib/python3.9/site-packages/sklearn/utils/validation.py:993: DataConversionWarning: A column-vector y was passed when a 1d array was expected. Please change the shape of y to (n_samples, ), for example using ravel().\n",
      "  y = column_or_1d(y, warn=True)\n",
      "/tmp/ipykernel_24360/2613017783.py:31: RuntimeWarning: invalid value encountered in true_divide\n",
      "  return posterior*weights_matrix/(posterior*weights_matrix).sum()\n"
     ]
    },
    {
     "name": "stdout",
     "output_type": "stream",
     "text": [
      "Converged\n"
     ]
    },
    {
     "name": "stderr",
     "output_type": "stream",
     "text": [
      "/N/soft/rhel7/python/3.9.8/lib/python3.9/site-packages/sklearn/utils/validation.py:993: DataConversionWarning: A column-vector y was passed when a 1d array was expected. Please change the shape of y to (n_samples, ), for example using ravel().\n",
      "  y = column_or_1d(y, warn=True)\n"
     ]
    },
    {
     "data": {
      "application/vnd.jupyter.widget-view+json": {
       "model_id": "2effef12ee41410db559b2d3b7d438e6",
       "version_major": 2,
       "version_minor": 0
      },
      "text/plain": [
       "Pandas Apply:   0%|          | 0/4 [00:00<?, ?it/s]"
      ]
     },
     "metadata": {},
     "output_type": "display_data"
    },
    {
     "name": "stderr",
     "output_type": "stream",
     "text": [
      "/N/soft/rhel7/python/3.9.8/lib/python3.9/site-packages/sklearn/utils/validation.py:993: DataConversionWarning: A column-vector y was passed when a 1d array was expected. Please change the shape of y to (n_samples, ), for example using ravel().\n",
      "  y = column_or_1d(y, warn=True)\n",
      "/tmp/ipykernel_24360/2613017783.py:31: RuntimeWarning: invalid value encountered in true_divide\n",
      "  return posterior*weights_matrix/(posterior*weights_matrix).sum()\n"
     ]
    },
    {
     "name": "stdout",
     "output_type": "stream",
     "text": [
      "Converged\n"
     ]
    },
    {
     "name": "stderr",
     "output_type": "stream",
     "text": [
      "/N/soft/rhel7/python/3.9.8/lib/python3.9/site-packages/sklearn/utils/validation.py:993: DataConversionWarning: A column-vector y was passed when a 1d array was expected. Please change the shape of y to (n_samples, ), for example using ravel().\n",
      "  y = column_or_1d(y, warn=True)\n"
     ]
    },
    {
     "data": {
      "application/vnd.jupyter.widget-view+json": {
       "model_id": "ff38aa2bec4148d79548c6c8456bfceb",
       "version_major": 2,
       "version_minor": 0
      },
      "text/plain": [
       "Pandas Apply:   0%|          | 0/4 [00:00<?, ?it/s]"
      ]
     },
     "metadata": {},
     "output_type": "display_data"
    },
    {
     "name": "stderr",
     "output_type": "stream",
     "text": [
      "/N/soft/rhel7/python/3.9.8/lib/python3.9/site-packages/sklearn/utils/validation.py:993: DataConversionWarning: A column-vector y was passed when a 1d array was expected. Please change the shape of y to (n_samples, ), for example using ravel().\n",
      "  y = column_or_1d(y, warn=True)\n",
      "/tmp/ipykernel_24360/2613017783.py:31: RuntimeWarning: invalid value encountered in true_divide\n",
      "  return posterior*weights_matrix/(posterior*weights_matrix).sum()\n"
     ]
    },
    {
     "name": "stdout",
     "output_type": "stream",
     "text": [
      "Converged\n"
     ]
    },
    {
     "name": "stderr",
     "output_type": "stream",
     "text": [
      "/N/soft/rhel7/python/3.9.8/lib/python3.9/site-packages/sklearn/utils/validation.py:993: DataConversionWarning: A column-vector y was passed when a 1d array was expected. Please change the shape of y to (n_samples, ), for example using ravel().\n",
      "  y = column_or_1d(y, warn=True)\n"
     ]
    },
    {
     "data": {
      "application/vnd.jupyter.widget-view+json": {
       "model_id": "340069f57887417fa2264cb8aa90ae19",
       "version_major": 2,
       "version_minor": 0
      },
      "text/plain": [
       "Pandas Apply:   0%|          | 0/4 [00:00<?, ?it/s]"
      ]
     },
     "metadata": {},
     "output_type": "display_data"
    },
    {
     "name": "stderr",
     "output_type": "stream",
     "text": [
      "/N/soft/rhel7/python/3.9.8/lib/python3.9/site-packages/sklearn/utils/validation.py:993: DataConversionWarning: A column-vector y was passed when a 1d array was expected. Please change the shape of y to (n_samples, ), for example using ravel().\n",
      "  y = column_or_1d(y, warn=True)\n",
      "/tmp/ipykernel_24360/2613017783.py:31: RuntimeWarning: invalid value encountered in true_divide\n",
      "  return posterior*weights_matrix/(posterior*weights_matrix).sum()\n"
     ]
    },
    {
     "name": "stdout",
     "output_type": "stream",
     "text": [
      "Converged\n"
     ]
    },
    {
     "name": "stderr",
     "output_type": "stream",
     "text": [
      "/N/soft/rhel7/python/3.9.8/lib/python3.9/site-packages/sklearn/utils/validation.py:993: DataConversionWarning: A column-vector y was passed when a 1d array was expected. Please change the shape of y to (n_samples, ), for example using ravel().\n",
      "  y = column_or_1d(y, warn=True)\n"
     ]
    },
    {
     "data": {
      "application/vnd.jupyter.widget-view+json": {
       "model_id": "1f06fb7a825a4c2eb1b0b891e81b3c19",
       "version_major": 2,
       "version_minor": 0
      },
      "text/plain": [
       "Pandas Apply:   0%|          | 0/4 [00:00<?, ?it/s]"
      ]
     },
     "metadata": {},
     "output_type": "display_data"
    },
    {
     "name": "stderr",
     "output_type": "stream",
     "text": [
      "/N/soft/rhel7/python/3.9.8/lib/python3.9/site-packages/sklearn/utils/validation.py:993: DataConversionWarning: A column-vector y was passed when a 1d array was expected. Please change the shape of y to (n_samples, ), for example using ravel().\n",
      "  y = column_or_1d(y, warn=True)\n",
      "/tmp/ipykernel_24360/2613017783.py:31: RuntimeWarning: invalid value encountered in true_divide\n",
      "  return posterior*weights_matrix/(posterior*weights_matrix).sum()\n"
     ]
    },
    {
     "name": "stdout",
     "output_type": "stream",
     "text": [
      "Converged\n"
     ]
    },
    {
     "name": "stderr",
     "output_type": "stream",
     "text": [
      "/N/soft/rhel7/python/3.9.8/lib/python3.9/site-packages/sklearn/utils/validation.py:993: DataConversionWarning: A column-vector y was passed when a 1d array was expected. Please change the shape of y to (n_samples, ), for example using ravel().\n",
      "  y = column_or_1d(y, warn=True)\n"
     ]
    },
    {
     "data": {
      "application/vnd.jupyter.widget-view+json": {
       "model_id": "1e35e7aa6f984faca21805dedecd3448",
       "version_major": 2,
       "version_minor": 0
      },
      "text/plain": [
       "Pandas Apply:   0%|          | 0/4 [00:00<?, ?it/s]"
      ]
     },
     "metadata": {},
     "output_type": "display_data"
    },
    {
     "name": "stderr",
     "output_type": "stream",
     "text": [
      "/N/soft/rhel7/python/3.9.8/lib/python3.9/site-packages/sklearn/utils/validation.py:993: DataConversionWarning: A column-vector y was passed when a 1d array was expected. Please change the shape of y to (n_samples, ), for example using ravel().\n",
      "  y = column_or_1d(y, warn=True)\n",
      "/tmp/ipykernel_24360/2613017783.py:31: RuntimeWarning: invalid value encountered in true_divide\n",
      "  return posterior*weights_matrix/(posterior*weights_matrix).sum()\n"
     ]
    },
    {
     "name": "stdout",
     "output_type": "stream",
     "text": [
      "Converged\n"
     ]
    },
    {
     "name": "stderr",
     "output_type": "stream",
     "text": [
      "/N/soft/rhel7/python/3.9.8/lib/python3.9/site-packages/sklearn/utils/validation.py:993: DataConversionWarning: A column-vector y was passed when a 1d array was expected. Please change the shape of y to (n_samples, ), for example using ravel().\n",
      "  y = column_or_1d(y, warn=True)\n"
     ]
    },
    {
     "data": {
      "application/vnd.jupyter.widget-view+json": {
       "model_id": "b0c3d85343164684ad98e8d82ac8b00c",
       "version_major": 2,
       "version_minor": 0
      },
      "text/plain": [
       "Pandas Apply:   0%|          | 0/4 [00:00<?, ?it/s]"
      ]
     },
     "metadata": {},
     "output_type": "display_data"
    },
    {
     "name": "stderr",
     "output_type": "stream",
     "text": [
      "/N/soft/rhel7/python/3.9.8/lib/python3.9/site-packages/sklearn/utils/validation.py:993: DataConversionWarning: A column-vector y was passed when a 1d array was expected. Please change the shape of y to (n_samples, ), for example using ravel().\n",
      "  y = column_or_1d(y, warn=True)\n",
      "/tmp/ipykernel_24360/2613017783.py:31: RuntimeWarning: invalid value encountered in true_divide\n",
      "  return posterior*weights_matrix/(posterior*weights_matrix).sum()\n"
     ]
    },
    {
     "name": "stdout",
     "output_type": "stream",
     "text": [
      "Converged\n"
     ]
    },
    {
     "name": "stderr",
     "output_type": "stream",
     "text": [
      "/N/soft/rhel7/python/3.9.8/lib/python3.9/site-packages/sklearn/utils/validation.py:993: DataConversionWarning: A column-vector y was passed when a 1d array was expected. Please change the shape of y to (n_samples, ), for example using ravel().\n",
      "  y = column_or_1d(y, warn=True)\n"
     ]
    },
    {
     "data": {
      "application/vnd.jupyter.widget-view+json": {
       "model_id": "449eb870ade74e40a9e1e5d979dab2b0",
       "version_major": 2,
       "version_minor": 0
      },
      "text/plain": [
       "Pandas Apply:   0%|          | 0/4 [00:00<?, ?it/s]"
      ]
     },
     "metadata": {},
     "output_type": "display_data"
    },
    {
     "name": "stderr",
     "output_type": "stream",
     "text": [
      "/N/soft/rhel7/python/3.9.8/lib/python3.9/site-packages/sklearn/utils/validation.py:993: DataConversionWarning: A column-vector y was passed when a 1d array was expected. Please change the shape of y to (n_samples, ), for example using ravel().\n",
      "  y = column_or_1d(y, warn=True)\n",
      "/tmp/ipykernel_24360/2613017783.py:31: RuntimeWarning: invalid value encountered in true_divide\n",
      "  return posterior*weights_matrix/(posterior*weights_matrix).sum()\n"
     ]
    },
    {
     "name": "stdout",
     "output_type": "stream",
     "text": [
      "Converged\n"
     ]
    },
    {
     "name": "stderr",
     "output_type": "stream",
     "text": [
      "/N/soft/rhel7/python/3.9.8/lib/python3.9/site-packages/sklearn/utils/validation.py:993: DataConversionWarning: A column-vector y was passed when a 1d array was expected. Please change the shape of y to (n_samples, ), for example using ravel().\n",
      "  y = column_or_1d(y, warn=True)\n"
     ]
    },
    {
     "data": {
      "application/vnd.jupyter.widget-view+json": {
       "model_id": "e2675775e7bc49d6b78cbed3b24a5ef3",
       "version_major": 2,
       "version_minor": 0
      },
      "text/plain": [
       "Pandas Apply:   0%|          | 0/4 [00:00<?, ?it/s]"
      ]
     },
     "metadata": {},
     "output_type": "display_data"
    },
    {
     "name": "stderr",
     "output_type": "stream",
     "text": [
      "/N/soft/rhel7/python/3.9.8/lib/python3.9/site-packages/sklearn/utils/validation.py:993: DataConversionWarning: A column-vector y was passed when a 1d array was expected. Please change the shape of y to (n_samples, ), for example using ravel().\n",
      "  y = column_or_1d(y, warn=True)\n",
      "/tmp/ipykernel_24360/2613017783.py:31: RuntimeWarning: invalid value encountered in true_divide\n",
      "  return posterior*weights_matrix/(posterior*weights_matrix).sum()\n"
     ]
    },
    {
     "name": "stdout",
     "output_type": "stream",
     "text": [
      "Converged\n"
     ]
    },
    {
     "name": "stderr",
     "output_type": "stream",
     "text": [
      "/N/soft/rhel7/python/3.9.8/lib/python3.9/site-packages/sklearn/utils/validation.py:993: DataConversionWarning: A column-vector y was passed when a 1d array was expected. Please change the shape of y to (n_samples, ), for example using ravel().\n",
      "  y = column_or_1d(y, warn=True)\n"
     ]
    },
    {
     "data": {
      "application/vnd.jupyter.widget-view+json": {
       "model_id": "77831f6ce4c84271b190fd3b26fc86cc",
       "version_major": 2,
       "version_minor": 0
      },
      "text/plain": [
       "Pandas Apply:   0%|          | 0/4 [00:00<?, ?it/s]"
      ]
     },
     "metadata": {},
     "output_type": "display_data"
    },
    {
     "name": "stderr",
     "output_type": "stream",
     "text": [
      "/N/soft/rhel7/python/3.9.8/lib/python3.9/site-packages/sklearn/utils/validation.py:993: DataConversionWarning: A column-vector y was passed when a 1d array was expected. Please change the shape of y to (n_samples, ), for example using ravel().\n",
      "  y = column_or_1d(y, warn=True)\n",
      "/tmp/ipykernel_24360/2613017783.py:31: RuntimeWarning: invalid value encountered in true_divide\n",
      "  return posterior*weights_matrix/(posterior*weights_matrix).sum()\n"
     ]
    },
    {
     "name": "stdout",
     "output_type": "stream",
     "text": [
      "Converged\n"
     ]
    },
    {
     "name": "stderr",
     "output_type": "stream",
     "text": [
      "/N/soft/rhel7/python/3.9.8/lib/python3.9/site-packages/sklearn/utils/validation.py:993: DataConversionWarning: A column-vector y was passed when a 1d array was expected. Please change the shape of y to (n_samples, ), for example using ravel().\n",
      "  y = column_or_1d(y, warn=True)\n"
     ]
    },
    {
     "data": {
      "application/vnd.jupyter.widget-view+json": {
       "model_id": "a9e4a87d0d734fbd81122670d925a2bb",
       "version_major": 2,
       "version_minor": 0
      },
      "text/plain": [
       "Pandas Apply:   0%|          | 0/5 [00:00<?, ?it/s]"
      ]
     },
     "metadata": {},
     "output_type": "display_data"
    },
    {
     "name": "stderr",
     "output_type": "stream",
     "text": [
      "/N/soft/rhel7/python/3.9.8/lib/python3.9/site-packages/sklearn/utils/validation.py:993: DataConversionWarning: A column-vector y was passed when a 1d array was expected. Please change the shape of y to (n_samples, ), for example using ravel().\n",
      "  y = column_or_1d(y, warn=True)\n",
      "/tmp/ipykernel_24360/2613017783.py:31: RuntimeWarning: invalid value encountered in true_divide\n",
      "  return posterior*weights_matrix/(posterior*weights_matrix).sum()\n"
     ]
    },
    {
     "name": "stdout",
     "output_type": "stream",
     "text": [
      "Converged\n"
     ]
    },
    {
     "name": "stderr",
     "output_type": "stream",
     "text": [
      "/N/soft/rhel7/python/3.9.8/lib/python3.9/site-packages/sklearn/utils/validation.py:993: DataConversionWarning: A column-vector y was passed when a 1d array was expected. Please change the shape of y to (n_samples, ), for example using ravel().\n",
      "  y = column_or_1d(y, warn=True)\n"
     ]
    },
    {
     "data": {
      "application/vnd.jupyter.widget-view+json": {
       "model_id": "c2a7efe98ef74de3874d0503b22d8ec5",
       "version_major": 2,
       "version_minor": 0
      },
      "text/plain": [
       "Pandas Apply:   0%|          | 0/5 [00:00<?, ?it/s]"
      ]
     },
     "metadata": {},
     "output_type": "display_data"
    },
    {
     "name": "stderr",
     "output_type": "stream",
     "text": [
      "/N/soft/rhel7/python/3.9.8/lib/python3.9/site-packages/sklearn/utils/validation.py:993: DataConversionWarning: A column-vector y was passed when a 1d array was expected. Please change the shape of y to (n_samples, ), for example using ravel().\n",
      "  y = column_or_1d(y, warn=True)\n",
      "/tmp/ipykernel_24360/2613017783.py:31: RuntimeWarning: invalid value encountered in true_divide\n",
      "  return posterior*weights_matrix/(posterior*weights_matrix).sum()\n"
     ]
    },
    {
     "name": "stdout",
     "output_type": "stream",
     "text": [
      "Converged\n"
     ]
    },
    {
     "name": "stderr",
     "output_type": "stream",
     "text": [
      "/N/soft/rhel7/python/3.9.8/lib/python3.9/site-packages/sklearn/utils/validation.py:993: DataConversionWarning: A column-vector y was passed when a 1d array was expected. Please change the shape of y to (n_samples, ), for example using ravel().\n",
      "  y = column_or_1d(y, warn=True)\n"
     ]
    },
    {
     "data": {
      "application/vnd.jupyter.widget-view+json": {
       "model_id": "ca4f3bd758ef45e9833a1066661cdd53",
       "version_major": 2,
       "version_minor": 0
      },
      "text/plain": [
       "Pandas Apply:   0%|          | 0/5 [00:00<?, ?it/s]"
      ]
     },
     "metadata": {},
     "output_type": "display_data"
    },
    {
     "name": "stderr",
     "output_type": "stream",
     "text": [
      "/N/soft/rhel7/python/3.9.8/lib/python3.9/site-packages/sklearn/utils/validation.py:993: DataConversionWarning: A column-vector y was passed when a 1d array was expected. Please change the shape of y to (n_samples, ), for example using ravel().\n",
      "  y = column_or_1d(y, warn=True)\n",
      "/tmp/ipykernel_24360/2613017783.py:31: RuntimeWarning: invalid value encountered in true_divide\n",
      "  return posterior*weights_matrix/(posterior*weights_matrix).sum()\n"
     ]
    },
    {
     "name": "stdout",
     "output_type": "stream",
     "text": [
      "Converged\n"
     ]
    },
    {
     "name": "stderr",
     "output_type": "stream",
     "text": [
      "/N/soft/rhel7/python/3.9.8/lib/python3.9/site-packages/sklearn/utils/validation.py:993: DataConversionWarning: A column-vector y was passed when a 1d array was expected. Please change the shape of y to (n_samples, ), for example using ravel().\n",
      "  y = column_or_1d(y, warn=True)\n"
     ]
    },
    {
     "data": {
      "application/vnd.jupyter.widget-view+json": {
       "model_id": "85c7e10251dc4205a7c2fb0a7d6b7d96",
       "version_major": 2,
       "version_minor": 0
      },
      "text/plain": [
       "Pandas Apply:   0%|          | 0/5 [00:00<?, ?it/s]"
      ]
     },
     "metadata": {},
     "output_type": "display_data"
    },
    {
     "name": "stderr",
     "output_type": "stream",
     "text": [
      "/N/soft/rhel7/python/3.9.8/lib/python3.9/site-packages/sklearn/utils/validation.py:993: DataConversionWarning: A column-vector y was passed when a 1d array was expected. Please change the shape of y to (n_samples, ), for example using ravel().\n",
      "  y = column_or_1d(y, warn=True)\n",
      "/tmp/ipykernel_24360/2613017783.py:31: RuntimeWarning: invalid value encountered in true_divide\n",
      "  return posterior*weights_matrix/(posterior*weights_matrix).sum()\n"
     ]
    },
    {
     "name": "stdout",
     "output_type": "stream",
     "text": [
      "Converged\n"
     ]
    },
    {
     "name": "stderr",
     "output_type": "stream",
     "text": [
      "/N/soft/rhel7/python/3.9.8/lib/python3.9/site-packages/sklearn/utils/validation.py:993: DataConversionWarning: A column-vector y was passed when a 1d array was expected. Please change the shape of y to (n_samples, ), for example using ravel().\n",
      "  y = column_or_1d(y, warn=True)\n"
     ]
    },
    {
     "data": {
      "application/vnd.jupyter.widget-view+json": {
       "model_id": "5828d96043094832a1e60587b3324ee0",
       "version_major": 2,
       "version_minor": 0
      },
      "text/plain": [
       "Pandas Apply:   0%|          | 0/5 [00:00<?, ?it/s]"
      ]
     },
     "metadata": {},
     "output_type": "display_data"
    },
    {
     "name": "stderr",
     "output_type": "stream",
     "text": [
      "/N/soft/rhel7/python/3.9.8/lib/python3.9/site-packages/sklearn/utils/validation.py:993: DataConversionWarning: A column-vector y was passed when a 1d array was expected. Please change the shape of y to (n_samples, ), for example using ravel().\n",
      "  y = column_or_1d(y, warn=True)\n",
      "/tmp/ipykernel_24360/2613017783.py:31: RuntimeWarning: invalid value encountered in true_divide\n",
      "  return posterior*weights_matrix/(posterior*weights_matrix).sum()\n"
     ]
    },
    {
     "name": "stdout",
     "output_type": "stream",
     "text": [
      "Converged\n"
     ]
    },
    {
     "name": "stderr",
     "output_type": "stream",
     "text": [
      "/N/soft/rhel7/python/3.9.8/lib/python3.9/site-packages/sklearn/utils/validation.py:993: DataConversionWarning: A column-vector y was passed when a 1d array was expected. Please change the shape of y to (n_samples, ), for example using ravel().\n",
      "  y = column_or_1d(y, warn=True)\n"
     ]
    },
    {
     "data": {
      "application/vnd.jupyter.widget-view+json": {
       "model_id": "cb2ee23b942240ec8c8745e09918c139",
       "version_major": 2,
       "version_minor": 0
      },
      "text/plain": [
       "Pandas Apply:   0%|          | 0/5 [00:00<?, ?it/s]"
      ]
     },
     "metadata": {},
     "output_type": "display_data"
    },
    {
     "name": "stderr",
     "output_type": "stream",
     "text": [
      "/N/soft/rhel7/python/3.9.8/lib/python3.9/site-packages/sklearn/utils/validation.py:993: DataConversionWarning: A column-vector y was passed when a 1d array was expected. Please change the shape of y to (n_samples, ), for example using ravel().\n",
      "  y = column_or_1d(y, warn=True)\n",
      "/tmp/ipykernel_24360/2613017783.py:31: RuntimeWarning: invalid value encountered in true_divide\n",
      "  return posterior*weights_matrix/(posterior*weights_matrix).sum()\n"
     ]
    },
    {
     "name": "stdout",
     "output_type": "stream",
     "text": [
      "Converged\n"
     ]
    },
    {
     "name": "stderr",
     "output_type": "stream",
     "text": [
      "/N/soft/rhel7/python/3.9.8/lib/python3.9/site-packages/sklearn/utils/validation.py:993: DataConversionWarning: A column-vector y was passed when a 1d array was expected. Please change the shape of y to (n_samples, ), for example using ravel().\n",
      "  y = column_or_1d(y, warn=True)\n"
     ]
    },
    {
     "data": {
      "application/vnd.jupyter.widget-view+json": {
       "model_id": "afac92804c0f4be7a52e1f5875b38060",
       "version_major": 2,
       "version_minor": 0
      },
      "text/plain": [
       "Pandas Apply:   0%|          | 0/5 [00:00<?, ?it/s]"
      ]
     },
     "metadata": {},
     "output_type": "display_data"
    },
    {
     "name": "stderr",
     "output_type": "stream",
     "text": [
      "/N/soft/rhel7/python/3.9.8/lib/python3.9/site-packages/sklearn/utils/validation.py:993: DataConversionWarning: A column-vector y was passed when a 1d array was expected. Please change the shape of y to (n_samples, ), for example using ravel().\n",
      "  y = column_or_1d(y, warn=True)\n",
      "/tmp/ipykernel_24360/2613017783.py:31: RuntimeWarning: invalid value encountered in true_divide\n",
      "  return posterior*weights_matrix/(posterior*weights_matrix).sum()\n"
     ]
    },
    {
     "name": "stdout",
     "output_type": "stream",
     "text": [
      "Converged\n"
     ]
    },
    {
     "name": "stderr",
     "output_type": "stream",
     "text": [
      "/N/soft/rhel7/python/3.9.8/lib/python3.9/site-packages/sklearn/utils/validation.py:993: DataConversionWarning: A column-vector y was passed when a 1d array was expected. Please change the shape of y to (n_samples, ), for example using ravel().\n",
      "  y = column_or_1d(y, warn=True)\n"
     ]
    },
    {
     "data": {
      "application/vnd.jupyter.widget-view+json": {
       "model_id": "559a76866bf74bbaae05ca8c4055a8c3",
       "version_major": 2,
       "version_minor": 0
      },
      "text/plain": [
       "Pandas Apply:   0%|          | 0/5 [00:00<?, ?it/s]"
      ]
     },
     "metadata": {},
     "output_type": "display_data"
    },
    {
     "name": "stderr",
     "output_type": "stream",
     "text": [
      "/N/soft/rhel7/python/3.9.8/lib/python3.9/site-packages/sklearn/utils/validation.py:993: DataConversionWarning: A column-vector y was passed when a 1d array was expected. Please change the shape of y to (n_samples, ), for example using ravel().\n",
      "  y = column_or_1d(y, warn=True)\n",
      "/tmp/ipykernel_24360/2613017783.py:31: RuntimeWarning: invalid value encountered in true_divide\n",
      "  return posterior*weights_matrix/(posterior*weights_matrix).sum()\n"
     ]
    },
    {
     "name": "stdout",
     "output_type": "stream",
     "text": [
      "Converged\n"
     ]
    },
    {
     "name": "stderr",
     "output_type": "stream",
     "text": [
      "/N/soft/rhel7/python/3.9.8/lib/python3.9/site-packages/sklearn/utils/validation.py:993: DataConversionWarning: A column-vector y was passed when a 1d array was expected. Please change the shape of y to (n_samples, ), for example using ravel().\n",
      "  y = column_or_1d(y, warn=True)\n"
     ]
    },
    {
     "data": {
      "application/vnd.jupyter.widget-view+json": {
       "model_id": "cafeb3fd12644609b1645a9ceaa770f1",
       "version_major": 2,
       "version_minor": 0
      },
      "text/plain": [
       "Pandas Apply:   0%|          | 0/5 [00:00<?, ?it/s]"
      ]
     },
     "metadata": {},
     "output_type": "display_data"
    },
    {
     "name": "stderr",
     "output_type": "stream",
     "text": [
      "/N/soft/rhel7/python/3.9.8/lib/python3.9/site-packages/sklearn/utils/validation.py:993: DataConversionWarning: A column-vector y was passed when a 1d array was expected. Please change the shape of y to (n_samples, ), for example using ravel().\n",
      "  y = column_or_1d(y, warn=True)\n",
      "/tmp/ipykernel_24360/2613017783.py:31: RuntimeWarning: invalid value encountered in true_divide\n",
      "  return posterior*weights_matrix/(posterior*weights_matrix).sum()\n"
     ]
    },
    {
     "name": "stdout",
     "output_type": "stream",
     "text": [
      "Converged\n"
     ]
    },
    {
     "name": "stderr",
     "output_type": "stream",
     "text": [
      "/N/soft/rhel7/python/3.9.8/lib/python3.9/site-packages/sklearn/utils/validation.py:993: DataConversionWarning: A column-vector y was passed when a 1d array was expected. Please change the shape of y to (n_samples, ), for example using ravel().\n",
      "  y = column_or_1d(y, warn=True)\n"
     ]
    },
    {
     "data": {
      "application/vnd.jupyter.widget-view+json": {
       "model_id": "1cff42962b284ce8b097029b46ef5b4d",
       "version_major": 2,
       "version_minor": 0
      },
      "text/plain": [
       "Pandas Apply:   0%|          | 0/5 [00:00<?, ?it/s]"
      ]
     },
     "metadata": {},
     "output_type": "display_data"
    },
    {
     "name": "stderr",
     "output_type": "stream",
     "text": [
      "/N/soft/rhel7/python/3.9.8/lib/python3.9/site-packages/sklearn/utils/validation.py:993: DataConversionWarning: A column-vector y was passed when a 1d array was expected. Please change the shape of y to (n_samples, ), for example using ravel().\n",
      "  y = column_or_1d(y, warn=True)\n",
      "/tmp/ipykernel_24360/2613017783.py:31: RuntimeWarning: invalid value encountered in true_divide\n",
      "  return posterior*weights_matrix/(posterior*weights_matrix).sum()\n"
     ]
    },
    {
     "name": "stdout",
     "output_type": "stream",
     "text": [
      "Converged\n"
     ]
    },
    {
     "name": "stderr",
     "output_type": "stream",
     "text": [
      "/N/soft/rhel7/python/3.9.8/lib/python3.9/site-packages/sklearn/utils/validation.py:993: DataConversionWarning: A column-vector y was passed when a 1d array was expected. Please change the shape of y to (n_samples, ), for example using ravel().\n",
      "  y = column_or_1d(y, warn=True)\n"
     ]
    },
    {
     "data": {
      "application/vnd.jupyter.widget-view+json": {
       "model_id": "13a59bfc38cf4fcc98b5d2ceced05a98",
       "version_major": 2,
       "version_minor": 0
      },
      "text/plain": [
       "Pandas Apply:   0%|          | 0/5 [00:00<?, ?it/s]"
      ]
     },
     "metadata": {},
     "output_type": "display_data"
    },
    {
     "name": "stderr",
     "output_type": "stream",
     "text": [
      "/N/soft/rhel7/python/3.9.8/lib/python3.9/site-packages/sklearn/utils/validation.py:993: DataConversionWarning: A column-vector y was passed when a 1d array was expected. Please change the shape of y to (n_samples, ), for example using ravel().\n",
      "  y = column_or_1d(y, warn=True)\n",
      "/tmp/ipykernel_24360/2613017783.py:31: RuntimeWarning: invalid value encountered in true_divide\n",
      "  return posterior*weights_matrix/(posterior*weights_matrix).sum()\n"
     ]
    },
    {
     "name": "stdout",
     "output_type": "stream",
     "text": [
      "Converged\n"
     ]
    },
    {
     "name": "stderr",
     "output_type": "stream",
     "text": [
      "/N/soft/rhel7/python/3.9.8/lib/python3.9/site-packages/sklearn/utils/validation.py:993: DataConversionWarning: A column-vector y was passed when a 1d array was expected. Please change the shape of y to (n_samples, ), for example using ravel().\n",
      "  y = column_or_1d(y, warn=True)\n"
     ]
    },
    {
     "data": {
      "application/vnd.jupyter.widget-view+json": {
       "model_id": "b55e725dd6ab4e629aea8c1163d43017",
       "version_major": 2,
       "version_minor": 0
      },
      "text/plain": [
       "Pandas Apply:   0%|          | 0/5 [00:00<?, ?it/s]"
      ]
     },
     "metadata": {},
     "output_type": "display_data"
    },
    {
     "name": "stderr",
     "output_type": "stream",
     "text": [
      "/N/soft/rhel7/python/3.9.8/lib/python3.9/site-packages/sklearn/utils/validation.py:993: DataConversionWarning: A column-vector y was passed when a 1d array was expected. Please change the shape of y to (n_samples, ), for example using ravel().\n",
      "  y = column_or_1d(y, warn=True)\n",
      "/tmp/ipykernel_24360/2613017783.py:31: RuntimeWarning: invalid value encountered in true_divide\n",
      "  return posterior*weights_matrix/(posterior*weights_matrix).sum()\n"
     ]
    },
    {
     "name": "stdout",
     "output_type": "stream",
     "text": [
      "Converged\n"
     ]
    },
    {
     "name": "stderr",
     "output_type": "stream",
     "text": [
      "/N/soft/rhel7/python/3.9.8/lib/python3.9/site-packages/sklearn/utils/validation.py:993: DataConversionWarning: A column-vector y was passed when a 1d array was expected. Please change the shape of y to (n_samples, ), for example using ravel().\n",
      "  y = column_or_1d(y, warn=True)\n"
     ]
    },
    {
     "data": {
      "application/vnd.jupyter.widget-view+json": {
       "model_id": "267156b4d07f42019e419860ce76bb0c",
       "version_major": 2,
       "version_minor": 0
      },
      "text/plain": [
       "Pandas Apply:   0%|          | 0/5 [00:00<?, ?it/s]"
      ]
     },
     "metadata": {},
     "output_type": "display_data"
    },
    {
     "name": "stderr",
     "output_type": "stream",
     "text": [
      "/N/soft/rhel7/python/3.9.8/lib/python3.9/site-packages/sklearn/utils/validation.py:993: DataConversionWarning: A column-vector y was passed when a 1d array was expected. Please change the shape of y to (n_samples, ), for example using ravel().\n",
      "  y = column_or_1d(y, warn=True)\n",
      "/tmp/ipykernel_24360/2613017783.py:31: RuntimeWarning: invalid value encountered in true_divide\n",
      "  return posterior*weights_matrix/(posterior*weights_matrix).sum()\n"
     ]
    },
    {
     "name": "stdout",
     "output_type": "stream",
     "text": [
      "Converged\n"
     ]
    },
    {
     "name": "stderr",
     "output_type": "stream",
     "text": [
      "/N/soft/rhel7/python/3.9.8/lib/python3.9/site-packages/sklearn/utils/validation.py:993: DataConversionWarning: A column-vector y was passed when a 1d array was expected. Please change the shape of y to (n_samples, ), for example using ravel().\n",
      "  y = column_or_1d(y, warn=True)\n"
     ]
    },
    {
     "data": {
      "application/vnd.jupyter.widget-view+json": {
       "model_id": "51f9e49d816d4bd78ab77a1a52b0260a",
       "version_major": 2,
       "version_minor": 0
      },
      "text/plain": [
       "Pandas Apply:   0%|          | 0/5 [00:00<?, ?it/s]"
      ]
     },
     "metadata": {},
     "output_type": "display_data"
    },
    {
     "name": "stderr",
     "output_type": "stream",
     "text": [
      "/N/soft/rhel7/python/3.9.8/lib/python3.9/site-packages/sklearn/utils/validation.py:993: DataConversionWarning: A column-vector y was passed when a 1d array was expected. Please change the shape of y to (n_samples, ), for example using ravel().\n",
      "  y = column_or_1d(y, warn=True)\n",
      "/tmp/ipykernel_24360/2613017783.py:31: RuntimeWarning: invalid value encountered in true_divide\n",
      "  return posterior*weights_matrix/(posterior*weights_matrix).sum()\n"
     ]
    },
    {
     "name": "stdout",
     "output_type": "stream",
     "text": [
      "Converged\n"
     ]
    },
    {
     "name": "stderr",
     "output_type": "stream",
     "text": [
      "/N/soft/rhel7/python/3.9.8/lib/python3.9/site-packages/sklearn/utils/validation.py:993: DataConversionWarning: A column-vector y was passed when a 1d array was expected. Please change the shape of y to (n_samples, ), for example using ravel().\n",
      "  y = column_or_1d(y, warn=True)\n"
     ]
    },
    {
     "data": {
      "application/vnd.jupyter.widget-view+json": {
       "model_id": "8da626babd39456bb76043555e5816c7",
       "version_major": 2,
       "version_minor": 0
      },
      "text/plain": [
       "Pandas Apply:   0%|          | 0/5 [00:00<?, ?it/s]"
      ]
     },
     "metadata": {},
     "output_type": "display_data"
    },
    {
     "name": "stderr",
     "output_type": "stream",
     "text": [
      "/N/soft/rhel7/python/3.9.8/lib/python3.9/site-packages/sklearn/utils/validation.py:993: DataConversionWarning: A column-vector y was passed when a 1d array was expected. Please change the shape of y to (n_samples, ), for example using ravel().\n",
      "  y = column_or_1d(y, warn=True)\n",
      "/tmp/ipykernel_24360/2613017783.py:31: RuntimeWarning: invalid value encountered in true_divide\n",
      "  return posterior*weights_matrix/(posterior*weights_matrix).sum()\n"
     ]
    },
    {
     "name": "stdout",
     "output_type": "stream",
     "text": [
      "Converged\n"
     ]
    },
    {
     "name": "stderr",
     "output_type": "stream",
     "text": [
      "/N/soft/rhel7/python/3.9.8/lib/python3.9/site-packages/sklearn/utils/validation.py:993: DataConversionWarning: A column-vector y was passed when a 1d array was expected. Please change the shape of y to (n_samples, ), for example using ravel().\n",
      "  y = column_or_1d(y, warn=True)\n"
     ]
    },
    {
     "data": {
      "application/vnd.jupyter.widget-view+json": {
       "model_id": "223875212c1247018c9f76c1baf5e658",
       "version_major": 2,
       "version_minor": 0
      },
      "text/plain": [
       "Pandas Apply:   0%|          | 0/5 [00:00<?, ?it/s]"
      ]
     },
     "metadata": {},
     "output_type": "display_data"
    },
    {
     "name": "stderr",
     "output_type": "stream",
     "text": [
      "/N/soft/rhel7/python/3.9.8/lib/python3.9/site-packages/sklearn/utils/validation.py:993: DataConversionWarning: A column-vector y was passed when a 1d array was expected. Please change the shape of y to (n_samples, ), for example using ravel().\n",
      "  y = column_or_1d(y, warn=True)\n",
      "/tmp/ipykernel_24360/2613017783.py:31: RuntimeWarning: invalid value encountered in true_divide\n",
      "  return posterior*weights_matrix/(posterior*weights_matrix).sum()\n"
     ]
    },
    {
     "name": "stdout",
     "output_type": "stream",
     "text": [
      "Converged\n"
     ]
    },
    {
     "name": "stderr",
     "output_type": "stream",
     "text": [
      "/N/soft/rhel7/python/3.9.8/lib/python3.9/site-packages/sklearn/utils/validation.py:993: DataConversionWarning: A column-vector y was passed when a 1d array was expected. Please change the shape of y to (n_samples, ), for example using ravel().\n",
      "  y = column_or_1d(y, warn=True)\n"
     ]
    },
    {
     "data": {
      "application/vnd.jupyter.widget-view+json": {
       "model_id": "e248e3a5868e4eed93af83567ed30c58",
       "version_major": 2,
       "version_minor": 0
      },
      "text/plain": [
       "Pandas Apply:   0%|          | 0/5 [00:00<?, ?it/s]"
      ]
     },
     "metadata": {},
     "output_type": "display_data"
    },
    {
     "name": "stderr",
     "output_type": "stream",
     "text": [
      "/N/soft/rhel7/python/3.9.8/lib/python3.9/site-packages/sklearn/utils/validation.py:993: DataConversionWarning: A column-vector y was passed when a 1d array was expected. Please change the shape of y to (n_samples, ), for example using ravel().\n",
      "  y = column_or_1d(y, warn=True)\n",
      "/tmp/ipykernel_24360/2613017783.py:31: RuntimeWarning: invalid value encountered in true_divide\n",
      "  return posterior*weights_matrix/(posterior*weights_matrix).sum()\n"
     ]
    },
    {
     "name": "stdout",
     "output_type": "stream",
     "text": [
      "Converged\n"
     ]
    },
    {
     "name": "stderr",
     "output_type": "stream",
     "text": [
      "/N/soft/rhel7/python/3.9.8/lib/python3.9/site-packages/sklearn/utils/validation.py:993: DataConversionWarning: A column-vector y was passed when a 1d array was expected. Please change the shape of y to (n_samples, ), for example using ravel().\n",
      "  y = column_or_1d(y, warn=True)\n"
     ]
    },
    {
     "data": {
      "application/vnd.jupyter.widget-view+json": {
       "model_id": "84731fb7b8b4418788a3085bf29b002c",
       "version_major": 2,
       "version_minor": 0
      },
      "text/plain": [
       "Pandas Apply:   0%|          | 0/5 [00:00<?, ?it/s]"
      ]
     },
     "metadata": {},
     "output_type": "display_data"
    },
    {
     "name": "stderr",
     "output_type": "stream",
     "text": [
      "/N/soft/rhel7/python/3.9.8/lib/python3.9/site-packages/sklearn/utils/validation.py:993: DataConversionWarning: A column-vector y was passed when a 1d array was expected. Please change the shape of y to (n_samples, ), for example using ravel().\n",
      "  y = column_or_1d(y, warn=True)\n",
      "/tmp/ipykernel_24360/2613017783.py:31: RuntimeWarning: invalid value encountered in true_divide\n",
      "  return posterior*weights_matrix/(posterior*weights_matrix).sum()\n"
     ]
    },
    {
     "name": "stdout",
     "output_type": "stream",
     "text": [
      "Converged\n"
     ]
    },
    {
     "name": "stderr",
     "output_type": "stream",
     "text": [
      "/N/soft/rhel7/python/3.9.8/lib/python3.9/site-packages/sklearn/utils/validation.py:993: DataConversionWarning: A column-vector y was passed when a 1d array was expected. Please change the shape of y to (n_samples, ), for example using ravel().\n",
      "  y = column_or_1d(y, warn=True)\n"
     ]
    },
    {
     "data": {
      "application/vnd.jupyter.widget-view+json": {
       "model_id": "a493f08da8f94d959b304a9757d917bb",
       "version_major": 2,
       "version_minor": 0
      },
      "text/plain": [
       "Pandas Apply:   0%|          | 0/5 [00:00<?, ?it/s]"
      ]
     },
     "metadata": {},
     "output_type": "display_data"
    },
    {
     "name": "stderr",
     "output_type": "stream",
     "text": [
      "/N/soft/rhel7/python/3.9.8/lib/python3.9/site-packages/sklearn/utils/validation.py:993: DataConversionWarning: A column-vector y was passed when a 1d array was expected. Please change the shape of y to (n_samples, ), for example using ravel().\n",
      "  y = column_or_1d(y, warn=True)\n",
      "/tmp/ipykernel_24360/2613017783.py:31: RuntimeWarning: invalid value encountered in true_divide\n",
      "  return posterior*weights_matrix/(posterior*weights_matrix).sum()\n"
     ]
    },
    {
     "name": "stdout",
     "output_type": "stream",
     "text": [
      "Converged\n"
     ]
    },
    {
     "name": "stderr",
     "output_type": "stream",
     "text": [
      "/N/soft/rhel7/python/3.9.8/lib/python3.9/site-packages/sklearn/utils/validation.py:993: DataConversionWarning: A column-vector y was passed when a 1d array was expected. Please change the shape of y to (n_samples, ), for example using ravel().\n",
      "  y = column_or_1d(y, warn=True)\n"
     ]
    },
    {
     "data": {
      "application/vnd.jupyter.widget-view+json": {
       "model_id": "73191fc260cd4c02a9bb007354a4ed33",
       "version_major": 2,
       "version_minor": 0
      },
      "text/plain": [
       "Pandas Apply:   0%|          | 0/5 [00:00<?, ?it/s]"
      ]
     },
     "metadata": {},
     "output_type": "display_data"
    },
    {
     "name": "stderr",
     "output_type": "stream",
     "text": [
      "/N/soft/rhel7/python/3.9.8/lib/python3.9/site-packages/sklearn/utils/validation.py:993: DataConversionWarning: A column-vector y was passed when a 1d array was expected. Please change the shape of y to (n_samples, ), for example using ravel().\n",
      "  y = column_or_1d(y, warn=True)\n"
     ]
    }
   ],
   "source": [
    "error_matrix_em=[]\n",
    "error_matrix_kmeans=[]\n",
    "for i in range(2,6):\n",
    "    for j in range(1,21):\n",
    "        sse,clainski,means_matrix_initial=GMM(df_cleaned_dia,i,10)\n",
    "        error_matrix_em.append([i,sse,clainski])\n",
    "        \n",
    "        sse,clainski=kmeans_lyod_with_error(scaled_input_df,i,10,means_matrix_initial)\n",
    "        error_matrix_kmeans.append([i,sse,clainski])\n",
    "error_df_em= pd.DataFrame(error_matrix_em,columns=['number_of_cluster', 'sse','clainski'])  \n",
    "error_df_kmeans= pd.DataFrame(error_matrix_kmeans,columns=['number_of_cluster', 'sse','clainski']) \n"
   ]
  },
  {
   "cell_type": "code",
   "execution_count": 18,
   "id": "270f9e48",
   "metadata": {},
   "outputs": [],
   "source": [
    "error_df_em.to_csv('6_em_no_update.csv',index=False)\n",
    "error_df_em.to_csv('6_kmeans_no_update.csv',index=False)"
   ]
  },
  {
   "cell_type": "code",
   "execution_count": 19,
   "id": "980d9436",
   "metadata": {},
   "outputs": [],
   "source": [
    "\n",
    "error_df_em['algo']='em'\n",
    "error_df_kmeans['algo']='kmeans'\n",
    "\n",
    "\n",
    "run_time_diab=pd.DataFrame()\n",
    "run_time_diab=pd.concat( [ error_df_em[['algo','number_of_cluster','sse','clainski']],\n",
    "    error_df_kmeans[['algo','number_of_cluster', 'sse','clainski']]\n",
    "                        ],ignore_index=True )"
   ]
  },
  {
   "cell_type": "code",
   "execution_count": 20,
   "id": "fe51c139",
   "metadata": {},
   "outputs": [
    {
     "data": {
      "image/png": "[encoded data removed]",
      "text/plain": [
       "<Figure size 576x432 with 1 Axes>"
      ]
     },
     "metadata": {
      "needs_background": "light"
     },
     "output_type": "display_data"
    }
   ],
   "source": [
    "import seaborn as sns\n",
    "\n",
    "fig, ax = plt.subplots(figsize=(8,6))\n",
    "\n",
    "sns.boxplot(x='number_of_cluster', y='sse', hue='algo',\n",
    "            data=run_time_diab[run_time_diab['algo'].isin (['kmeans','em'])],ax=ax);\n",
    "plt.title('Box Plot of SSE for GMM and K means without updating the covariance and priors')\n",
    "plt.show()"
   ]
  },
  {
   "cell_type": "code",
   "execution_count": 21,
   "id": "f0249d05",
   "metadata": {},
   "outputs": [
    {
     "data": {
      "image/png": "[encoded data removed]",
      "text/plain": [
       "<Figure size 576x432 with 1 Axes>"
      ]
     },
     "metadata": {
      "needs_background": "light"
     },
     "output_type": "display_data"
    }
   ],
   "source": [
    "import seaborn as sns\n",
    "\n",
    "fig, ax = plt.subplots(figsize=(8,6))\n",
    "\n",
    "sns.boxplot(x='number_of_cluster', y='clainski', hue='algo',\n",
    "            data=run_time_diab[run_time_diab['algo'].isin (['kmeans','em'])],ax=ax);\n",
    "plt.title('Box Plot of Clainski for GMM and K means without updating the covariance and priors')\n",
    "plt.show()"
   ]
  },
  {
   "cell_type": "code",
   "execution_count": null,
   "id": "e8957847",
   "metadata": {},
   "outputs": [],
   "source": []
  }
 ],
 "metadata": {
  "kernelspec": {
   "display_name": "Python 3 (ipykernel)",
   "language": "python",
   "name": "python3"
  },
  "language_info": {
   "codemirror_mode": {
    "name": "ipython",
    "version": 3
   },
   "file_extension": ".py",
   "mimetype": "text/x-python",
   "name": "python",
   "nbconvert_exporter": "python",
   "pygments_lexer": "ipython3",
   "version": "3.9.13"
  }
 },
 "nbformat": 4,
 "nbformat_minor": 5
}
