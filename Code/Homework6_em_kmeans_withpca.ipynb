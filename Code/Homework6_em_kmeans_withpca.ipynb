{
 "cells": [
  {
   "cell_type": "code",
   "execution_count": 1,
   "id": "7df6f9e0",
   "metadata": {},
   "outputs": [],
   "source": [
    "import pandas as pd\n",
    "import swifter\n",
    "import matplotlib.pyplot as plt\n",
    "import seaborn as sns\n",
    "from sklearn.preprocessing import LabelEncoder\n",
    "from tqdm import tqdm\n",
    "from sklearn.preprocessing import StandardScaler\n",
    "from scipy.stats import multivariate_normal\n",
    "from sklearn.metrics import silhouette_score, calinski_harabasz_score\n",
    "from scipy.spatial.distance import euclidean\n",
    "\n",
    "df= pd.read_csv('dataset_diabetes/diabetic_data.csv')"
   ]
  },
  {
   "cell_type": "code",
   "execution_count": 2,
   "id": "3b4eb9cd",
   "metadata": {},
   "outputs": [
    {
     "data": {
      "text/html": [
       "<div>\n",
       "<style scoped>\n",
       "    .dataframe tbody tr th:only-of-type {\n",
       "        vertical-align: middle;\n",
       "    }\n",
       "\n",
       "    .dataframe tbody tr th {\n",
       "        vertical-align: top;\n",
       "    }\n",
       "\n",
       "    .dataframe thead th {\n",
       "        text-align: right;\n",
       "    }\n",
       "</style>\n",
       "<table border=\"1\" class=\"dataframe\">\n",
       "  <thead>\n",
       "    <tr style=\"text-align: right;\">\n",
       "      <th></th>\n",
       "      <th>encounter_id</th>\n",
       "      <th>patient_nbr</th>\n",
       "      <th>race</th>\n",
       "      <th>gender</th>\n",
       "      <th>age</th>\n",
       "      <th>weight</th>\n",
       "      <th>admission_type_id</th>\n",
       "      <th>discharge_disposition_id</th>\n",
       "      <th>admission_source_id</th>\n",
       "      <th>time_in_hospital</th>\n",
       "      <th>...</th>\n",
       "      <th>citoglipton</th>\n",
       "      <th>insulin</th>\n",
       "      <th>glyburide-metformin</th>\n",
       "      <th>glipizide-metformin</th>\n",
       "      <th>glimepiride-pioglitazone</th>\n",
       "      <th>metformin-rosiglitazone</th>\n",
       "      <th>metformin-pioglitazone</th>\n",
       "      <th>change</th>\n",
       "      <th>diabetesMed</th>\n",
       "      <th>readmitted</th>\n",
       "    </tr>\n",
       "  </thead>\n",
       "  <tbody>\n",
       "    <tr>\n",
       "      <th>0</th>\n",
       "      <td>2278392</td>\n",
       "      <td>8222157</td>\n",
       "      <td>Caucasian</td>\n",
       "      <td>Female</td>\n",
       "      <td>[0-10)</td>\n",
       "      <td>NaN</td>\n",
       "      <td>6</td>\n",
       "      <td>25</td>\n",
       "      <td>1</td>\n",
       "      <td>1</td>\n",
       "      <td>...</td>\n",
       "      <td>No</td>\n",
       "      <td>No</td>\n",
       "      <td>No</td>\n",
       "      <td>No</td>\n",
       "      <td>No</td>\n",
       "      <td>No</td>\n",
       "      <td>No</td>\n",
       "      <td>No</td>\n",
       "      <td>No</td>\n",
       "      <td>NO</td>\n",
       "    </tr>\n",
       "    <tr>\n",
       "      <th>1</th>\n",
       "      <td>149190</td>\n",
       "      <td>55629189</td>\n",
       "      <td>Caucasian</td>\n",
       "      <td>Female</td>\n",
       "      <td>[10-20)</td>\n",
       "      <td>NaN</td>\n",
       "      <td>1</td>\n",
       "      <td>1</td>\n",
       "      <td>7</td>\n",
       "      <td>3</td>\n",
       "      <td>...</td>\n",
       "      <td>No</td>\n",
       "      <td>Up</td>\n",
       "      <td>No</td>\n",
       "      <td>No</td>\n",
       "      <td>No</td>\n",
       "      <td>No</td>\n",
       "      <td>No</td>\n",
       "      <td>Ch</td>\n",
       "      <td>Yes</td>\n",
       "      <td>&gt;30</td>\n",
       "    </tr>\n",
       "    <tr>\n",
       "      <th>2</th>\n",
       "      <td>64410</td>\n",
       "      <td>86047875</td>\n",
       "      <td>AfricanAmerican</td>\n",
       "      <td>Female</td>\n",
       "      <td>[20-30)</td>\n",
       "      <td>NaN</td>\n",
       "      <td>1</td>\n",
       "      <td>1</td>\n",
       "      <td>7</td>\n",
       "      <td>2</td>\n",
       "      <td>...</td>\n",
       "      <td>No</td>\n",
       "      <td>No</td>\n",
       "      <td>No</td>\n",
       "      <td>No</td>\n",
       "      <td>No</td>\n",
       "      <td>No</td>\n",
       "      <td>No</td>\n",
       "      <td>No</td>\n",
       "      <td>Yes</td>\n",
       "      <td>NO</td>\n",
       "    </tr>\n",
       "    <tr>\n",
       "      <th>3</th>\n",
       "      <td>500364</td>\n",
       "      <td>82442376</td>\n",
       "      <td>Caucasian</td>\n",
       "      <td>Male</td>\n",
       "      <td>[30-40)</td>\n",
       "      <td>NaN</td>\n",
       "      <td>1</td>\n",
       "      <td>1</td>\n",
       "      <td>7</td>\n",
       "      <td>2</td>\n",
       "      <td>...</td>\n",
       "      <td>No</td>\n",
       "      <td>Up</td>\n",
       "      <td>No</td>\n",
       "      <td>No</td>\n",
       "      <td>No</td>\n",
       "      <td>No</td>\n",
       "      <td>No</td>\n",
       "      <td>Ch</td>\n",
       "      <td>Yes</td>\n",
       "      <td>NO</td>\n",
       "    </tr>\n",
       "    <tr>\n",
       "      <th>4</th>\n",
       "      <td>16680</td>\n",
       "      <td>42519267</td>\n",
       "      <td>Caucasian</td>\n",
       "      <td>Male</td>\n",
       "      <td>[40-50)</td>\n",
       "      <td>NaN</td>\n",
       "      <td>1</td>\n",
       "      <td>1</td>\n",
       "      <td>7</td>\n",
       "      <td>1</td>\n",
       "      <td>...</td>\n",
       "      <td>No</td>\n",
       "      <td>Steady</td>\n",
       "      <td>No</td>\n",
       "      <td>No</td>\n",
       "      <td>No</td>\n",
       "      <td>No</td>\n",
       "      <td>No</td>\n",
       "      <td>Ch</td>\n",
       "      <td>Yes</td>\n",
       "      <td>NO</td>\n",
       "    </tr>\n",
       "  </tbody>\n",
       "</table>\n",
       "<p>5 rows × 50 columns</p>\n",
       "</div>"
      ],
      "text/plain": [
       "   encounter_id  patient_nbr             race  gender      age weight  \\\n",
       "0       2278392      8222157        Caucasian  Female   [0-10)    NaN   \n",
       "1        149190     55629189        Caucasian  Female  [10-20)    NaN   \n",
       "2         64410     86047875  AfricanAmerican  Female  [20-30)    NaN   \n",
       "3        500364     82442376        Caucasian    Male  [30-40)    NaN   \n",
       "4         16680     42519267        Caucasian    Male  [40-50)    NaN   \n",
       "\n",
       "   admission_type_id  discharge_disposition_id  admission_source_id  \\\n",
       "0                  6                        25                    1   \n",
       "1                  1                         1                    7   \n",
       "2                  1                         1                    7   \n",
       "3                  1                         1                    7   \n",
       "4                  1                         1                    7   \n",
       "\n",
       "   time_in_hospital  ... citoglipton insulin  glyburide-metformin  \\\n",
       "0                 1  ...          No      No                   No   \n",
       "1                 3  ...          No      Up                   No   \n",
       "2                 2  ...          No      No                   No   \n",
       "3                 2  ...          No      Up                   No   \n",
       "4                 1  ...          No  Steady                   No   \n",
       "\n",
       "   glipizide-metformin  glimepiride-pioglitazone  metformin-rosiglitazone  \\\n",
       "0                   No                        No                       No   \n",
       "1                   No                        No                       No   \n",
       "2                   No                        No                       No   \n",
       "3                   No                        No                       No   \n",
       "4                   No                        No                       No   \n",
       "\n",
       "   metformin-pioglitazone  change diabetesMed readmitted  \n",
       "0                      No      No          No         NO  \n",
       "1                      No      Ch         Yes        >30  \n",
       "2                      No      No         Yes         NO  \n",
       "3                      No      Ch         Yes         NO  \n",
       "4                      No      Ch         Yes         NO  \n",
       "\n",
       "[5 rows x 50 columns]"
      ]
     },
     "execution_count": 2,
     "metadata": {},
     "output_type": "execute_result"
    }
   ],
   "source": [
    "import numpy as np\n",
    "df.replace({'?':np.nan},inplace=True)\n",
    "df.head()"
   ]
  },
  {
   "cell_type": "code",
   "execution_count": 3,
   "id": "8e78ae26",
   "metadata": {},
   "outputs": [
    {
     "name": "stdout",
     "output_type": "stream",
     "text": [
      "Null features ['race', 'weight', 'payer_code', 'medical_specialty', 'diag_1', 'diag_2', 'diag_3'] \n",
      "\n",
      "Feature \t null_count \t not_null_count\n",
      "race \t 2273 \t\t 99493\n",
      "weight \t 98569 \t\t 3197\n",
      "payer_code \t 40256 \t\t 61510\n",
      "medical_specialty \t 49949 \t\t 51817\n",
      "diag_1 \t 21 \t\t 101745\n",
      "diag_2 \t 358 \t\t 101408\n",
      "diag_3 \t 1423 \t\t 100343\n"
     ]
    }
   ],
   "source": [
    "null_feature=[i for i in df.columns if df[i].isnull().sum()>=1]\n",
    "print('Null features {} \\n'.format(null_feature))\n",
    "print('Feature \\t null_count \\t not_null_count')\n",
    "for i in null_feature:\n",
    "    print('{} \\t {} \\t\\t {}'.format(i,df[i].isnull().sum(),df[i].count()))"
   ]
  },
  {
   "cell_type": "code",
   "execution_count": 4,
   "id": "6b5cdf60",
   "metadata": {},
   "outputs": [],
   "source": [
    "#Dropping columns with count of null values around the count of not null values. As they dont provide significant information or \n",
    "#mostly contains null data\n",
    "df.drop(['weight','payer_code','medical_specialty'],axis=1,inplace=True)\n"
   ]
  },
  {
   "cell_type": "code",
   "execution_count": 5,
   "id": "9359e338",
   "metadata": {},
   "outputs": [],
   "source": [
    "df['age'] = df['age'].replace({'[0-10)': 5, '[10-20)': 15, '[20-30)': 25, '[30-40)': 35, '[40-50)': 45, '[50-60)': 55, '[60-70)': 65, '[70-80)': 75, '[80-90)': 85, '[90-100)': 95})"
   ]
  },
  {
   "cell_type": "code",
   "execution_count": 6,
   "id": "89ea44d3",
   "metadata": {},
   "outputs": [],
   "source": [
    "df['readmitted'] = df['readmitted'].replace({'>30':1,'<30':1,'NO':0})\n"
   ]
  },
  {
   "cell_type": "code",
   "execution_count": 7,
   "id": "edc4367d",
   "metadata": {},
   "outputs": [
    {
     "name": "stdout",
     "output_type": "stream",
     "text": [
      "The numeric feature is encounter_id \n",
      " The value counts are 2278392      1\n",
      "190792044    1\n",
      "190790070    1\n",
      "190789722    1\n",
      "190786806    1\n",
      "            ..\n",
      "106665324    1\n",
      "106657776    1\n",
      "106644876    1\n",
      "106644474    1\n",
      "443867222    1\n",
      "Name: encounter_id, Length: 101766, dtype: int64\n",
      "The numeric feature is patient_nbr \n",
      " The value counts are 88785891     40\n",
      "43140906     28\n",
      "1660293      23\n",
      "88227540     23\n",
      "23199021     23\n",
      "             ..\n",
      "11005362      1\n",
      "98252496      1\n",
      "1019673       1\n",
      "13396320      1\n",
      "175429310     1\n",
      "Name: patient_nbr, Length: 71518, dtype: int64\n",
      "The numeric feature is age \n",
      " The value counts are 75    26068\n",
      "65    22483\n",
      "55    17256\n",
      "85    17197\n",
      "45     9685\n",
      "35     3775\n",
      "95     2793\n",
      "25     1657\n",
      "15      691\n",
      "5       161\n",
      "Name: age, dtype: int64\n",
      "The numeric feature is admission_type_id \n",
      " The value counts are 1    53990\n",
      "3    18869\n",
      "2    18480\n",
      "6     5291\n",
      "5     4785\n",
      "8      320\n",
      "7       21\n",
      "4       10\n",
      "Name: admission_type_id, dtype: int64\n",
      "The numeric feature is discharge_disposition_id \n",
      " The value counts are 1     60234\n",
      "3     13954\n",
      "6     12902\n",
      "18     3691\n",
      "2      2128\n",
      "22     1993\n",
      "11     1642\n",
      "5      1184\n",
      "25      989\n",
      "4       815\n",
      "7       623\n",
      "23      412\n",
      "13      399\n",
      "14      372\n",
      "28      139\n",
      "8       108\n",
      "15       63\n",
      "24       48\n",
      "9        21\n",
      "17       14\n",
      "16       11\n",
      "19        8\n",
      "10        6\n",
      "27        5\n",
      "12        3\n",
      "20        2\n",
      "Name: discharge_disposition_id, dtype: int64\n",
      "The numeric feature is admission_source_id \n",
      " The value counts are 7     57494\n",
      "1     29565\n",
      "17     6781\n",
      "4      3187\n",
      "6      2264\n",
      "2      1104\n",
      "5       855\n",
      "3       187\n",
      "20      161\n",
      "9       125\n",
      "8        16\n",
      "22       12\n",
      "10        8\n",
      "14        2\n",
      "11        2\n",
      "25        2\n",
      "13        1\n",
      "Name: admission_source_id, dtype: int64\n",
      "The numeric feature is time_in_hospital \n",
      " The value counts are 3     17756\n",
      "2     17224\n",
      "1     14208\n",
      "4     13924\n",
      "5      9966\n",
      "6      7539\n",
      "7      5859\n",
      "8      4391\n",
      "9      3002\n",
      "10     2342\n",
      "11     1855\n",
      "12     1448\n",
      "13     1210\n",
      "14     1042\n",
      "Name: time_in_hospital, dtype: int64\n",
      "The numeric feature is num_lab_procedures \n",
      " The value counts are 1      3208\n",
      "43     2804\n",
      "44     2496\n",
      "45     2376\n",
      "38     2213\n",
      "       ... \n",
      "120       1\n",
      "132       1\n",
      "121       1\n",
      "126       1\n",
      "118       1\n",
      "Name: num_lab_procedures, Length: 118, dtype: int64\n",
      "The numeric feature is num_procedures \n",
      " The value counts are 0    46652\n",
      "1    20742\n",
      "2    12717\n",
      "3     9443\n",
      "6     4954\n",
      "4     4180\n",
      "5     3078\n",
      "Name: num_procedures, dtype: int64\n",
      "The numeric feature is num_medications \n",
      " The value counts are 13    6086\n",
      "12    6004\n",
      "11    5795\n",
      "15    5792\n",
      "14    5707\n",
      "      ... \n",
      "70       2\n",
      "75       2\n",
      "81       1\n",
      "79       1\n",
      "74       1\n",
      "Name: num_medications, Length: 75, dtype: int64\n",
      "The numeric feature is number_outpatient \n",
      " The value counts are 0     85027\n",
      "1      8547\n",
      "2      3594\n",
      "3      2042\n",
      "4      1099\n",
      "5       533\n",
      "6       303\n",
      "7       155\n",
      "8        98\n",
      "9        83\n",
      "10       57\n",
      "11       42\n",
      "13       31\n",
      "12       30\n",
      "14       28\n",
      "15       20\n",
      "16       15\n",
      "17        8\n",
      "21        7\n",
      "20        7\n",
      "18        5\n",
      "22        5\n",
      "19        3\n",
      "27        3\n",
      "24        3\n",
      "26        2\n",
      "23        2\n",
      "25        2\n",
      "33        2\n",
      "35        2\n",
      "36        2\n",
      "29        2\n",
      "34        1\n",
      "39        1\n",
      "42        1\n",
      "28        1\n",
      "37        1\n",
      "38        1\n",
      "40        1\n",
      "Name: number_outpatient, dtype: int64\n",
      "The numeric feature is number_emergency \n",
      " The value counts are 0     90383\n",
      "1      7677\n",
      "2      2042\n",
      "3       725\n",
      "4       374\n",
      "5       192\n",
      "6        94\n",
      "7        73\n",
      "8        50\n",
      "10       34\n",
      "9        33\n",
      "11       23\n",
      "13       12\n",
      "12       10\n",
      "22        6\n",
      "16        5\n",
      "18        5\n",
      "19        4\n",
      "20        4\n",
      "15        3\n",
      "14        3\n",
      "25        2\n",
      "21        2\n",
      "28        1\n",
      "42        1\n",
      "46        1\n",
      "76        1\n",
      "37        1\n",
      "64        1\n",
      "63        1\n",
      "54        1\n",
      "24        1\n",
      "29        1\n",
      "Name: number_emergency, dtype: int64\n",
      "The numeric feature is number_inpatient \n",
      " The value counts are 0     67630\n",
      "1     19521\n",
      "2      7566\n",
      "3      3411\n",
      "4      1622\n",
      "5       812\n",
      "6       480\n",
      "7       268\n",
      "8       151\n",
      "9       111\n",
      "10       61\n",
      "11       49\n",
      "12       34\n",
      "13       20\n",
      "14       10\n",
      "15        9\n",
      "16        6\n",
      "19        2\n",
      "17        1\n",
      "21        1\n",
      "18        1\n",
      "Name: number_inpatient, dtype: int64\n",
      "The numeric feature is number_diagnoses \n",
      " The value counts are 9     49474\n",
      "5     11393\n",
      "8     10616\n",
      "7     10393\n",
      "6     10161\n",
      "4      5537\n",
      "3      2835\n",
      "2      1023\n",
      "1       219\n",
      "16       45\n",
      "10       17\n",
      "13       16\n",
      "11       11\n",
      "15       10\n",
      "12        9\n",
      "14        7\n",
      "Name: number_diagnoses, dtype: int64\n",
      "The numeric feature is readmitted \n",
      " The value counts are 0    54864\n",
      "1    46902\n",
      "Name: readmitted, dtype: int64\n"
     ]
    }
   ],
   "source": [
    "for i in df.select_dtypes(include=['int', 'float']).columns.to_list():\n",
    "    print('The numeric feature is {} \\n The value counts are {}'.format(i,df[i].value_counts()) )"
   ]
  },
  {
   "cell_type": "code",
   "execution_count": 8,
   "id": "80917039",
   "metadata": {},
   "outputs": [],
   "source": [
    "df.drop(columns=['encounter_id','patient_nbr'],inplace=True,axis=1)"
   ]
  },
  {
   "cell_type": "code",
   "execution_count": 9,
   "id": "7350c7ef",
   "metadata": {},
   "outputs": [
    {
     "data": {
      "text/html": [
       "<div>\n",
       "<style scoped>\n",
       "    .dataframe tbody tr th:only-of-type {\n",
       "        vertical-align: middle;\n",
       "    }\n",
       "\n",
       "    .dataframe tbody tr th {\n",
       "        vertical-align: top;\n",
       "    }\n",
       "\n",
       "    .dataframe thead th {\n",
       "        text-align: right;\n",
       "    }\n",
       "</style>\n",
       "<table border=\"1\" class=\"dataframe\">\n",
       "  <thead>\n",
       "    <tr style=\"text-align: right;\">\n",
       "      <th></th>\n",
       "      <th>Feature</th>\n",
       "      <th>Value</th>\n",
       "      <th>Count</th>\n",
       "      <th>Percentage</th>\n",
       "    </tr>\n",
       "  </thead>\n",
       "  <tbody>\n",
       "    <tr>\n",
       "      <th>0</th>\n",
       "      <td>max_glu_serum</td>\n",
       "      <td>None</td>\n",
       "      <td>96420</td>\n",
       "      <td>94.746772</td>\n",
       "    </tr>\n",
       "    <tr>\n",
       "      <th>1</th>\n",
       "      <td>max_glu_serum</td>\n",
       "      <td>Norm</td>\n",
       "      <td>2597</td>\n",
       "      <td>2.551933</td>\n",
       "    </tr>\n",
       "    <tr>\n",
       "      <th>2</th>\n",
       "      <td>max_glu_serum</td>\n",
       "      <td>&gt;200</td>\n",
       "      <td>1485</td>\n",
       "      <td>1.459230</td>\n",
       "    </tr>\n",
       "    <tr>\n",
       "      <th>3</th>\n",
       "      <td>max_glu_serum</td>\n",
       "      <td>&gt;300</td>\n",
       "      <td>1264</td>\n",
       "      <td>1.242065</td>\n",
       "    </tr>\n",
       "    <tr>\n",
       "      <th>4</th>\n",
       "      <td>A1Cresult</td>\n",
       "      <td>None</td>\n",
       "      <td>84748</td>\n",
       "      <td>83.277322</td>\n",
       "    </tr>\n",
       "    <tr>\n",
       "      <th>...</th>\n",
       "      <td>...</td>\n",
       "      <td>...</td>\n",
       "      <td>...</td>\n",
       "      <td>...</td>\n",
       "    </tr>\n",
       "    <tr>\n",
       "      <th>74</th>\n",
       "      <td>glimepiride-pioglitazone</td>\n",
       "      <td>Steady</td>\n",
       "      <td>1</td>\n",
       "      <td>0.000983</td>\n",
       "    </tr>\n",
       "    <tr>\n",
       "      <th>75</th>\n",
       "      <td>metformin-rosiglitazone</td>\n",
       "      <td>No</td>\n",
       "      <td>101764</td>\n",
       "      <td>99.998035</td>\n",
       "    </tr>\n",
       "    <tr>\n",
       "      <th>76</th>\n",
       "      <td>metformin-rosiglitazone</td>\n",
       "      <td>Steady</td>\n",
       "      <td>2</td>\n",
       "      <td>0.001965</td>\n",
       "    </tr>\n",
       "    <tr>\n",
       "      <th>77</th>\n",
       "      <td>metformin-pioglitazone</td>\n",
       "      <td>No</td>\n",
       "      <td>101765</td>\n",
       "      <td>99.999017</td>\n",
       "    </tr>\n",
       "    <tr>\n",
       "      <th>78</th>\n",
       "      <td>metformin-pioglitazone</td>\n",
       "      <td>Steady</td>\n",
       "      <td>1</td>\n",
       "      <td>0.000983</td>\n",
       "    </tr>\n",
       "  </tbody>\n",
       "</table>\n",
       "<p>79 rows × 4 columns</p>\n",
       "</div>"
      ],
      "text/plain": [
       "                     Feature   Value   Count  Percentage\n",
       "0              max_glu_serum    None   96420   94.746772\n",
       "1              max_glu_serum    Norm    2597    2.551933\n",
       "2              max_glu_serum    >200    1485    1.459230\n",
       "3              max_glu_serum    >300    1264    1.242065\n",
       "4                  A1Cresult    None   84748   83.277322\n",
       "..                       ...     ...     ...         ...\n",
       "74  glimepiride-pioglitazone  Steady       1    0.000983\n",
       "75   metformin-rosiglitazone      No  101764   99.998035\n",
       "76   metformin-rosiglitazone  Steady       2    0.001965\n",
       "77    metformin-pioglitazone      No  101765   99.999017\n",
       "78    metformin-pioglitazone  Steady       1    0.000983\n",
       "\n",
       "[79 rows x 4 columns]"
      ]
     },
     "execution_count": 9,
     "metadata": {},
     "output_type": "execute_result"
    }
   ],
   "source": [
    "meds=['max_glu_serum', 'A1Cresult', 'metformin', 'repaglinide', 'nateglinide', 'chlorpropamide',\n",
    "      'glimepiride', 'acetohexamide', 'glipizide', 'glyburide', 'tolbutamide', 'pioglitazone', 'rosiglitazone', \n",
    "      'acarbose', 'miglitol', 'troglitazone', 'tolazamide', 'examide', 'citoglipton', 'insulin', 'glyburide-metformin',\n",
    "      'glipizide-metformin', 'glimepiride-pioglitazone', 'metformin-rosiglitazone', 'metformin-pioglitazone']\n",
    "df_value_counts=pd.DataFrame()\n",
    "for i in meds:\n",
    "    value_counts=df[i].value_counts()\n",
    "    percent = []\n",
    "    for j in value_counts.index:\n",
    "        percent.append(value_counts[j] *100/ len(df))\n",
    "    ## PErcentage dataframe to store the feature, its unique values, the count and the percentage\n",
    "    df_temp=pd.DataFrame({'Feature':i,'Value': value_counts.index, 'Count': value_counts.values, 'Percentage': percent})\n",
    "    df_value_counts=pd.concat([df_value_counts,df_temp],ignore_index=True)\n",
    "df_value_counts.head(80)  "
   ]
  },
  {
   "cell_type": "code",
   "execution_count": 10,
   "id": "a628bcd9",
   "metadata": {},
   "outputs": [],
   "source": [
    "skewed_data=df_value_counts[df_value_counts['Percentage']>95]['Feature'].to_list()\n",
    "df.drop(columns=skewed_data,inplace=True)"
   ]
  },
  {
   "cell_type": "code",
   "execution_count": 11,
   "id": "5254bb36",
   "metadata": {},
   "outputs": [],
   "source": [
    "label_encoded_columns=[]\n",
    "for i in df.select_dtypes(include=['object']).columns.to_list():\n",
    "    if i not in skewed_data:\n",
    "        label_encoded_columns.append(i)\n",
    "## The columns remaining after all the EDA that are to be label encoded"
   ]
  },
  {
   "cell_type": "code",
   "execution_count": 12,
   "id": "3f0ef278",
   "metadata": {},
   "outputs": [
    {
     "data": {
      "application/vnd.jupyter.widget-view+json": {
       "model_id": "ad5ce33c707d44c79f2946ed68782542",
       "version_major": 2,
       "version_minor": 0
      },
      "text/plain": [
       "Pandas Apply:   0%|          | 0/11 [00:00<?, ?it/s]"
      ]
     },
     "metadata": {},
     "output_type": "display_data"
    }
   ],
   "source": [
    "df_cleaned_dia=df.copy()\n",
    "## creating the copy of data before performing label encoding and one hot encoding\n",
    "one_hot = pd.get_dummies(df_cleaned_dia[['gender','race']])\n",
    "label_encoded_columns.remove('diag_1')\n",
    "label_encoded_columns.remove('diag_2')\n",
    "label_encoded_columns.remove('diag_3')\n",
    "label_encoded_columns.remove('gender')\n",
    "label_encoded_columns.remove('race')\n",
    "# combine the one-hot encoded columns with the original dataframe\n",
    "df_cleaned_dia = pd.concat([df_cleaned_dia, one_hot], axis=1)\n",
    "df_cleaned_dia.drop(columns=['diag_1','diag_2','diag_3','gender','race'],inplace=True)\n",
    "##\n",
    "df_cleaned_dia[label_encoded_columns]=df_cleaned_dia[label_encoded_columns].swifter.apply(LabelEncoder().fit_transform)"
   ]
  },
  {
   "cell_type": "code",
   "execution_count": 13,
   "id": "19e79738",
   "metadata": {},
   "outputs": [
    {
     "data": {
      "text/plain": [
       "(101766, 32)"
      ]
     },
     "execution_count": 13,
     "metadata": {},
     "output_type": "execute_result"
    }
   ],
   "source": [
    "df_cleaned_dia.shape"
   ]
  },
  {
   "cell_type": "code",
   "execution_count": 16,
   "id": "2229573d",
   "metadata": {},
   "outputs": [],
   "source": [
    "import pandas as pd\n",
    "import swifter\n",
    "import matplotlib.pyplot as plt\n",
    "import seaborn as sns\n",
    "from sklearn.preprocessing import LabelEncoder\n",
    "from tqdm import tqdm\n",
    "import numpy as np\n",
    "from sklearn.preprocessing import StandardScaler\n",
    "from numpy import linalg as LA\n",
    "import warnings\n",
    "\n",
    "\n",
    "\n",
    "def PCA(df,threshold):\n",
    "    ## Performing Standardization so that all features are given same importance initially and each feature can contribute\n",
    "    ## equally to PC irrespective of scale or magnitude\n",
    "    df =pd.DataFrame(StandardScaler().fit_transform(df))\n",
    "    ## Performing Data Centering on standardized dataframe\n",
    "    centred_df= df-np.mean(df,axis=0)\n",
    "    ## Calculating Covariance \n",
    "    covariance=np.cov(df.T)\n",
    "    eigen_values, eigen_vectors = LA.eig(covariance)\n",
    "    ## Sorting the eigen values in descending order, using argsort, we get the indices of eigen values in descending order\n",
    "    sorted_index=eigen_values.argsort()[::-1]\n",
    "    df_variance=pd.DataFrame(eigen_values[sorted_index]/sum(eigen_values),columns=['variance'])\n",
    "    df_variance['cumulative_variance']= df_variance['variance'].cumsum()\n",
    "    ## Number of principal components required to cover variance uptill certian threshold\n",
    "    df_number_pc_var=df_variance[df_variance['cumulative_variance']<= threshold]\n",
    "    number_of_pc=len(df_number_pc_var)\n",
    "    print(\"The number of principal components required to cover {} percent variance are {}\".format(threshold*100,number_of_pc))\n",
    "    ## Selecting the required number of eigen vectores for performing dot product\n",
    "    selected_eigen_vectors=eigen_vectors[:,sorted_index[:number_of_pc]]\n",
    "    \n",
    "    #Projecting data over the selected number of principal components\n",
    "    principal_component=centred_df.dot(selected_eigen_vectors) #Performing dot product\n",
    "    principal_component.columns=[f'PC{i+1}' for i in range(number_of_pc)]\n",
    "    ## Creating Scree plots\n",
    "    \n",
    "    fig, axes = plt.subplots(1, 2, figsize=(20, 6))\n",
    "\n",
    "    # Plot the first subplot of variance on the left side\n",
    "    axes[0].plot(range(1,len(df_number_pc_var)+1), df_number_pc_var['variance'],'ro-', linewidth=2)\n",
    "    axes[0].set_title('Scree Plot for Variance')\n",
    "    axes[0].set_ylabel('Variance')\n",
    "    axes[0].set_xlabel('Number of Principal Component')\n",
    "\n",
    "\n",
    "    # Plot the second subplot of cumulative variance on the right side\n",
    "    axes[1].plot(range(1,len(df_number_pc_var)+1), df_number_pc_var['cumulative_variance'],'ro-', linewidth=2)\n",
    "    axes[1].set_title('Scree Plot for Cumulative Variance')\n",
    "    axes[1].set_ylabel('Cumulative Variance')\n",
    "    axes[1].set_xlabel('Number of Principal Component')\n",
    "\n",
    "    plt.show()\n",
    "    print('Correlation of PC1,PC2 \\n',principal_component[['PC1','PC2']].corr())\n",
    "    plt.scatter(principal_component['PC1'],principal_component['PC2'])\n",
    "    plt.xlabel('PC1')\n",
    "    plt.ylabel('PC2')\n",
    "    plt.title('Scatter plot of PC1 VS PC2')\n",
    "    plt.show()\n",
    "    print('The Total variance explained by PC1,PC2 is {} percent'.format(round(np.real(df_number_pc_var['cumulative_variance'][1])*100,2)))\n",
    "    \n",
    "    loadings = pd.DataFrame(selected_eigen_vectors,index=df.columns)\n",
    "    warnings.filterwarnings(\"ignore\")\n",
    "    \n",
    "    return principal_component,loadings,df_variance,df_number_pc_var,eigen_values, eigen_vectors"
   ]
  },
  {
   "cell_type": "code",
   "execution_count": 17,
   "id": "2508773c",
   "metadata": {},
   "outputs": [
    {
     "name": "stdout",
     "output_type": "stream",
     "text": [
      "The number of principal components required to cover 90.0 percent variance are 24\n"
     ]
    },
    {
     "data": {
      "image/png": "[encoded data removed]",
      "text/plain": [
       "<Figure size 1440x432 with 2 Axes>"
      ]
     },
     "metadata": {
      "needs_background": "light"
     },
     "output_type": "display_data"
    },
    {
     "name": "stdout",
     "output_type": "stream",
     "text": [
      "Correlation of PC1,PC2 \n",
      "               PC1           PC2\n",
      "PC1  1.000000e+00  9.690675e-17\n",
      "PC2  9.690675e-17  1.000000e+00\n"
     ]
    },
    {
     "data": {
      "image/png": "[encoded data removed]",
      "text/plain": [
       "<Figure size 432x288 with 1 Axes>"
      ]
     },
     "metadata": {
      "needs_background": "light"
     },
     "output_type": "display_data"
    },
    {
     "name": "stdout",
     "output_type": "stream",
     "text": [
      "The Total variance explained by PC1,PC2 is 14.02 percent\n"
     ]
    }
   ],
   "source": [
    "principal_component,loadings,df_variance,df_number_pc_var,eigen_values, eigen_vectors=PCA(df_cleaned_dia,0.9)\n"
   ]
  },
  {
   "cell_type": "code",
   "execution_count": 21,
   "id": "1db21601",
   "metadata": {},
   "outputs": [],
   "source": [
    "df_cleaned_dia= pd.DataFrame(np.real(principal_component.values), columns=principal_component.columns)"
   ]
  },
  {
   "cell_type": "code",
   "execution_count": 22,
   "id": "a69b72c2",
   "metadata": {},
   "outputs": [
    {
     "data": {
      "text/html": [
       "<div>\n",
       "<style scoped>\n",
       "    .dataframe tbody tr th:only-of-type {\n",
       "        vertical-align: middle;\n",
       "    }\n",
       "\n",
       "    .dataframe tbody tr th {\n",
       "        vertical-align: top;\n",
       "    }\n",
       "\n",
       "    .dataframe thead th {\n",
       "        text-align: right;\n",
       "    }\n",
       "</style>\n",
       "<table border=\"1\" class=\"dataframe\">\n",
       "  <thead>\n",
       "    <tr style=\"text-align: right;\">\n",
       "      <th></th>\n",
       "      <th>PC1</th>\n",
       "      <th>PC2</th>\n",
       "      <th>PC3</th>\n",
       "      <th>PC4</th>\n",
       "      <th>PC5</th>\n",
       "      <th>PC6</th>\n",
       "      <th>PC7</th>\n",
       "      <th>PC8</th>\n",
       "      <th>PC9</th>\n",
       "      <th>PC10</th>\n",
       "      <th>...</th>\n",
       "      <th>PC15</th>\n",
       "      <th>PC16</th>\n",
       "      <th>PC17</th>\n",
       "      <th>PC18</th>\n",
       "      <th>PC19</th>\n",
       "      <th>PC20</th>\n",
       "      <th>PC21</th>\n",
       "      <th>PC22</th>\n",
       "      <th>PC23</th>\n",
       "      <th>PC24</th>\n",
       "    </tr>\n",
       "  </thead>\n",
       "  <tbody>\n",
       "    <tr>\n",
       "      <th>0</th>\n",
       "      <td>3.672430</td>\n",
       "      <td>-0.034377</td>\n",
       "      <td>0.201868</td>\n",
       "      <td>1.224605</td>\n",
       "      <td>1.877240</td>\n",
       "      <td>3.354428</td>\n",
       "      <td>0.701063</td>\n",
       "      <td>0.009101</td>\n",
       "      <td>-1.966560</td>\n",
       "      <td>0.279663</td>\n",
       "      <td>...</td>\n",
       "      <td>0.493735</td>\n",
       "      <td>0.243375</td>\n",
       "      <td>-3.444950</td>\n",
       "      <td>0.815473</td>\n",
       "      <td>-0.715160</td>\n",
       "      <td>-0.547009</td>\n",
       "      <td>0.855121</td>\n",
       "      <td>-2.513595</td>\n",
       "      <td>1.263346</td>\n",
       "      <td>0.915125</td>\n",
       "    </tr>\n",
       "    <tr>\n",
       "      <th>1</th>\n",
       "      <td>-0.548340</td>\n",
       "      <td>-1.177522</td>\n",
       "      <td>-0.290131</td>\n",
       "      <td>0.832073</td>\n",
       "      <td>-0.877733</td>\n",
       "      <td>-0.508227</td>\n",
       "      <td>1.492488</td>\n",
       "      <td>1.543255</td>\n",
       "      <td>-0.716665</td>\n",
       "      <td>-0.195154</td>\n",
       "      <td>...</td>\n",
       "      <td>-0.489849</td>\n",
       "      <td>0.265336</td>\n",
       "      <td>0.579016</td>\n",
       "      <td>0.675764</td>\n",
       "      <td>0.300525</td>\n",
       "      <td>0.509909</td>\n",
       "      <td>-0.122931</td>\n",
       "      <td>-1.676224</td>\n",
       "      <td>-0.328405</td>\n",
       "      <td>2.051335</td>\n",
       "    </tr>\n",
       "    <tr>\n",
       "      <th>2</th>\n",
       "      <td>1.749622</td>\n",
       "      <td>-2.123027</td>\n",
       "      <td>-1.785704</td>\n",
       "      <td>-0.420758</td>\n",
       "      <td>0.381760</td>\n",
       "      <td>1.399144</td>\n",
       "      <td>1.600068</td>\n",
       "      <td>-0.122976</td>\n",
       "      <td>1.393667</td>\n",
       "      <td>1.643519</td>\n",
       "      <td>...</td>\n",
       "      <td>0.115180</td>\n",
       "      <td>-0.143566</td>\n",
       "      <td>0.495211</td>\n",
       "      <td>-1.368273</td>\n",
       "      <td>-0.706020</td>\n",
       "      <td>-0.113541</td>\n",
       "      <td>-0.442292</td>\n",
       "      <td>0.840866</td>\n",
       "      <td>1.053871</td>\n",
       "      <td>2.447084</td>\n",
       "    </tr>\n",
       "    <tr>\n",
       "      <th>3</th>\n",
       "      <td>-0.138539</td>\n",
       "      <td>1.424058</td>\n",
       "      <td>-1.592962</td>\n",
       "      <td>0.271287</td>\n",
       "      <td>-0.099597</td>\n",
       "      <td>-0.454923</td>\n",
       "      <td>1.047722</td>\n",
       "      <td>1.126779</td>\n",
       "      <td>-0.302303</td>\n",
       "      <td>-0.315712</td>\n",
       "      <td>...</td>\n",
       "      <td>-0.692969</td>\n",
       "      <td>0.351812</td>\n",
       "      <td>0.316559</td>\n",
       "      <td>0.543800</td>\n",
       "      <td>-0.857451</td>\n",
       "      <td>0.350229</td>\n",
       "      <td>0.313511</td>\n",
       "      <td>-0.731435</td>\n",
       "      <td>0.016104</td>\n",
       "      <td>1.226664</td>\n",
       "    </tr>\n",
       "    <tr>\n",
       "      <th>4</th>\n",
       "      <td>0.483901</td>\n",
       "      <td>1.639272</td>\n",
       "      <td>-1.945303</td>\n",
       "      <td>1.101246</td>\n",
       "      <td>-0.254319</td>\n",
       "      <td>-0.782867</td>\n",
       "      <td>0.329647</td>\n",
       "      <td>1.643469</td>\n",
       "      <td>0.770926</td>\n",
       "      <td>1.290402</td>\n",
       "      <td>...</td>\n",
       "      <td>-0.130644</td>\n",
       "      <td>0.047062</td>\n",
       "      <td>-0.118702</td>\n",
       "      <td>0.652973</td>\n",
       "      <td>-0.756392</td>\n",
       "      <td>-0.060121</td>\n",
       "      <td>-0.054426</td>\n",
       "      <td>-0.298062</td>\n",
       "      <td>1.580622</td>\n",
       "      <td>0.773079</td>\n",
       "    </tr>\n",
       "    <tr>\n",
       "      <th>...</th>\n",
       "      <td>...</td>\n",
       "      <td>...</td>\n",
       "      <td>...</td>\n",
       "      <td>...</td>\n",
       "      <td>...</td>\n",
       "      <td>...</td>\n",
       "      <td>...</td>\n",
       "      <td>...</td>\n",
       "      <td>...</td>\n",
       "      <td>...</td>\n",
       "      <td>...</td>\n",
       "      <td>...</td>\n",
       "      <td>...</td>\n",
       "      <td>...</td>\n",
       "      <td>...</td>\n",
       "      <td>...</td>\n",
       "      <td>...</td>\n",
       "      <td>...</td>\n",
       "      <td>...</td>\n",
       "      <td>...</td>\n",
       "      <td>...</td>\n",
       "    </tr>\n",
       "    <tr>\n",
       "      <th>101761</th>\n",
       "      <td>-0.209812</td>\n",
       "      <td>-0.345267</td>\n",
       "      <td>-2.458051</td>\n",
       "      <td>-1.069636</td>\n",
       "      <td>-0.622964</td>\n",
       "      <td>-1.397677</td>\n",
       "      <td>-1.456097</td>\n",
       "      <td>-0.188856</td>\n",
       "      <td>-0.541113</td>\n",
       "      <td>0.267587</td>\n",
       "      <td>...</td>\n",
       "      <td>0.954525</td>\n",
       "      <td>-0.364148</td>\n",
       "      <td>0.102480</td>\n",
       "      <td>-1.163357</td>\n",
       "      <td>0.646380</td>\n",
       "      <td>-0.264399</td>\n",
       "      <td>-1.129268</td>\n",
       "      <td>0.556696</td>\n",
       "      <td>-1.897775</td>\n",
       "      <td>-0.159305</td>\n",
       "    </tr>\n",
       "    <tr>\n",
       "      <th>101762</th>\n",
       "      <td>0.499058</td>\n",
       "      <td>-2.389755</td>\n",
       "      <td>-0.067465</td>\n",
       "      <td>-1.416989</td>\n",
       "      <td>0.718521</td>\n",
       "      <td>-0.504660</td>\n",
       "      <td>-0.358169</td>\n",
       "      <td>-0.766306</td>\n",
       "      <td>0.928640</td>\n",
       "      <td>-0.079081</td>\n",
       "      <td>...</td>\n",
       "      <td>-0.598112</td>\n",
       "      <td>0.223951</td>\n",
       "      <td>0.091698</td>\n",
       "      <td>-0.275756</td>\n",
       "      <td>-0.214400</td>\n",
       "      <td>-0.007536</td>\n",
       "      <td>0.108361</td>\n",
       "      <td>1.301034</td>\n",
       "      <td>-0.547850</td>\n",
       "      <td>-0.027564</td>\n",
       "    </tr>\n",
       "    <tr>\n",
       "      <th>101763</th>\n",
       "      <td>-0.563821</td>\n",
       "      <td>1.739193</td>\n",
       "      <td>-0.233065</td>\n",
       "      <td>0.593350</td>\n",
       "      <td>-0.683856</td>\n",
       "      <td>-1.910772</td>\n",
       "      <td>-1.069110</td>\n",
       "      <td>-0.329330</td>\n",
       "      <td>0.164276</td>\n",
       "      <td>0.044475</td>\n",
       "      <td>...</td>\n",
       "      <td>0.125201</td>\n",
       "      <td>-0.366322</td>\n",
       "      <td>1.280646</td>\n",
       "      <td>-0.756597</td>\n",
       "      <td>-1.626085</td>\n",
       "      <td>-0.403009</td>\n",
       "      <td>-0.762096</td>\n",
       "      <td>0.345651</td>\n",
       "      <td>-1.813306</td>\n",
       "      <td>0.570352</td>\n",
       "    </tr>\n",
       "    <tr>\n",
       "      <th>101764</th>\n",
       "      <td>-2.844650</td>\n",
       "      <td>-1.023174</td>\n",
       "      <td>0.706981</td>\n",
       "      <td>0.956109</td>\n",
       "      <td>0.528057</td>\n",
       "      <td>-0.408982</td>\n",
       "      <td>-0.212290</td>\n",
       "      <td>0.987505</td>\n",
       "      <td>2.913306</td>\n",
       "      <td>-0.551291</td>\n",
       "      <td>...</td>\n",
       "      <td>-0.376818</td>\n",
       "      <td>0.238941</td>\n",
       "      <td>-0.272571</td>\n",
       "      <td>0.559938</td>\n",
       "      <td>-0.262892</td>\n",
       "      <td>0.576355</td>\n",
       "      <td>1.580496</td>\n",
       "      <td>0.381403</td>\n",
       "      <td>0.307450</td>\n",
       "      <td>-0.691920</td>\n",
       "    </tr>\n",
       "    <tr>\n",
       "      <th>101765</th>\n",
       "      <td>1.701081</td>\n",
       "      <td>2.222538</td>\n",
       "      <td>0.981941</td>\n",
       "      <td>-0.892398</td>\n",
       "      <td>0.556197</td>\n",
       "      <td>-0.483678</td>\n",
       "      <td>-0.096957</td>\n",
       "      <td>-0.341303</td>\n",
       "      <td>0.466826</td>\n",
       "      <td>-0.038335</td>\n",
       "      <td>...</td>\n",
       "      <td>-0.146823</td>\n",
       "      <td>-0.049176</td>\n",
       "      <td>0.675056</td>\n",
       "      <td>-0.051025</td>\n",
       "      <td>-0.491967</td>\n",
       "      <td>-0.015252</td>\n",
       "      <td>0.163800</td>\n",
       "      <td>1.012898</td>\n",
       "      <td>-0.872414</td>\n",
       "      <td>0.356966</td>\n",
       "    </tr>\n",
       "  </tbody>\n",
       "</table>\n",
       "<p>101766 rows × 24 columns</p>\n",
       "</div>"
      ],
      "text/plain": [
       "             PC1       PC2       PC3       PC4       PC5       PC6       PC7  \\\n",
       "0       3.672430 -0.034377  0.201868  1.224605  1.877240  3.354428  0.701063   \n",
       "1      -0.548340 -1.177522 -0.290131  0.832073 -0.877733 -0.508227  1.492488   \n",
       "2       1.749622 -2.123027 -1.785704 -0.420758  0.381760  1.399144  1.600068   \n",
       "3      -0.138539  1.424058 -1.592962  0.271287 -0.099597 -0.454923  1.047722   \n",
       "4       0.483901  1.639272 -1.945303  1.101246 -0.254319 -0.782867  0.329647   \n",
       "...          ...       ...       ...       ...       ...       ...       ...   \n",
       "101761 -0.209812 -0.345267 -2.458051 -1.069636 -0.622964 -1.397677 -1.456097   \n",
       "101762  0.499058 -2.389755 -0.067465 -1.416989  0.718521 -0.504660 -0.358169   \n",
       "101763 -0.563821  1.739193 -0.233065  0.593350 -0.683856 -1.910772 -1.069110   \n",
       "101764 -2.844650 -1.023174  0.706981  0.956109  0.528057 -0.408982 -0.212290   \n",
       "101765  1.701081  2.222538  0.981941 -0.892398  0.556197 -0.483678 -0.096957   \n",
       "\n",
       "             PC8       PC9      PC10  ...      PC15      PC16      PC17  \\\n",
       "0       0.009101 -1.966560  0.279663  ...  0.493735  0.243375 -3.444950   \n",
       "1       1.543255 -0.716665 -0.195154  ... -0.489849  0.265336  0.579016   \n",
       "2      -0.122976  1.393667  1.643519  ...  0.115180 -0.143566  0.495211   \n",
       "3       1.126779 -0.302303 -0.315712  ... -0.692969  0.351812  0.316559   \n",
       "4       1.643469  0.770926  1.290402  ... -0.130644  0.047062 -0.118702   \n",
       "...          ...       ...       ...  ...       ...       ...       ...   \n",
       "101761 -0.188856 -0.541113  0.267587  ...  0.954525 -0.364148  0.102480   \n",
       "101762 -0.766306  0.928640 -0.079081  ... -0.598112  0.223951  0.091698   \n",
       "101763 -0.329330  0.164276  0.044475  ...  0.125201 -0.366322  1.280646   \n",
       "101764  0.987505  2.913306 -0.551291  ... -0.376818  0.238941 -0.272571   \n",
       "101765 -0.341303  0.466826 -0.038335  ... -0.146823 -0.049176  0.675056   \n",
       "\n",
       "            PC18      PC19      PC20      PC21      PC22      PC23      PC24  \n",
       "0       0.815473 -0.715160 -0.547009  0.855121 -2.513595  1.263346  0.915125  \n",
       "1       0.675764  0.300525  0.509909 -0.122931 -1.676224 -0.328405  2.051335  \n",
       "2      -1.368273 -0.706020 -0.113541 -0.442292  0.840866  1.053871  2.447084  \n",
       "3       0.543800 -0.857451  0.350229  0.313511 -0.731435  0.016104  1.226664  \n",
       "4       0.652973 -0.756392 -0.060121 -0.054426 -0.298062  1.580622  0.773079  \n",
       "...          ...       ...       ...       ...       ...       ...       ...  \n",
       "101761 -1.163357  0.646380 -0.264399 -1.129268  0.556696 -1.897775 -0.159305  \n",
       "101762 -0.275756 -0.214400 -0.007536  0.108361  1.301034 -0.547850 -0.027564  \n",
       "101763 -0.756597 -1.626085 -0.403009 -0.762096  0.345651 -1.813306  0.570352  \n",
       "101764  0.559938 -0.262892  0.576355  1.580496  0.381403  0.307450 -0.691920  \n",
       "101765 -0.051025 -0.491967 -0.015252  0.163800  1.012898 -0.872414  0.356966  \n",
       "\n",
       "[101766 rows x 24 columns]"
      ]
     },
     "execution_count": 22,
     "metadata": {},
     "output_type": "execute_result"
    }
   ],
   "source": [
    "df_cleaned_dia"
   ]
  },
  {
   "cell_type": "code",
   "execution_count": 23,
   "id": "03c2775a",
   "metadata": {},
   "outputs": [],
   "source": [
    "import pandas as pd\n",
    "import swifter\n",
    "import matplotlib.pyplot as plt\n",
    "import seaborn as sns\n",
    "from sklearn.preprocessing import LabelEncoder\n",
    "from tqdm import tqdm\n",
    "from sklearn.preprocessing import StandardScaler\n",
    "from scipy.stats import multivariate_normal\n",
    "from sklearn.metrics import silhouette_score, calinski_harabasz_score\n",
    "from scipy.spatial.distance import euclidean\n",
    "\n",
    "\n",
    "def GMM_initialization(df,k):\n",
    "    number_of_rows=df.shape[0]\n",
    "    number_of_columns=df.shape[1]\n",
    "    means_matrix = df.sample(n=k).values\n",
    "    identity_matrix=np.eye(number_of_columns)\n",
    "    covariance_matrix=np.array([identity_matrix]*k)\n",
    "    weights_matrix=np.array([float(1/k)]*k)\n",
    "    return means_matrix,covariance_matrix,weights_matrix,number_of_rows,number_of_columns\n",
    "    \n",
    "    \n",
    "def calculate_posterior(data,means_matrix,covariance_matrix,weights_matrix,k,number_of_columns):\n",
    "    posterior=np.zeros(k)\n",
    "    for i in range(k):\n",
    "        try:\n",
    "            pseudo_inverse = np.linalg.pinv(covariance_matrix[i] + np.eye(covariance_matrix[i].shape[0]) * 1e-2, rcond=1e-10)\n",
    "            posterior[i] = multivariate_normal.pdf(data, mean=means_matrix[i], cov=pseudo_inverse)\n",
    "        except Exception as e:\n",
    "            continue\n",
    "    return posterior*weights_matrix/(posterior*weights_matrix).sum()\n",
    "    \n",
    "def maintain_k_clusters(labels,k):\n",
    "    unique_values, value_counts = np.unique(labels, return_counts=True)\n",
    "    missing_labels=[i for i in range(k) if i not in unique_values]\n",
    "    unique_values_to_be_replaced=[unique_values[i] for i in np.where(value_counts > 1)[0]]\n",
    "\n",
    "    indices=[i for i in range(len(labels))    if labels[i] in unique_values_to_be_replaced]\n",
    "    random_indices = np.random.choice(indices, size=len(missing_labels), replace=False)\n",
    "    for i,val in enumerate(random_indices):\n",
    "        labels[val]=missing_labels[i]\n",
    "    return labels\n",
    "\n",
    "\n",
    "def sum_of_square_error_em(new_centroids, data, labels):\n",
    "    columns = data.columns\n",
    "    # Join the data dataframe and the labels dataframe\n",
    "    data = data.join(labels)\n",
    "    # Rename the '0' column of the labels dataframe to 'Label'\n",
    "    data.rename(columns={0:'Label'}, inplace=True)\n",
    "    sse = []\n",
    "    # Compute the distance between each data point and its assigned centroid\n",
    "    for i in range(len(new_centroids)):\n",
    "        distance = np.sum(np.square(data[data['Label']==i][columns] - new_centroids.iloc[i][columns],dtype=np.float64), axis=1)\n",
    "        #print(distance)\n",
    "        sse.append(distance.sum())\n",
    "    # Return the sum of squared errors\n",
    "    \n",
    "    a=sum(sse)   \n",
    "    return a\n",
    "\n",
    "def Calinski_index_em(df_data,clusters):\n",
    "    ch_score = calinski_harabasz_score(df_data, clusters)\n",
    "    return ch_score\n",
    "    \n",
    "\n",
    "\n",
    "def GMM(df_cleaned_dia,k,tao):\n",
    "    scaler = StandardScaler()\n",
    "    scaler.fit(df_cleaned_dia)\n",
    "    scaled_input=scaler.transform(df_cleaned_dia)\n",
    "    \n",
    "    scaled_input_df= pd.DataFrame(scaled_input,columns=df_cleaned_dia.columns)\n",
    "    \n",
    "    means_matrix,covariance_matrix,weights_matrix,number_of_rows,number_of_columns= GMM_initialization(scaled_input_df,k)\n",
    "    likelihood=0\n",
    "    means_matrix_initial=means_matrix\n",
    "    for i in range(k):\n",
    "        try:\n",
    "            \n",
    "            pseudo_inverse = np.linalg.pinv(covariance_matrix[i] + np.diag(np.ones(covariance_matrix[i].shape[0]) * 1e-10))\n",
    "            likelihood=likelihood+weights_matrix[i]*multivariate_normal.logpdf(scaled_input,means_matrix[i], pseudo_inverse)\n",
    "        except Exception as e:\n",
    "            continue\n",
    "    log_likelihood_old=np.sum(likelihood)\n",
    "    old_means_matrix_df=pd.DataFrame(means_matrix)\n",
    "    posterior_probability = np.zeros((scaled_input.shape[0], k))\n",
    "    iterations=0\n",
    "    \n",
    "    while (True):\n",
    "        iterations+=1\n",
    "        # Expectation\n",
    "        for i in range(scaled_input.shape[0]):\n",
    "            posterior_probability[i] = calculate_posterior(scaled_input[i], means_matrix,covariance_matrix,weights_matrix,k,number_of_columns)\n",
    "        \n",
    "        # Maximization\n",
    "        posterior_probability=np.nan_to_num(posterior_probability, nan=0)\n",
    "        for i in range(k): \n",
    "            # Calculating weight\n",
    "            weight = posterior_probability[:, i].sum()\n",
    "            #print(weight)\n",
    "            # Updating each centroid\n",
    "            means_matrix[i] = (posterior_probability[:, i] @ scaled_input) / weight\n",
    "            #print(1,means_matrix[i])\n",
    "            # Subtracting the mean value from data\n",
    "            scaled_input_diff = scaled_input - means_matrix[i]\n",
    "\n",
    "            # Update the covariance matrix \n",
    "            covariance_matrix[i] = (posterior_probability[:, i] * scaled_input_diff.T @ scaled_input_diff) / weight\n",
    "\n",
    "            # Update the weights matrix\n",
    "            weights_matrix[i] = weight / number_of_rows\n",
    "        \n",
    "\n",
    "        likelihood=0\n",
    "        for i in range(k):\n",
    "            try:\n",
    "                pseudo_inverse = np.linalg.pinv(covariance_matrix[i] + np.diag(np.ones(covariance_matrix[i].shape[0]) * 1e-10))\n",
    "                likelihood=likelihood+weights_matrix[i]*multivariate_normal.logpdf(scaled_input,means_matrix[i], sudo_inverse)\n",
    "            except Exception as e:\n",
    "                continue\n",
    "        log_likelihood_new =np.sum(likelihood)\n",
    "        \n",
    "        new_means_matrix_df=pd.DataFrame(means_matrix)\n",
    "        distance = []\n",
    "        for col in new_means_matrix_df.columns:\n",
    "            col_distance = euclidean(old_means_matrix_df[col], new_means_matrix_df[col])\n",
    "            distance.append(col_distance)\n",
    "        tao_calculated=sum(distance)/k \n",
    "        \n",
    "        \n",
    "        \n",
    "        if tao_calculated< tao:#log_likelihood_new>log_likelihood_old and 100*((log_likelihood_new - log_likelihood_old) / log_likelihood_old)<tao:\n",
    "            \n",
    "            print(\"Converged\")\n",
    "            labels=np.argmax(posterior_probability,axis=1)\n",
    "            labels=maintain_k_clusters(labels,k)\n",
    "            labels_df=pd.DataFrame(labels)\n",
    "            means_matrix_df=pd.DataFrame(means_matrix,columns=scaled_input_df.columns)\n",
    "            sse=sum_of_square_error_em(means_matrix_df, scaled_input_df, labels_df)\n",
    "            clainski= Calinski_index_em(scaled_input_df,labels_df)\n",
    "            return sse,clainski,means_matrix_initial\n",
    "        #else:\n",
    "            #log_likelihood_old=log_likelihood_new\n",
    "            \n",
    "        if iterations>100:\n",
    "            print(\"Max iteration reached\")\n",
    "            labels=np.argmax(posterior_probability,axis=1)\n",
    "            labels=maintain_k_clusters(labels,k)\n",
    "            labels_df=pd.DataFrame(labels)\n",
    "            means_matrix_df=pd.DataFrame(means_matrix,columns=scaled_input_df.columns)\n",
    "            sse=sum_of_square_error_em(means_matrix_df, scaled_input_df, labels_df)\n",
    "            clainski= Calinski_index_em(scaled_input_df,labels_df)\n",
    "            return sse,clainski,means_matrix_initial\n",
    "        \n",
    "    \n"
   ]
  },
  {
   "cell_type": "code",
   "execution_count": 24,
   "id": "50c9a26a",
   "metadata": {},
   "outputs": [
    {
     "name": "stdout",
     "output_type": "stream",
     "text": [
      "Converged\n"
     ]
    }
   ],
   "source": [
    "#sse,clainski,means_matrix_initial=GMM(df_cleaned_dia,2,10)"
   ]
  },
  {
   "cell_type": "code",
   "execution_count": 27,
   "id": "caa42035",
   "metadata": {},
   "outputs": [],
   "source": [
    "import time\n",
    "from scipy.spatial.distance import euclidean\n",
    "def initialize_centroids(df, k,means_matrix):\n",
    "    \"\"\"\n",
    "    Function to initialize random centroids from dataset.\n",
    "    Input: \n",
    "        - df: pandas dataframe with the data\n",
    "        - k: integer number of clusters\n",
    "    Output: \n",
    "        - temp_df: pandas dataframe with the centroids as columns and index as label\n",
    "    \"\"\"\n",
    "    \n",
    "   \n",
    "    centroids=pd.DataFrame(means_matrix,columns=df.columns)\n",
    "    centroids=centroids.T\n",
    "    centroids.index.name = 'Label'\n",
    "    return centroids\n",
    "\n",
    "\n",
    "\n",
    "def assign_labels(df, centroids):\n",
    "    \"\"\"\n",
    "    Function to calculate the closest centroid label for each row in a dataframe.\n",
    "    Input: \n",
    "        - df: pandas dataframe with the data\n",
    "        - centroids: pandas dataframe with the centroids as columns and index as label\n",
    "    Output: \n",
    "        - distances.idxmin(axis=1): pandas series with the label of the closest centroid for each row in df\n",
    "    \"\"\"\n",
    "    distances = centroids.swifter.apply(lambda x: np.sqrt(((df - x) ** 2).sum(axis=1))) # Calculate the Euclidean distance between each row in df and each centroid\n",
    "    return distances.idxmin(axis=1) # Get the index of the minimum distance, which corresponds to the label of the closest centroid\n",
    "\n",
    "\n",
    "def new_centroids(df_label, df1):\n",
    "    \"\"\"\n",
    "    Function to calculate the new centroids based on the current labels of the rows.\n",
    "    Input: \n",
    "        - df_label: pandas series with the label of the closest centroid for each row in df1\n",
    "        - df1: pandas dataframe with the data\n",
    "    Output: \n",
    "        - new_centroids.T: pandas dataframe with the new centroids as columns and index as feature name\n",
    "    \"\"\"\n",
    "    joined_df = df1.join(df_label)\n",
    "    joined_df.rename(columns={0: 'Label'}, inplace=True) # Rename the column with the label\n",
    "    # Calculate the mean of the rows with the same label\n",
    "    return joined_df.groupby('Label').mean().T # Transpose the dataframe to have the new centroids as columns and index as feature name\n",
    "\n",
    "\n",
    "\n",
    "def error_clusters(df_new_centroids,df1,df_label):\n",
    "    \"\"\"\n",
    "    Calculate the error rate of each cluster.\n",
    "\n",
    "    Args:\n",
    "    - df_label (pandas.DataFrame): the label of the nearest centroid for each data point.\n",
    "    - df1 (pandas.DataFrame): the dataset.\n",
    "    - df_new_centroids (pandas.DataFrame): The new centroids computed in the current iteration.\n",
    "\n",
    "    Returns:\n",
    "    - error_rate (float): the total error rate of all clusters.\n",
    "    \"\"\"\n",
    "    \n",
    "\n",
    "    #Calculate mean value \n",
    "    mean_centroid=df1.groupby('readmitted').mean().reset_index()\n",
    "    # Transpose the new centroids dataframe and reset the index\n",
    "    new_centroids= df_new_centroids.T\n",
    "    # Get the columns of the data dataframe\n",
    "    columns = df1.columns\n",
    "\n",
    "    sse = []\n",
    "    # Compute the distance between each data point and its assigned centroid\n",
    "    for i in range(len(new_centroids)):   #### centroid\n",
    "        s=[]\n",
    "        for j in range(len(mean_centroid)): ### mean centroid\n",
    "        # Compute the distance between each data point and its assigned centroid\n",
    "            distance = np.sum(np.square(mean_centroid[mean_centroid['readmitted']==j][columns] - new_centroids.iloc[i][columns]), axis=1)\n",
    "            s.append(distance.iloc[0])\n",
    "        sse.append(s)\n",
    "    ## key  is the cluster number and value is the merged value\n",
    "    merge_label=pd.DataFrame(sse).idxmin(axis=1).to_dict() \n",
    "    ## Merging cluster based on the target variable\n",
    "    df_label[0]=df_label[0].replace(merge_label)\n",
    "    \n",
    "    df1 = df1.join(df_label) # add the label column to the dataset\n",
    "    df1.rename(columns={0: 'Label'}, inplace=True) # rename the label column\n",
    "    error_list = []\n",
    "    for i in df1['Label'].value_counts().index:\n",
    "        df_cluster = df1[df1['Label'] == i] # filter the dataset to include only the data points in the current cluster\n",
    "        y = len(df_cluster[df_cluster['readmitted'] == 1]) # count the number of data points in the current cluster that were readmitted\n",
    "        n = len(df_cluster[df_cluster['readmitted'] == 0]) # count the number of data points in the current cluster that were not readmitted\n",
    "        if y == 0 and n == 0:\n",
    "            error = 0\n",
    "        else:\n",
    "            error = n / (n + y) # calculate the error rate of the current cluster\n",
    "        error_list.append(error)\n",
    "    return round(sum(error_list),4)\n",
    "\n",
    "\n",
    "def sum_of_square_error(new_centroids, data, labels):\n",
    "    \"\"\"\n",
    "    Computes the sum of squared errors between the data points and their assigned centroids.\n",
    "\n",
    "    Args:\n",
    "    new_centroids (DataFrame): The new centroids computed in the current iteration.\n",
    "    data (DataFrame): The input data points.\n",
    "    labels (DataFrame): The labels assigned to each data point.\n",
    "\n",
    "    Returns:\n",
    "    The sum of squared errors.\n",
    "    \"\"\"\n",
    "    # Transpose the new centroids dataframe and reset the index\n",
    "    new_centroids = new_centroids.T.reset_index()\n",
    "    # Get the columns of the data dataframe\n",
    "    columns = new_centroids.columns\n",
    "    # Join the data dataframe and the labels dataframe\n",
    "    data = data.join(labels)\n",
    "    # Rename the '0' column of the labels dataframe to 'Label'\n",
    "    data.rename(columns={0:'Label'}, inplace=True)\n",
    "    sse = []\n",
    "    # Compute the distance between each data point and its assigned centroid\n",
    "    for i in range(len(new_centroids)):\n",
    "        distance = np.sum(np.square(data[data['Label']==i][columns] - new_centroids.iloc[i][columns]), axis=1)\n",
    "        sse.append(sum(distance))\n",
    "    # Return the sum of squared errors\n",
    "    return sum(sse)   \n",
    "\n",
    "def Calinski_index(df_data,clusters):\n",
    "    ch_score = calinski_harabasz_score(df_data, clusters)\n",
    "    return ch_score\n",
    "    \n",
    "\n",
    "\n",
    "\n",
    "def kmeans_lyod_with_error(df1, k, tou,means_matrix_initial):\n",
    "    \"\"\"\n",
    "    Function to run the K-means Lloyd algorithm.\n",
    "    Input: \n",
    "        - df1: pandas dataframe with the data\n",
    "        - k: integer number of clusters\n",
    "        - tou: float tolerance level to stop the algorithm\n",
    "    Output: \n",
    "        - centroids: pandas dataframe with the final centroids as columns and index as label\n",
    "    \"\"\"\n",
    "    start_time=time.time()\n",
    "    centroids = initialize_centroids(df1, k,means_matrix_initial) # Initialize random centroids\n",
    "    initial_list_of_columns = centroids.columns.to_list()\n",
    "    iteration = 0\n",
    "    while True:\n",
    "        # Assign labels to current centroids\n",
    "        df_label = assign_labels(df1, centroids)\n",
    "        df_label = pd.DataFrame(df_label)\n",
    "        # Calculate new centroids\n",
    "        df_new_centroids = new_centroids(df_label, df1)\n",
    "        new_list_of_columns = df_new_centroids.columns.to_list()\n",
    "        # Keep the number of clusters the same i.e maintain same k\n",
    "        for i in initial_list_of_columns:\n",
    "            if i not in new_list_of_columns:\n",
    "                df_new_centroids[i] = centroids[i]\n",
    "        # Calculate tao\n",
    "        distance = []\n",
    "        for col in centroids.columns:\n",
    "            col_distance = euclidean(centroids[col], df_new_centroids[col])\n",
    "            distance.append(col_distance)\n",
    "        tao_calculated=sum(distance)/k #Used the formula provided for calculating Tao\n",
    "        sse = sum_of_square_error(df_new_centroids, df1, df_label)\n",
    "        #error=error_clusters(df_label,df1,k)\n",
    "        end_time= time.time()\n",
    "        clainski= Calinski_index(df1,df_label)\n",
    "        if iteration>100:  \n",
    "            print(\"Iteration exceeded\")\n",
    "\n",
    "            return sse,clainski\n",
    "            break\n",
    "            \n",
    "        if tao_calculated<tou or iteration >100:   #if the convergence is met, kmeans will stop  or else if the convergence is never met, after 100 iteration code will stop \n",
    "            return  sse,clainski\n",
    "            break                                   # otherwise indefinite loop\n",
    "        else:\n",
    "            centroids= df_new_centroids # In case we need more iterations, the centroids calculated at this step acts as input\n",
    "        iteration+=1\n",
    "\n"
   ]
  },
  {
   "cell_type": "code",
   "execution_count": 28,
   "id": "e48ccb95",
   "metadata": {},
   "outputs": [
    {
     "data": {
      "application/vnd.jupyter.widget-view+json": {
       "model_id": "3cd90c7672e24fabb7880e700443a174",
       "version_major": 2,
       "version_minor": 0
      },
      "text/plain": [
       "Pandas Apply:   0%|          | 0/2 [00:00<?, ?it/s]"
      ]
     },
     "metadata": {},
     "output_type": "display_data"
    },
    {
     "data": {
      "text/plain": [
       "(2816365.0065882765, 3373.9458544870076)"
      ]
     },
     "execution_count": 28,
     "metadata": {},
     "output_type": "execute_result"
    }
   ],
   "source": [
    "#kmeans_lyod_with_error(df_cleaned_dia,2,10,means_matrix_initial)"
   ]
  },
  {
   "cell_type": "code",
   "execution_count": 30,
   "id": "00da2ef8",
   "metadata": {},
   "outputs": [
    {
     "name": "stdout",
     "output_type": "stream",
     "text": [
      "Converged\n"
     ]
    },
    {
     "data": {
      "application/vnd.jupyter.widget-view+json": {
       "model_id": "e7f762693cf441c6af43c47fa299ccc5",
       "version_major": 2,
       "version_minor": 0
      },
      "text/plain": [
       "Pandas Apply:   0%|          | 0/2 [00:00<?, ?it/s]"
      ]
     },
     "metadata": {},
     "output_type": "display_data"
    },
    {
     "name": "stdout",
     "output_type": "stream",
     "text": [
      "Converged\n"
     ]
    },
    {
     "data": {
      "application/vnd.jupyter.widget-view+json": {
       "model_id": "b6f5b01a29e74f5596b8169d26ecb903",
       "version_major": 2,
       "version_minor": 0
      },
      "text/plain": [
       "Pandas Apply:   0%|          | 0/2 [00:00<?, ?it/s]"
      ]
     },
     "metadata": {},
     "output_type": "display_data"
    },
    {
     "name": "stdout",
     "output_type": "stream",
     "text": [
      "Converged\n"
     ]
    },
    {
     "data": {
      "application/vnd.jupyter.widget-view+json": {
       "model_id": "fbd91f51425c448c9aa3056cc171e602",
       "version_major": 2,
       "version_minor": 0
      },
      "text/plain": [
       "Pandas Apply:   0%|          | 0/2 [00:00<?, ?it/s]"
      ]
     },
     "metadata": {},
     "output_type": "display_data"
    },
    {
     "name": "stdout",
     "output_type": "stream",
     "text": [
      "Converged\n"
     ]
    },
    {
     "data": {
      "application/vnd.jupyter.widget-view+json": {
       "model_id": "06af02e61b2540799572f70275d01ddd",
       "version_major": 2,
       "version_minor": 0
      },
      "text/plain": [
       "Pandas Apply:   0%|          | 0/2 [00:00<?, ?it/s]"
      ]
     },
     "metadata": {},
     "output_type": "display_data"
    },
    {
     "name": "stdout",
     "output_type": "stream",
     "text": [
      "Converged\n"
     ]
    },
    {
     "data": {
      "application/vnd.jupyter.widget-view+json": {
       "model_id": "a6fc4fb2783e4823b7e9b21a6f1ba4d1",
       "version_major": 2,
       "version_minor": 0
      },
      "text/plain": [
       "Pandas Apply:   0%|          | 0/2 [00:00<?, ?it/s]"
      ]
     },
     "metadata": {},
     "output_type": "display_data"
    },
    {
     "name": "stdout",
     "output_type": "stream",
     "text": [
      "Converged\n"
     ]
    },
    {
     "data": {
      "application/vnd.jupyter.widget-view+json": {
       "model_id": "ba73c51249e44b9c983839523f2f4d63",
       "version_major": 2,
       "version_minor": 0
      },
      "text/plain": [
       "Pandas Apply:   0%|          | 0/2 [00:00<?, ?it/s]"
      ]
     },
     "metadata": {},
     "output_type": "display_data"
    },
    {
     "name": "stdout",
     "output_type": "stream",
     "text": [
      "Converged\n"
     ]
    },
    {
     "data": {
      "application/vnd.jupyter.widget-view+json": {
       "model_id": "c580d6cfff034bf2ba02c3cb8ce1292e",
       "version_major": 2,
       "version_minor": 0
      },
      "text/plain": [
       "Pandas Apply:   0%|          | 0/2 [00:00<?, ?it/s]"
      ]
     },
     "metadata": {},
     "output_type": "display_data"
    },
    {
     "name": "stdout",
     "output_type": "stream",
     "text": [
      "Converged\n"
     ]
    },
    {
     "data": {
      "application/vnd.jupyter.widget-view+json": {
       "model_id": "745a4b02c0f04cbb9be06a629cd41892",
       "version_major": 2,
       "version_minor": 0
      },
      "text/plain": [
       "Pandas Apply:   0%|          | 0/2 [00:00<?, ?it/s]"
      ]
     },
     "metadata": {},
     "output_type": "display_data"
    },
    {
     "name": "stdout",
     "output_type": "stream",
     "text": [
      "Converged\n"
     ]
    },
    {
     "data": {
      "application/vnd.jupyter.widget-view+json": {
       "model_id": "4b625e57a6a54aa1a7e40da3f58aea1a",
       "version_major": 2,
       "version_minor": 0
      },
      "text/plain": [
       "Pandas Apply:   0%|          | 0/2 [00:00<?, ?it/s]"
      ]
     },
     "metadata": {},
     "output_type": "display_data"
    },
    {
     "name": "stdout",
     "output_type": "stream",
     "text": [
      "Converged\n"
     ]
    },
    {
     "data": {
      "application/vnd.jupyter.widget-view+json": {
       "model_id": "46dd5250363344f09b29f8a283d411c8",
       "version_major": 2,
       "version_minor": 0
      },
      "text/plain": [
       "Pandas Apply:   0%|          | 0/2 [00:00<?, ?it/s]"
      ]
     },
     "metadata": {},
     "output_type": "display_data"
    },
    {
     "name": "stdout",
     "output_type": "stream",
     "text": [
      "Converged\n"
     ]
    },
    {
     "data": {
      "application/vnd.jupyter.widget-view+json": {
       "model_id": "9e895f589df249f189b29c2bada29e73",
       "version_major": 2,
       "version_minor": 0
      },
      "text/plain": [
       "Pandas Apply:   0%|          | 0/2 [00:00<?, ?it/s]"
      ]
     },
     "metadata": {},
     "output_type": "display_data"
    },
    {
     "name": "stdout",
     "output_type": "stream",
     "text": [
      "Converged\n"
     ]
    },
    {
     "data": {
      "application/vnd.jupyter.widget-view+json": {
       "model_id": "3eb949cce20946feb732d175dcee9c0d",
       "version_major": 2,
       "version_minor": 0
      },
      "text/plain": [
       "Pandas Apply:   0%|          | 0/2 [00:00<?, ?it/s]"
      ]
     },
     "metadata": {},
     "output_type": "display_data"
    },
    {
     "name": "stdout",
     "output_type": "stream",
     "text": [
      "Converged\n"
     ]
    },
    {
     "data": {
      "application/vnd.jupyter.widget-view+json": {
       "model_id": "ff70ec02ec104337812cdf0c67e20918",
       "version_major": 2,
       "version_minor": 0
      },
      "text/plain": [
       "Pandas Apply:   0%|          | 0/2 [00:00<?, ?it/s]"
      ]
     },
     "metadata": {},
     "output_type": "display_data"
    },
    {
     "name": "stdout",
     "output_type": "stream",
     "text": [
      "Converged\n"
     ]
    },
    {
     "data": {
      "application/vnd.jupyter.widget-view+json": {
       "model_id": "a4758ca784944ddc8c42c0263e8b1e39",
       "version_major": 2,
       "version_minor": 0
      },
      "text/plain": [
       "Pandas Apply:   0%|          | 0/2 [00:00<?, ?it/s]"
      ]
     },
     "metadata": {},
     "output_type": "display_data"
    },
    {
     "name": "stdout",
     "output_type": "stream",
     "text": [
      "Converged\n"
     ]
    },
    {
     "data": {
      "application/vnd.jupyter.widget-view+json": {
       "model_id": "a321853789244290b875f2f36c811c1d",
       "version_major": 2,
       "version_minor": 0
      },
      "text/plain": [
       "Pandas Apply:   0%|          | 0/2 [00:00<?, ?it/s]"
      ]
     },
     "metadata": {},
     "output_type": "display_data"
    },
    {
     "name": "stdout",
     "output_type": "stream",
     "text": [
      "Converged\n"
     ]
    },
    {
     "data": {
      "application/vnd.jupyter.widget-view+json": {
       "model_id": "fa0570dabe244d3bae1d3b4ca3eef1bc",
       "version_major": 2,
       "version_minor": 0
      },
      "text/plain": [
       "Pandas Apply:   0%|          | 0/2 [00:00<?, ?it/s]"
      ]
     },
     "metadata": {},
     "output_type": "display_data"
    },
    {
     "name": "stdout",
     "output_type": "stream",
     "text": [
      "Converged\n"
     ]
    },
    {
     "data": {
      "application/vnd.jupyter.widget-view+json": {
       "model_id": "09740251e84742ffa75dd1e363faaf32",
       "version_major": 2,
       "version_minor": 0
      },
      "text/plain": [
       "Pandas Apply:   0%|          | 0/2 [00:00<?, ?it/s]"
      ]
     },
     "metadata": {},
     "output_type": "display_data"
    },
    {
     "name": "stdout",
     "output_type": "stream",
     "text": [
      "Converged\n"
     ]
    },
    {
     "data": {
      "application/vnd.jupyter.widget-view+json": {
       "model_id": "d21c4bcbc5234aa1a2a6c2ca17dfca8a",
       "version_major": 2,
       "version_minor": 0
      },
      "text/plain": [
       "Pandas Apply:   0%|          | 0/2 [00:00<?, ?it/s]"
      ]
     },
     "metadata": {},
     "output_type": "display_data"
    },
    {
     "name": "stdout",
     "output_type": "stream",
     "text": [
      "Converged\n"
     ]
    },
    {
     "data": {
      "application/vnd.jupyter.widget-view+json": {
       "model_id": "bd2ae32a27a94b35b6bbeb4d8af8865b",
       "version_major": 2,
       "version_minor": 0
      },
      "text/plain": [
       "Pandas Apply:   0%|          | 0/2 [00:00<?, ?it/s]"
      ]
     },
     "metadata": {},
     "output_type": "display_data"
    },
    {
     "name": "stdout",
     "output_type": "stream",
     "text": [
      "Converged\n"
     ]
    },
    {
     "data": {
      "application/vnd.jupyter.widget-view+json": {
       "model_id": "02abd749517f4a098e8c48b59520d3c1",
       "version_major": 2,
       "version_minor": 0
      },
      "text/plain": [
       "Pandas Apply:   0%|          | 0/2 [00:00<?, ?it/s]"
      ]
     },
     "metadata": {},
     "output_type": "display_data"
    },
    {
     "name": "stdout",
     "output_type": "stream",
     "text": [
      "Converged\n"
     ]
    },
    {
     "data": {
      "application/vnd.jupyter.widget-view+json": {
       "model_id": "a396bb8df4d34221a03ffa4fe0c17186",
       "version_major": 2,
       "version_minor": 0
      },
      "text/plain": [
       "Pandas Apply:   0%|          | 0/2 [00:00<?, ?it/s]"
      ]
     },
     "metadata": {},
     "output_type": "display_data"
    },
    {
     "name": "stdout",
     "output_type": "stream",
     "text": [
      "Converged\n"
     ]
    },
    {
     "data": {
      "application/vnd.jupyter.widget-view+json": {
       "model_id": "c4a14f2ab7c44bfd99a94d8652fba86c",
       "version_major": 2,
       "version_minor": 0
      },
      "text/plain": [
       "Pandas Apply:   0%|          | 0/2 [00:00<?, ?it/s]"
      ]
     },
     "metadata": {},
     "output_type": "display_data"
    },
    {
     "name": "stdout",
     "output_type": "stream",
     "text": [
      "Converged\n"
     ]
    },
    {
     "data": {
      "application/vnd.jupyter.widget-view+json": {
       "model_id": "e32c2b9104c240f8a919ef008c00f491",
       "version_major": 2,
       "version_minor": 0
      },
      "text/plain": [
       "Pandas Apply:   0%|          | 0/2 [00:00<?, ?it/s]"
      ]
     },
     "metadata": {},
     "output_type": "display_data"
    },
    {
     "name": "stdout",
     "output_type": "stream",
     "text": [
      "Converged\n"
     ]
    },
    {
     "data": {
      "application/vnd.jupyter.widget-view+json": {
       "model_id": "2cbbdcbd72a2499baafa7c8cf2e60b22",
       "version_major": 2,
       "version_minor": 0
      },
      "text/plain": [
       "Pandas Apply:   0%|          | 0/2 [00:00<?, ?it/s]"
      ]
     },
     "metadata": {},
     "output_type": "display_data"
    },
    {
     "name": "stdout",
     "output_type": "stream",
     "text": [
      "Converged\n"
     ]
    },
    {
     "data": {
      "application/vnd.jupyter.widget-view+json": {
       "model_id": "6df14a9d67294da5878e5b2081e24d66",
       "version_major": 2,
       "version_minor": 0
      },
      "text/plain": [
       "Pandas Apply:   0%|          | 0/2 [00:00<?, ?it/s]"
      ]
     },
     "metadata": {},
     "output_type": "display_data"
    },
    {
     "name": "stdout",
     "output_type": "stream",
     "text": [
      "Converged\n"
     ]
    },
    {
     "data": {
      "application/vnd.jupyter.widget-view+json": {
       "model_id": "ca7619d0bf8e4135a63647ad5ca7aee8",
       "version_major": 2,
       "version_minor": 0
      },
      "text/plain": [
       "Pandas Apply:   0%|          | 0/2 [00:00<?, ?it/s]"
      ]
     },
     "metadata": {},
     "output_type": "display_data"
    },
    {
     "name": "stdout",
     "output_type": "stream",
     "text": [
      "Converged\n"
     ]
    },
    {
     "data": {
      "application/vnd.jupyter.widget-view+json": {
       "model_id": "11987a15af64437d8f34cbef9dce9909",
       "version_major": 2,
       "version_minor": 0
      },
      "text/plain": [
       "Pandas Apply:   0%|          | 0/2 [00:00<?, ?it/s]"
      ]
     },
     "metadata": {},
     "output_type": "display_data"
    },
    {
     "name": "stdout",
     "output_type": "stream",
     "text": [
      "Converged\n"
     ]
    },
    {
     "data": {
      "application/vnd.jupyter.widget-view+json": {
       "model_id": "90400c86f07c47f9b796d0abf0e11207",
       "version_major": 2,
       "version_minor": 0
      },
      "text/plain": [
       "Pandas Apply:   0%|          | 0/2 [00:00<?, ?it/s]"
      ]
     },
     "metadata": {},
     "output_type": "display_data"
    },
    {
     "name": "stdout",
     "output_type": "stream",
     "text": [
      "Converged\n"
     ]
    },
    {
     "data": {
      "application/vnd.jupyter.widget-view+json": {
       "model_id": "711e297464ae442389a8532c577a3437",
       "version_major": 2,
       "version_minor": 0
      },
      "text/plain": [
       "Pandas Apply:   0%|          | 0/2 [00:00<?, ?it/s]"
      ]
     },
     "metadata": {},
     "output_type": "display_data"
    },
    {
     "name": "stdout",
     "output_type": "stream",
     "text": [
      "Converged\n"
     ]
    },
    {
     "data": {
      "application/vnd.jupyter.widget-view+json": {
       "model_id": "2c6f74ba370145a4ab67c50ef5c29e0a",
       "version_major": 2,
       "version_minor": 0
      },
      "text/plain": [
       "Pandas Apply:   0%|          | 0/2 [00:00<?, ?it/s]"
      ]
     },
     "metadata": {},
     "output_type": "display_data"
    },
    {
     "name": "stdout",
     "output_type": "stream",
     "text": [
      "Converged\n"
     ]
    },
    {
     "data": {
      "application/vnd.jupyter.widget-view+json": {
       "model_id": "bad1149bf981404db0c2b379ec5acb9e",
       "version_major": 2,
       "version_minor": 0
      },
      "text/plain": [
       "Pandas Apply:   0%|          | 0/2 [00:00<?, ?it/s]"
      ]
     },
     "metadata": {},
     "output_type": "display_data"
    },
    {
     "name": "stdout",
     "output_type": "stream",
     "text": [
      "Converged\n"
     ]
    },
    {
     "data": {
      "application/vnd.jupyter.widget-view+json": {
       "model_id": "50e170596df84bbf987c3ec0f6222bdf",
       "version_major": 2,
       "version_minor": 0
      },
      "text/plain": [
       "Pandas Apply:   0%|          | 0/2 [00:00<?, ?it/s]"
      ]
     },
     "metadata": {},
     "output_type": "display_data"
    },
    {
     "name": "stdout",
     "output_type": "stream",
     "text": [
      "Converged\n"
     ]
    },
    {
     "data": {
      "application/vnd.jupyter.widget-view+json": {
       "model_id": "beaa62691d2444d984a97c525e087e1f",
       "version_major": 2,
       "version_minor": 0
      },
      "text/plain": [
       "Pandas Apply:   0%|          | 0/2 [00:00<?, ?it/s]"
      ]
     },
     "metadata": {},
     "output_type": "display_data"
    },
    {
     "name": "stdout",
     "output_type": "stream",
     "text": [
      "Converged\n"
     ]
    },
    {
     "data": {
      "application/vnd.jupyter.widget-view+json": {
       "model_id": "9dae26b4c5324cfeab9fa0a59d41f7f4",
       "version_major": 2,
       "version_minor": 0
      },
      "text/plain": [
       "Pandas Apply:   0%|          | 0/2 [00:00<?, ?it/s]"
      ]
     },
     "metadata": {},
     "output_type": "display_data"
    },
    {
     "name": "stdout",
     "output_type": "stream",
     "text": [
      "Converged\n"
     ]
    },
    {
     "data": {
      "application/vnd.jupyter.widget-view+json": {
       "model_id": "e19e36099627408fb6b23c3a8e0b3745",
       "version_major": 2,
       "version_minor": 0
      },
      "text/plain": [
       "Pandas Apply:   0%|          | 0/2 [00:00<?, ?it/s]"
      ]
     },
     "metadata": {},
     "output_type": "display_data"
    },
    {
     "name": "stdout",
     "output_type": "stream",
     "text": [
      "Converged\n"
     ]
    },
    {
     "data": {
      "application/vnd.jupyter.widget-view+json": {
       "model_id": "f0d56305b2da48578bd9cc497d032fed",
       "version_major": 2,
       "version_minor": 0
      },
      "text/plain": [
       "Pandas Apply:   0%|          | 0/2 [00:00<?, ?it/s]"
      ]
     },
     "metadata": {},
     "output_type": "display_data"
    },
    {
     "name": "stdout",
     "output_type": "stream",
     "text": [
      "Converged\n"
     ]
    },
    {
     "data": {
      "application/vnd.jupyter.widget-view+json": {
       "model_id": "32f0984b8c284dcebf01d858c6fb7827",
       "version_major": 2,
       "version_minor": 0
      },
      "text/plain": [
       "Pandas Apply:   0%|          | 0/2 [00:00<?, ?it/s]"
      ]
     },
     "metadata": {},
     "output_type": "display_data"
    },
    {
     "name": "stdout",
     "output_type": "stream",
     "text": [
      "Converged\n"
     ]
    },
    {
     "data": {
      "application/vnd.jupyter.widget-view+json": {
       "model_id": "3da9759029fd4685847f39568084f6be",
       "version_major": 2,
       "version_minor": 0
      },
      "text/plain": [
       "Pandas Apply:   0%|          | 0/2 [00:00<?, ?it/s]"
      ]
     },
     "metadata": {},
     "output_type": "display_data"
    },
    {
     "name": "stdout",
     "output_type": "stream",
     "text": [
      "Converged\n"
     ]
    },
    {
     "data": {
      "application/vnd.jupyter.widget-view+json": {
       "model_id": "c4c67060e5bd41389b3d77a1115b4f52",
       "version_major": 2,
       "version_minor": 0
      },
      "text/plain": [
       "Pandas Apply:   0%|          | 0/2 [00:00<?, ?it/s]"
      ]
     },
     "metadata": {},
     "output_type": "display_data"
    },
    {
     "name": "stdout",
     "output_type": "stream",
     "text": [
      "Converged\n"
     ]
    },
    {
     "data": {
      "application/vnd.jupyter.widget-view+json": {
       "model_id": "3e865e60bc7a4fbdb0a066e2ac6a9603",
       "version_major": 2,
       "version_minor": 0
      },
      "text/plain": [
       "Pandas Apply:   0%|          | 0/2 [00:00<?, ?it/s]"
      ]
     },
     "metadata": {},
     "output_type": "display_data"
    },
    {
     "name": "stdout",
     "output_type": "stream",
     "text": [
      "Converged\n"
     ]
    },
    {
     "data": {
      "application/vnd.jupyter.widget-view+json": {
       "model_id": "3fb5babfdb8743fb92d80012d7274b90",
       "version_major": 2,
       "version_minor": 0
      },
      "text/plain": [
       "Pandas Apply:   0%|          | 0/2 [00:00<?, ?it/s]"
      ]
     },
     "metadata": {},
     "output_type": "display_data"
    },
    {
     "name": "stdout",
     "output_type": "stream",
     "text": [
      "Converged\n"
     ]
    },
    {
     "data": {
      "application/vnd.jupyter.widget-view+json": {
       "model_id": "b7c91e473405480ea62d30d69f56185c",
       "version_major": 2,
       "version_minor": 0
      },
      "text/plain": [
       "Pandas Apply:   0%|          | 0/2 [00:00<?, ?it/s]"
      ]
     },
     "metadata": {},
     "output_type": "display_data"
    },
    {
     "name": "stdout",
     "output_type": "stream",
     "text": [
      "Converged\n"
     ]
    },
    {
     "data": {
      "application/vnd.jupyter.widget-view+json": {
       "model_id": "424c74e849de46339ba6ca9d84bdd7c3",
       "version_major": 2,
       "version_minor": 0
      },
      "text/plain": [
       "Pandas Apply:   0%|          | 0/2 [00:00<?, ?it/s]"
      ]
     },
     "metadata": {},
     "output_type": "display_data"
    },
    {
     "name": "stdout",
     "output_type": "stream",
     "text": [
      "Converged\n"
     ]
    },
    {
     "data": {
      "application/vnd.jupyter.widget-view+json": {
       "model_id": "d049d6dbfc49482191bc8717618c0060",
       "version_major": 2,
       "version_minor": 0
      },
      "text/plain": [
       "Pandas Apply:   0%|          | 0/2 [00:00<?, ?it/s]"
      ]
     },
     "metadata": {},
     "output_type": "display_data"
    },
    {
     "name": "stdout",
     "output_type": "stream",
     "text": [
      "Converged\n"
     ]
    },
    {
     "data": {
      "application/vnd.jupyter.widget-view+json": {
       "model_id": "c13afc5176934d60ace1605e72d1db82",
       "version_major": 2,
       "version_minor": 0
      },
      "text/plain": [
       "Pandas Apply:   0%|          | 0/2 [00:00<?, ?it/s]"
      ]
     },
     "metadata": {},
     "output_type": "display_data"
    },
    {
     "name": "stdout",
     "output_type": "stream",
     "text": [
      "Converged\n"
     ]
    },
    {
     "data": {
      "application/vnd.jupyter.widget-view+json": {
       "model_id": "08e1ee096f274d74b2266b18de4c275f",
       "version_major": 2,
       "version_minor": 0
      },
      "text/plain": [
       "Pandas Apply:   0%|          | 0/2 [00:00<?, ?it/s]"
      ]
     },
     "metadata": {},
     "output_type": "display_data"
    },
    {
     "name": "stdout",
     "output_type": "stream",
     "text": [
      "Converged\n"
     ]
    },
    {
     "data": {
      "application/vnd.jupyter.widget-view+json": {
       "model_id": "4f5833681ef841bfac4b5ed6d96e745b",
       "version_major": 2,
       "version_minor": 0
      },
      "text/plain": [
       "Pandas Apply:   0%|          | 0/2 [00:00<?, ?it/s]"
      ]
     },
     "metadata": {},
     "output_type": "display_data"
    },
    {
     "name": "stdout",
     "output_type": "stream",
     "text": [
      "Converged\n"
     ]
    },
    {
     "data": {
      "application/vnd.jupyter.widget-view+json": {
       "model_id": "99df3d7f84f24b488a65b08905523079",
       "version_major": 2,
       "version_minor": 0
      },
      "text/plain": [
       "Pandas Apply:   0%|          | 0/2 [00:00<?, ?it/s]"
      ]
     },
     "metadata": {},
     "output_type": "display_data"
    },
    {
     "name": "stdout",
     "output_type": "stream",
     "text": [
      "Converged\n"
     ]
    },
    {
     "data": {
      "application/vnd.jupyter.widget-view+json": {
       "model_id": "daf2f2a4c33f4e17a9857b3fc883c07a",
       "version_major": 2,
       "version_minor": 0
      },
      "text/plain": [
       "Pandas Apply:   0%|          | 0/2 [00:00<?, ?it/s]"
      ]
     },
     "metadata": {},
     "output_type": "display_data"
    },
    {
     "name": "stdout",
     "output_type": "stream",
     "text": [
      "Converged\n"
     ]
    },
    {
     "data": {
      "application/vnd.jupyter.widget-view+json": {
       "model_id": "43e8717c92484b23b9ef1a1319439017",
       "version_major": 2,
       "version_minor": 0
      },
      "text/plain": [
       "Pandas Apply:   0%|          | 0/2 [00:00<?, ?it/s]"
      ]
     },
     "metadata": {},
     "output_type": "display_data"
    },
    {
     "name": "stdout",
     "output_type": "stream",
     "text": [
      "Converged\n"
     ]
    },
    {
     "data": {
      "application/vnd.jupyter.widget-view+json": {
       "model_id": "b07f2c35161d4f77a7573d10ae4cf910",
       "version_major": 2,
       "version_minor": 0
      },
      "text/plain": [
       "Pandas Apply:   0%|          | 0/2 [00:00<?, ?it/s]"
      ]
     },
     "metadata": {},
     "output_type": "display_data"
    },
    {
     "name": "stdout",
     "output_type": "stream",
     "text": [
      "Converged\n"
     ]
    },
    {
     "data": {
      "application/vnd.jupyter.widget-view+json": {
       "model_id": "b4e0ce4d4b1846de9eb7f825a02c369b",
       "version_major": 2,
       "version_minor": 0
      },
      "text/plain": [
       "Pandas Apply:   0%|          | 0/2 [00:00<?, ?it/s]"
      ]
     },
     "metadata": {},
     "output_type": "display_data"
    },
    {
     "name": "stdout",
     "output_type": "stream",
     "text": [
      "Converged\n"
     ]
    },
    {
     "data": {
      "application/vnd.jupyter.widget-view+json": {
       "model_id": "2b64a31efef348c0896579d3bd8bdb23",
       "version_major": 2,
       "version_minor": 0
      },
      "text/plain": [
       "Pandas Apply:   0%|          | 0/2 [00:00<?, ?it/s]"
      ]
     },
     "metadata": {},
     "output_type": "display_data"
    },
    {
     "name": "stdout",
     "output_type": "stream",
     "text": [
      "Converged\n"
     ]
    },
    {
     "data": {
      "application/vnd.jupyter.widget-view+json": {
       "model_id": "176a0e00c46049378cb43e289afc2920",
       "version_major": 2,
       "version_minor": 0
      },
      "text/plain": [
       "Pandas Apply:   0%|          | 0/2 [00:00<?, ?it/s]"
      ]
     },
     "metadata": {},
     "output_type": "display_data"
    },
    {
     "name": "stdout",
     "output_type": "stream",
     "text": [
      "Converged\n"
     ]
    },
    {
     "data": {
      "application/vnd.jupyter.widget-view+json": {
       "model_id": "233a590c4532488ca474cda11feb1035",
       "version_major": 2,
       "version_minor": 0
      },
      "text/plain": [
       "Pandas Apply:   0%|          | 0/2 [00:00<?, ?it/s]"
      ]
     },
     "metadata": {},
     "output_type": "display_data"
    },
    {
     "name": "stdout",
     "output_type": "stream",
     "text": [
      "Converged\n"
     ]
    },
    {
     "data": {
      "application/vnd.jupyter.widget-view+json": {
       "model_id": "7828c29908aa4fc292bbb68b9a22a658",
       "version_major": 2,
       "version_minor": 0
      },
      "text/plain": [
       "Pandas Apply:   0%|          | 0/2 [00:00<?, ?it/s]"
      ]
     },
     "metadata": {},
     "output_type": "display_data"
    },
    {
     "name": "stdout",
     "output_type": "stream",
     "text": [
      "Converged\n"
     ]
    },
    {
     "data": {
      "application/vnd.jupyter.widget-view+json": {
       "model_id": "0d71423ca3174b078d65e1aecf726fe4",
       "version_major": 2,
       "version_minor": 0
      },
      "text/plain": [
       "Pandas Apply:   0%|          | 0/2 [00:00<?, ?it/s]"
      ]
     },
     "metadata": {},
     "output_type": "display_data"
    },
    {
     "name": "stdout",
     "output_type": "stream",
     "text": [
      "Converged\n"
     ]
    },
    {
     "data": {
      "application/vnd.jupyter.widget-view+json": {
       "model_id": "133b7fbf265648abbbdcf52003d5af7a",
       "version_major": 2,
       "version_minor": 0
      },
      "text/plain": [
       "Pandas Apply:   0%|          | 0/2 [00:00<?, ?it/s]"
      ]
     },
     "metadata": {},
     "output_type": "display_data"
    },
    {
     "name": "stdout",
     "output_type": "stream",
     "text": [
      "Converged\n"
     ]
    },
    {
     "data": {
      "application/vnd.jupyter.widget-view+json": {
       "model_id": "15539a067ad248f3a8f4ab898e7fe067",
       "version_major": 2,
       "version_minor": 0
      },
      "text/plain": [
       "Pandas Apply:   0%|          | 0/2 [00:00<?, ?it/s]"
      ]
     },
     "metadata": {},
     "output_type": "display_data"
    },
    {
     "name": "stdout",
     "output_type": "stream",
     "text": [
      "Converged\n"
     ]
    },
    {
     "data": {
      "application/vnd.jupyter.widget-view+json": {
       "model_id": "d97c5f8d271343a198e60703d8570ed3",
       "version_major": 2,
       "version_minor": 0
      },
      "text/plain": [
       "Pandas Apply:   0%|          | 0/2 [00:00<?, ?it/s]"
      ]
     },
     "metadata": {},
     "output_type": "display_data"
    },
    {
     "name": "stdout",
     "output_type": "stream",
     "text": [
      "Converged\n"
     ]
    },
    {
     "data": {
      "application/vnd.jupyter.widget-view+json": {
       "model_id": "095df25e8afe44d3a70e454d90bec36e",
       "version_major": 2,
       "version_minor": 0
      },
      "text/plain": [
       "Pandas Apply:   0%|          | 0/2 [00:00<?, ?it/s]"
      ]
     },
     "metadata": {},
     "output_type": "display_data"
    },
    {
     "name": "stdout",
     "output_type": "stream",
     "text": [
      "Converged\n"
     ]
    },
    {
     "data": {
      "application/vnd.jupyter.widget-view+json": {
       "model_id": "d08c95b684924685838e9ca417ecc544",
       "version_major": 2,
       "version_minor": 0
      },
      "text/plain": [
       "Pandas Apply:   0%|          | 0/2 [00:00<?, ?it/s]"
      ]
     },
     "metadata": {},
     "output_type": "display_data"
    },
    {
     "name": "stdout",
     "output_type": "stream",
     "text": [
      "Converged\n"
     ]
    },
    {
     "data": {
      "application/vnd.jupyter.widget-view+json": {
       "model_id": "48b9770dfff84e63b246c3e01abd5985",
       "version_major": 2,
       "version_minor": 0
      },
      "text/plain": [
       "Pandas Apply:   0%|          | 0/2 [00:00<?, ?it/s]"
      ]
     },
     "metadata": {},
     "output_type": "display_data"
    },
    {
     "name": "stdout",
     "output_type": "stream",
     "text": [
      "Converged\n"
     ]
    },
    {
     "data": {
      "application/vnd.jupyter.widget-view+json": {
       "model_id": "b2591926a09f4372a92f2557b8b0f4c9",
       "version_major": 2,
       "version_minor": 0
      },
      "text/plain": [
       "Pandas Apply:   0%|          | 0/2 [00:00<?, ?it/s]"
      ]
     },
     "metadata": {},
     "output_type": "display_data"
    },
    {
     "name": "stdout",
     "output_type": "stream",
     "text": [
      "Converged\n"
     ]
    },
    {
     "data": {
      "application/vnd.jupyter.widget-view+json": {
       "model_id": "756b0cef28a540959d282523c16e1f4f",
       "version_major": 2,
       "version_minor": 0
      },
      "text/plain": [
       "Pandas Apply:   0%|          | 0/2 [00:00<?, ?it/s]"
      ]
     },
     "metadata": {},
     "output_type": "display_data"
    },
    {
     "name": "stdout",
     "output_type": "stream",
     "text": [
      "Converged\n"
     ]
    },
    {
     "data": {
      "application/vnd.jupyter.widget-view+json": {
       "model_id": "0384fb153a0c4671b58e4dee39eb94c3",
       "version_major": 2,
       "version_minor": 0
      },
      "text/plain": [
       "Pandas Apply:   0%|          | 0/2 [00:00<?, ?it/s]"
      ]
     },
     "metadata": {},
     "output_type": "display_data"
    },
    {
     "name": "stdout",
     "output_type": "stream",
     "text": [
      "Converged\n"
     ]
    },
    {
     "data": {
      "application/vnd.jupyter.widget-view+json": {
       "model_id": "736a471ba6e24257981ae5f26cdebed8",
       "version_major": 2,
       "version_minor": 0
      },
      "text/plain": [
       "Pandas Apply:   0%|          | 0/2 [00:00<?, ?it/s]"
      ]
     },
     "metadata": {},
     "output_type": "display_data"
    },
    {
     "name": "stdout",
     "output_type": "stream",
     "text": [
      "Converged\n"
     ]
    },
    {
     "data": {
      "application/vnd.jupyter.widget-view+json": {
       "model_id": "67d06648f2574d59bf6872cab78f53f9",
       "version_major": 2,
       "version_minor": 0
      },
      "text/plain": [
       "Pandas Apply:   0%|          | 0/2 [00:00<?, ?it/s]"
      ]
     },
     "metadata": {},
     "output_type": "display_data"
    },
    {
     "name": "stdout",
     "output_type": "stream",
     "text": [
      "Converged\n"
     ]
    },
    {
     "data": {
      "application/vnd.jupyter.widget-view+json": {
       "model_id": "f239f109636a4144937d9cd92346438e",
       "version_major": 2,
       "version_minor": 0
      },
      "text/plain": [
       "Pandas Apply:   0%|          | 0/2 [00:00<?, ?it/s]"
      ]
     },
     "metadata": {},
     "output_type": "display_data"
    },
    {
     "name": "stdout",
     "output_type": "stream",
     "text": [
      "Converged\n"
     ]
    },
    {
     "data": {
      "application/vnd.jupyter.widget-view+json": {
       "model_id": "c95d2a6f57114e43850444f8150980a4",
       "version_major": 2,
       "version_minor": 0
      },
      "text/plain": [
       "Pandas Apply:   0%|          | 0/2 [00:00<?, ?it/s]"
      ]
     },
     "metadata": {},
     "output_type": "display_data"
    },
    {
     "name": "stdout",
     "output_type": "stream",
     "text": [
      "Converged\n"
     ]
    },
    {
     "data": {
      "application/vnd.jupyter.widget-view+json": {
       "model_id": "886ffe69b3ab4bd593b110addbb35f41",
       "version_major": 2,
       "version_minor": 0
      },
      "text/plain": [
       "Pandas Apply:   0%|          | 0/2 [00:00<?, ?it/s]"
      ]
     },
     "metadata": {},
     "output_type": "display_data"
    },
    {
     "name": "stdout",
     "output_type": "stream",
     "text": [
      "Converged\n"
     ]
    },
    {
     "data": {
      "application/vnd.jupyter.widget-view+json": {
       "model_id": "24be532fae7a487f868e1c90dca070b5",
       "version_major": 2,
       "version_minor": 0
      },
      "text/plain": [
       "Pandas Apply:   0%|          | 0/2 [00:00<?, ?it/s]"
      ]
     },
     "metadata": {},
     "output_type": "display_data"
    },
    {
     "name": "stdout",
     "output_type": "stream",
     "text": [
      "Converged\n"
     ]
    },
    {
     "data": {
      "application/vnd.jupyter.widget-view+json": {
       "model_id": "2044e6e96e7b4791b660ae6e204f55f2",
       "version_major": 2,
       "version_minor": 0
      },
      "text/plain": [
       "Pandas Apply:   0%|          | 0/2 [00:00<?, ?it/s]"
      ]
     },
     "metadata": {},
     "output_type": "display_data"
    },
    {
     "name": "stdout",
     "output_type": "stream",
     "text": [
      "Converged\n"
     ]
    },
    {
     "data": {
      "application/vnd.jupyter.widget-view+json": {
       "model_id": "624da20a7a15496baf0b4b98a48d4009",
       "version_major": 2,
       "version_minor": 0
      },
      "text/plain": [
       "Pandas Apply:   0%|          | 0/2 [00:00<?, ?it/s]"
      ]
     },
     "metadata": {},
     "output_type": "display_data"
    },
    {
     "name": "stdout",
     "output_type": "stream",
     "text": [
      "Converged\n"
     ]
    },
    {
     "data": {
      "application/vnd.jupyter.widget-view+json": {
       "model_id": "adc5205698964640ba30526fdbaa1d33",
       "version_major": 2,
       "version_minor": 0
      },
      "text/plain": [
       "Pandas Apply:   0%|          | 0/2 [00:00<?, ?it/s]"
      ]
     },
     "metadata": {},
     "output_type": "display_data"
    },
    {
     "name": "stdout",
     "output_type": "stream",
     "text": [
      "Converged\n"
     ]
    },
    {
     "data": {
      "application/vnd.jupyter.widget-view+json": {
       "model_id": "d4548f653e62478ab3c54f8614b43fad",
       "version_major": 2,
       "version_minor": 0
      },
      "text/plain": [
       "Pandas Apply:   0%|          | 0/2 [00:00<?, ?it/s]"
      ]
     },
     "metadata": {},
     "output_type": "display_data"
    },
    {
     "name": "stdout",
     "output_type": "stream",
     "text": [
      "Converged\n"
     ]
    },
    {
     "data": {
      "application/vnd.jupyter.widget-view+json": {
       "model_id": "319af8a7c86b4cb6b0bf6067442c3d9e",
       "version_major": 2,
       "version_minor": 0
      },
      "text/plain": [
       "Pandas Apply:   0%|          | 0/2 [00:00<?, ?it/s]"
      ]
     },
     "metadata": {},
     "output_type": "display_data"
    },
    {
     "name": "stdout",
     "output_type": "stream",
     "text": [
      "Converged\n"
     ]
    },
    {
     "data": {
      "application/vnd.jupyter.widget-view+json": {
       "model_id": "41cd8883d8c34970b19c565e6d81626e",
       "version_major": 2,
       "version_minor": 0
      },
      "text/plain": [
       "Pandas Apply:   0%|          | 0/2 [00:00<?, ?it/s]"
      ]
     },
     "metadata": {},
     "output_type": "display_data"
    },
    {
     "name": "stdout",
     "output_type": "stream",
     "text": [
      "Converged\n"
     ]
    },
    {
     "data": {
      "application/vnd.jupyter.widget-view+json": {
       "model_id": "e7bbee3097e9440893157b04297338be",
       "version_major": 2,
       "version_minor": 0
      },
      "text/plain": [
       "Pandas Apply:   0%|          | 0/2 [00:00<?, ?it/s]"
      ]
     },
     "metadata": {},
     "output_type": "display_data"
    },
    {
     "name": "stdout",
     "output_type": "stream",
     "text": [
      "Converged\n"
     ]
    },
    {
     "data": {
      "application/vnd.jupyter.widget-view+json": {
       "model_id": "3b6642b3a80e44a384686a5a4edd96e1",
       "version_major": 2,
       "version_minor": 0
      },
      "text/plain": [
       "Pandas Apply:   0%|          | 0/2 [00:00<?, ?it/s]"
      ]
     },
     "metadata": {},
     "output_type": "display_data"
    }
   ],
   "source": [
    "error_matrix_em=[]\n",
    "error_matrix_kmeans=[]\n",
    "for i in range(2,6):\n",
    "    for j in range(1,21):\n",
    "        sse,clainski,means_matrix_initial=GMM(df_cleaned_dia,2,10)\n",
    "        error_matrix_em.append([i,sse,clainski])\n",
    "        \n",
    "        sse,clainski=kmeans_lyod_with_error(df_cleaned_dia,2,10,means_matrix_initial)\n",
    "        error_matrix_kmeans.append([i,sse,clainski])\n",
    "error_df_em= pd.DataFrame(error_matrix_em,columns=['number_of_cluster', 'sse','clainski'])  \n",
    "error_df_kmeans= pd.DataFrame(error_matrix_kmeans,columns=['number_of_cluster', 'sse','clainski']) \n"
   ]
  },
  {
   "cell_type": "code",
   "execution_count": 31,
   "id": "95061054",
   "metadata": {},
   "outputs": [],
   "source": [
    "error_df_em.to_csv('6_em_pca.csv',index=False)\n",
    "error_df_kmeans.to_csv('6_kmeans_pca.csv',index=False)"
   ]
  },
  {
   "cell_type": "code",
   "execution_count": 32,
   "id": "4e040d0c",
   "metadata": {},
   "outputs": [],
   "source": [
    "\n",
    "error_df_em['algo']='em'\n",
    "error_df_kmeans['algo']='kmeans'\n",
    "\n",
    "\n",
    "run_time_diab=pd.DataFrame()\n",
    "run_time_diab=pd.concat( [ error_df_em[['algo','number_of_cluster','sse','clainski']],\n",
    "    error_df_kmeans[['algo','number_of_cluster', 'sse','clainski']]\n",
    "                        ],ignore_index=True )"
   ]
  },
  {
   "cell_type": "code",
   "execution_count": 37,
   "id": "d849503f",
   "metadata": {},
   "outputs": [
    {
     "data": {
      "image/png": "[encoded data removed]",
      "text/plain": [
       "<Figure size 576x432 with 1 Axes>"
      ]
     },
     "metadata": {
      "needs_background": "light"
     },
     "output_type": "display_data"
    }
   ],
   "source": [
    "import seaborn as sns\n",
    "\n",
    "fig, ax = plt.subplots(figsize=(8,6))\n",
    "\n",
    "sns.boxplot(x='number_of_cluster', y='sse', hue='algo',\n",
    "            data=run_time_diab[run_time_diab['algo'].isin (['kmeans','em'])],ax=ax);\n",
    "plt.title('Box Plot of SSE for GMM and K means after PCA')\n",
    "plt.show()"
   ]
  },
  {
   "cell_type": "code",
   "execution_count": 36,
   "id": "50068146",
   "metadata": {},
   "outputs": [
    {
     "data": {
      "image/png": "[encoded data removed]",
      "text/plain": [
       "<Figure size 576x432 with 1 Axes>"
      ]
     },
     "metadata": {
      "needs_background": "light"
     },
     "output_type": "display_data"
    }
   ],
   "source": [
    "import seaborn as sns\n",
    "\n",
    "fig, ax = plt.subplots(figsize=(8,6))\n",
    "\n",
    "sns.boxplot(x='number_of_cluster', y='clainski', hue='algo',\n",
    "            data=run_time_diab[run_time_diab['algo'].isin (['kmeans','em'])],ax=ax);\n",
    "plt.title('Box Plot of Clainski Index for GMM and K means after PCA')\n",
    "plt.show()"
   ]
  },
  {
   "cell_type": "code",
   "execution_count": 38,
   "id": "c3d391df",
   "metadata": {},
   "outputs": [],
   "source": []
  },
  {
   "cell_type": "code",
   "execution_count": 40,
   "id": "29a0cc99",
   "metadata": {},
   "outputs": [],
   "source": [
    "error_df_em_nopca=pd.read_csv('6_em.csv')\n",
    "error_df_kmeans_nopca=pd.read_csv('6_kmeans.csv')\n",
    "\n",
    "\n",
    "error_df_em_nopca['algo']='em_nopca'\n",
    "error_df_kmeans_nopca['algo']='kmeans_nopca'\n"
   ]
  },
  {
   "cell_type": "code",
   "execution_count": 41,
   "id": "88b50fbb",
   "metadata": {},
   "outputs": [],
   "source": [
    "run_time_diab=pd.concat( [ run_time_diab[['algo','number_of_cluster','sse','clainski']],\n",
    "    error_df_em_nopca[['algo','number_of_cluster', 'sse','clainski']],\n",
    "    error_df_kmeans_nopca[['algo','number_of_cluster', 'sse','clainski']]                     \n",
    "                        ],ignore_index=True )"
   ]
  },
  {
   "cell_type": "code",
   "execution_count": 42,
   "id": "c070f891",
   "metadata": {},
   "outputs": [
    {
     "data": {
      "text/html": [
       "<div>\n",
       "<style scoped>\n",
       "    .dataframe tbody tr th:only-of-type {\n",
       "        vertical-align: middle;\n",
       "    }\n",
       "\n",
       "    .dataframe tbody tr th {\n",
       "        vertical-align: top;\n",
       "    }\n",
       "\n",
       "    .dataframe thead th {\n",
       "        text-align: right;\n",
       "    }\n",
       "</style>\n",
       "<table border=\"1\" class=\"dataframe\">\n",
       "  <thead>\n",
       "    <tr style=\"text-align: right;\">\n",
       "      <th></th>\n",
       "      <th>algo</th>\n",
       "      <th>number_of_cluster</th>\n",
       "      <th>sse</th>\n",
       "      <th>clainski</th>\n",
       "    </tr>\n",
       "  </thead>\n",
       "  <tbody>\n",
       "    <tr>\n",
       "      <th>0</th>\n",
       "      <td>em</td>\n",
       "      <td>2</td>\n",
       "      <td>2.386529e+06</td>\n",
       "      <td>2443.070471</td>\n",
       "    </tr>\n",
       "    <tr>\n",
       "      <th>1</th>\n",
       "      <td>em</td>\n",
       "      <td>2</td>\n",
       "      <td>2.392537e+06</td>\n",
       "      <td>2127.101075</td>\n",
       "    </tr>\n",
       "    <tr>\n",
       "      <th>2</th>\n",
       "      <td>em</td>\n",
       "      <td>2</td>\n",
       "      <td>2.377747e+06</td>\n",
       "      <td>2778.852718</td>\n",
       "    </tr>\n",
       "    <tr>\n",
       "      <th>3</th>\n",
       "      <td>em</td>\n",
       "      <td>2</td>\n",
       "      <td>2.383451e+06</td>\n",
       "      <td>2546.146508</td>\n",
       "    </tr>\n",
       "    <tr>\n",
       "      <th>4</th>\n",
       "      <td>em</td>\n",
       "      <td>2</td>\n",
       "      <td>2.380266e+06</td>\n",
       "      <td>2723.831036</td>\n",
       "    </tr>\n",
       "    <tr>\n",
       "      <th>...</th>\n",
       "      <td>...</td>\n",
       "      <td>...</td>\n",
       "      <td>...</td>\n",
       "      <td>...</td>\n",
       "    </tr>\n",
       "    <tr>\n",
       "      <th>315</th>\n",
       "      <td>kmeans_nopca</td>\n",
       "      <td>5</td>\n",
       "      <td>2.871580e+06</td>\n",
       "      <td>3410.239661</td>\n",
       "    </tr>\n",
       "    <tr>\n",
       "      <th>316</th>\n",
       "      <td>kmeans_nopca</td>\n",
       "      <td>5</td>\n",
       "      <td>2.795329e+06</td>\n",
       "      <td>4197.218665</td>\n",
       "    </tr>\n",
       "    <tr>\n",
       "      <th>317</th>\n",
       "      <td>kmeans_nopca</td>\n",
       "      <td>5</td>\n",
       "      <td>2.841665e+06</td>\n",
       "      <td>3713.951295</td>\n",
       "    </tr>\n",
       "    <tr>\n",
       "      <th>318</th>\n",
       "      <td>kmeans_nopca</td>\n",
       "      <td>5</td>\n",
       "      <td>2.945306e+06</td>\n",
       "      <td>2688.059677</td>\n",
       "    </tr>\n",
       "    <tr>\n",
       "      <th>319</th>\n",
       "      <td>kmeans_nopca</td>\n",
       "      <td>5</td>\n",
       "      <td>2.914141e+06</td>\n",
       "      <td>2988.871686</td>\n",
       "    </tr>\n",
       "  </tbody>\n",
       "</table>\n",
       "<p>320 rows × 4 columns</p>\n",
       "</div>"
      ],
      "text/plain": [
       "             algo  number_of_cluster           sse     clainski\n",
       "0              em                  2  2.386529e+06  2443.070471\n",
       "1              em                  2  2.392537e+06  2127.101075\n",
       "2              em                  2  2.377747e+06  2778.852718\n",
       "3              em                  2  2.383451e+06  2546.146508\n",
       "4              em                  2  2.380266e+06  2723.831036\n",
       "..            ...                ...           ...          ...\n",
       "315  kmeans_nopca                  5  2.871580e+06  3410.239661\n",
       "316  kmeans_nopca                  5  2.795329e+06  4197.218665\n",
       "317  kmeans_nopca                  5  2.841665e+06  3713.951295\n",
       "318  kmeans_nopca                  5  2.945306e+06  2688.059677\n",
       "319  kmeans_nopca                  5  2.914141e+06  2988.871686\n",
       "\n",
       "[320 rows x 4 columns]"
      ]
     },
     "execution_count": 42,
     "metadata": {},
     "output_type": "execute_result"
    }
   ],
   "source": [
    "run_time_diab"
   ]
  },
  {
   "cell_type": "code",
   "execution_count": 43,
   "id": "c52ea9ef",
   "metadata": {},
   "outputs": [
    {
     "data": {
      "image/png": "[encoded data removed]",
      "text/plain": [
       "<Figure size 576x432 with 1 Axes>"
      ]
     },
     "metadata": {
      "needs_background": "light"
     },
     "output_type": "display_data"
    }
   ],
   "source": [
    "import seaborn as sns\n",
    "\n",
    "fig, ax = plt.subplots(figsize=(8,6))\n",
    "\n",
    "sns.boxplot(x='number_of_cluster', y='sse', hue='algo',\n",
    "            data=run_time_diab[run_time_diab['algo'].isin (['kmeans','em','kmeans_nopca','em_nopca'])],ax=ax);\n",
    "plt.title('Box Plot of SSE for GMM and K means before and after PCA')\n",
    "plt.show()"
   ]
  },
  {
   "cell_type": "code",
   "execution_count": 44,
   "id": "aed338be",
   "metadata": {},
   "outputs": [
    {
     "data": {
      "image/png": "[encoded data removed]",
      "text/plain": [
       "<Figure size 576x432 with 1 Axes>"
      ]
     },
     "metadata": {
      "needs_background": "light"
     },
     "output_type": "display_data"
    }
   ],
   "source": [
    "import seaborn as sns\n",
    "\n",
    "fig, ax = plt.subplots(figsize=(8,6))\n",
    "\n",
    "sns.boxplot(x='number_of_cluster', y='clainski', hue='algo',\n",
    "            data=run_time_diab[run_time_diab['algo'].isin (['kmeans','em','kmeans_nopca','em_nopca'])],ax=ax);\n",
    "plt.title('Box Plot of Clainski for GMM and K means before and after PCA')\n",
    "plt.show()"
   ]
  },
  {
   "cell_type": "code",
   "execution_count": null,
   "id": "288aaa2a",
   "metadata": {},
   "outputs": [],
   "source": []
  }
 ],
 "metadata": {
  "kernelspec": {
   "display_name": "Python 3 (ipykernel)",
   "language": "python",
   "name": "python3"
  },
  "language_info": {
   "codemirror_mode": {
    "name": "ipython",
    "version": 3
   },
   "file_extension": ".py",
   "mimetype": "text/x-python",
   "name": "python",
   "nbconvert_exporter": "python",
   "pygments_lexer": "ipython3",
   "version": "3.9.13"
  }
 },
 "nbformat": 4,
 "nbformat_minor": 5
}
