{
 "cells": [
  {
   "cell_type": "code",
   "execution_count": 2,
   "id": "92f4c5a5",
   "metadata": {},
   "outputs": [
    {
     "name": "stdout",
     "output_type": "stream",
     "text": [
      "Null features ['race', 'weight', 'payer_code', 'medical_specialty', 'diag_1', 'diag_2', 'diag_3'] \n",
      "\n",
      "Feature \t null_count \t not_null_count\n",
      "race \t 2273 \t\t 99493\n",
      "weight \t 98569 \t\t 3197\n",
      "payer_code \t 40256 \t\t 61510\n",
      "medical_specialty \t 49949 \t\t 51817\n",
      "diag_1 \t 21 \t\t 101745\n",
      "diag_2 \t 358 \t\t 101408\n",
      "diag_3 \t 1423 \t\t 100343\n",
      "The numeric feature is encounter_id \n",
      " The value counts are 2278392      1\n",
      "190792044    1\n",
      "190790070    1\n",
      "190789722    1\n",
      "190786806    1\n",
      "            ..\n",
      "106665324    1\n",
      "106657776    1\n",
      "106644876    1\n",
      "106644474    1\n",
      "443867222    1\n",
      "Name: encounter_id, Length: 101766, dtype: int64\n",
      "The numeric feature is patient_nbr \n",
      " The value counts are 88785891     40\n",
      "43140906     28\n",
      "1660293      23\n",
      "88227540     23\n",
      "23199021     23\n",
      "             ..\n",
      "11005362      1\n",
      "98252496      1\n",
      "1019673       1\n",
      "13396320      1\n",
      "175429310     1\n",
      "Name: patient_nbr, Length: 71518, dtype: int64\n",
      "The numeric feature is age \n",
      " The value counts are 75    26068\n",
      "65    22483\n",
      "55    17256\n",
      "85    17197\n",
      "45     9685\n",
      "35     3775\n",
      "95     2793\n",
      "25     1657\n",
      "15      691\n",
      "5       161\n",
      "Name: age, dtype: int64\n",
      "The numeric feature is admission_type_id \n",
      " The value counts are 1    53990\n",
      "3    18869\n",
      "2    18480\n",
      "6     5291\n",
      "5     4785\n",
      "8      320\n",
      "7       21\n",
      "4       10\n",
      "Name: admission_type_id, dtype: int64\n",
      "The numeric feature is discharge_disposition_id \n",
      " The value counts are 1     60234\n",
      "3     13954\n",
      "6     12902\n",
      "18     3691\n",
      "2      2128\n",
      "22     1993\n",
      "11     1642\n",
      "5      1184\n",
      "25      989\n",
      "4       815\n",
      "7       623\n",
      "23      412\n",
      "13      399\n",
      "14      372\n",
      "28      139\n",
      "8       108\n",
      "15       63\n",
      "24       48\n",
      "9        21\n",
      "17       14\n",
      "16       11\n",
      "19        8\n",
      "10        6\n",
      "27        5\n",
      "12        3\n",
      "20        2\n",
      "Name: discharge_disposition_id, dtype: int64\n",
      "The numeric feature is admission_source_id \n",
      " The value counts are 7     57494\n",
      "1     29565\n",
      "17     6781\n",
      "4      3187\n",
      "6      2264\n",
      "2      1104\n",
      "5       855\n",
      "3       187\n",
      "20      161\n",
      "9       125\n",
      "8        16\n",
      "22       12\n",
      "10        8\n",
      "14        2\n",
      "11        2\n",
      "25        2\n",
      "13        1\n",
      "Name: admission_source_id, dtype: int64\n",
      "The numeric feature is time_in_hospital \n",
      " The value counts are 3     17756\n",
      "2     17224\n",
      "1     14208\n",
      "4     13924\n",
      "5      9966\n",
      "6      7539\n",
      "7      5859\n",
      "8      4391\n",
      "9      3002\n",
      "10     2342\n",
      "11     1855\n",
      "12     1448\n",
      "13     1210\n",
      "14     1042\n",
      "Name: time_in_hospital, dtype: int64\n",
      "The numeric feature is num_lab_procedures \n",
      " The value counts are 1      3208\n",
      "43     2804\n",
      "44     2496\n",
      "45     2376\n",
      "38     2213\n",
      "       ... \n",
      "120       1\n",
      "132       1\n",
      "121       1\n",
      "126       1\n",
      "118       1\n",
      "Name: num_lab_procedures, Length: 118, dtype: int64\n",
      "The numeric feature is num_procedures \n",
      " The value counts are 0    46652\n",
      "1    20742\n",
      "2    12717\n",
      "3     9443\n",
      "6     4954\n",
      "4     4180\n",
      "5     3078\n",
      "Name: num_procedures, dtype: int64\n",
      "The numeric feature is num_medications \n",
      " The value counts are 13    6086\n",
      "12    6004\n",
      "11    5795\n",
      "15    5792\n",
      "14    5707\n",
      "      ... \n",
      "70       2\n",
      "75       2\n",
      "81       1\n",
      "79       1\n",
      "74       1\n",
      "Name: num_medications, Length: 75, dtype: int64\n",
      "The numeric feature is number_outpatient \n",
      " The value counts are 0     85027\n",
      "1      8547\n",
      "2      3594\n",
      "3      2042\n",
      "4      1099\n",
      "5       533\n",
      "6       303\n",
      "7       155\n",
      "8        98\n",
      "9        83\n",
      "10       57\n",
      "11       42\n",
      "13       31\n",
      "12       30\n",
      "14       28\n",
      "15       20\n",
      "16       15\n",
      "17        8\n",
      "21        7\n",
      "20        7\n",
      "18        5\n",
      "22        5\n",
      "19        3\n",
      "27        3\n",
      "24        3\n",
      "26        2\n",
      "23        2\n",
      "25        2\n",
      "33        2\n",
      "35        2\n",
      "36        2\n",
      "29        2\n",
      "34        1\n",
      "39        1\n",
      "42        1\n",
      "28        1\n",
      "37        1\n",
      "38        1\n",
      "40        1\n",
      "Name: number_outpatient, dtype: int64\n",
      "The numeric feature is number_emergency \n",
      " The value counts are 0     90383\n",
      "1      7677\n",
      "2      2042\n",
      "3       725\n",
      "4       374\n",
      "5       192\n",
      "6        94\n",
      "7        73\n",
      "8        50\n",
      "10       34\n",
      "9        33\n",
      "11       23\n",
      "13       12\n",
      "12       10\n",
      "22        6\n",
      "16        5\n",
      "18        5\n",
      "19        4\n",
      "20        4\n",
      "15        3\n",
      "14        3\n",
      "25        2\n",
      "21        2\n",
      "28        1\n",
      "42        1\n",
      "46        1\n",
      "76        1\n",
      "37        1\n",
      "64        1\n",
      "63        1\n",
      "54        1\n",
      "24        1\n",
      "29        1\n",
      "Name: number_emergency, dtype: int64\n",
      "The numeric feature is number_inpatient \n",
      " The value counts are 0     67630\n",
      "1     19521\n",
      "2      7566\n",
      "3      3411\n",
      "4      1622\n",
      "5       812\n",
      "6       480\n",
      "7       268\n",
      "8       151\n",
      "9       111\n",
      "10       61\n",
      "11       49\n",
      "12       34\n",
      "13       20\n",
      "14       10\n",
      "15        9\n",
      "16        6\n",
      "19        2\n",
      "17        1\n",
      "21        1\n",
      "18        1\n",
      "Name: number_inpatient, dtype: int64\n",
      "The numeric feature is number_diagnoses \n",
      " The value counts are 9     49474\n",
      "5     11393\n",
      "8     10616\n",
      "7     10393\n",
      "6     10161\n",
      "4      5537\n",
      "3      2835\n",
      "2      1023\n",
      "1       219\n",
      "16       45\n",
      "10       17\n",
      "13       16\n",
      "11       11\n",
      "15       10\n",
      "12        9\n",
      "14        7\n",
      "Name: number_diagnoses, dtype: int64\n",
      "The numeric feature is readmitted \n",
      " The value counts are 0    54864\n",
      "1    46902\n",
      "Name: readmitted, dtype: int64\n"
     ]
    },
    {
     "data": {
      "application/vnd.jupyter.widget-view+json": {
       "model_id": "370b073894e147ba874e09245e52cd05",
       "version_major": 2,
       "version_minor": 0
      },
      "text/plain": [
       "Pandas Apply:   0%|          | 0/11 [00:00<?, ?it/s]"
      ]
     },
     "metadata": {},
     "output_type": "display_data"
    },
    {
     "data": {
      "text/plain": [
       "(101766, 32)"
      ]
     },
     "execution_count": 2,
     "metadata": {},
     "output_type": "execute_result"
    }
   ],
   "source": [
    "import pandas as pd\n",
    "import swifter\n",
    "import matplotlib.pyplot as plt\n",
    "import seaborn as sns\n",
    "from sklearn.preprocessing import LabelEncoder\n",
    "from tqdm import tqdm\n",
    "from sklearn.preprocessing import StandardScaler\n",
    "from sklearn.preprocessing import MinMaxScaler\n",
    "from scipy.stats import multivariate_normal\n",
    "from sklearn.metrics import silhouette_score, calinski_harabasz_score\n",
    "from scipy.spatial.distance import euclidean\n",
    "\n",
    "df= pd.read_csv('dataset_diabetes/diabetic_data.csv')\n",
    "import numpy as np\n",
    "df.replace({'?':np.nan},inplace=True)\n",
    "df.head()\n",
    "\n",
    "null_feature=[i for i in df.columns if df[i].isnull().sum()>=1]\n",
    "print('Null features {} \\n'.format(null_feature))\n",
    "print('Feature \\t null_count \\t not_null_count')\n",
    "for i in null_feature:\n",
    "    print('{} \\t {} \\t\\t {}'.format(i,df[i].isnull().sum(),df[i].count()))\n",
    "    \n",
    "    \n",
    "#Dropping columns with count of null values around the count of not null values. As they dont provide significant information or \n",
    "#mostly contains null data\n",
    "df.drop(['weight','payer_code','medical_specialty'],axis=1,inplace=True)\n",
    "\n",
    "\n",
    "df['age'] = df['age'].replace({'[0-10)': 5, '[10-20)': 15, '[20-30)': 25, '[30-40)': 35, '[40-50)': 45, '[50-60)': 55, '[60-70)': 65, '[70-80)': 75, '[80-90)': 85, '[90-100)': 95})\n",
    "\n",
    "df['readmitted'] = df['readmitted'].replace({'>30':1,'<30':1,'NO':0})\n",
    "\n",
    "\n",
    "for i in df.select_dtypes(include=['int', 'float']).columns.to_list():\n",
    "    print('The numeric feature is {} \\n The value counts are {}'.format(i,df[i].value_counts()) )\n",
    "    \n",
    "df.drop(columns=['encounter_id','patient_nbr'],inplace=True,axis=1)\n",
    "\n",
    "meds=['max_glu_serum', 'A1Cresult', 'metformin', 'repaglinide', 'nateglinide', 'chlorpropamide',\n",
    "      'glimepiride', 'acetohexamide', 'glipizide', 'glyburide', 'tolbutamide', 'pioglitazone', 'rosiglitazone', \n",
    "      'acarbose', 'miglitol', 'troglitazone', 'tolazamide', 'examide', 'citoglipton', 'insulin', 'glyburide-metformin',\n",
    "      'glipizide-metformin', 'glimepiride-pioglitazone', 'metformin-rosiglitazone', 'metformin-pioglitazone']\n",
    "df_value_counts=pd.DataFrame()\n",
    "for i in meds:\n",
    "    value_counts=df[i].value_counts()\n",
    "    percent = []\n",
    "    for j in value_counts.index:\n",
    "        percent.append(value_counts[j] *100/ len(df))\n",
    "    ## PErcentage dataframe to store the feature, its unique values, the count and the percentage\n",
    "    df_temp=pd.DataFrame({'Feature':i,'Value': value_counts.index, 'Count': value_counts.values, 'Percentage': percent})\n",
    "    df_value_counts=pd.concat([df_value_counts,df_temp],ignore_index=True)\n",
    "df_value_counts.head(80)  \n",
    "\n",
    "skewed_data=df_value_counts[df_value_counts['Percentage']>95]['Feature'].to_list()\n",
    "df.drop(columns=skewed_data,inplace=True)\n",
    "\n",
    "label_encoded_columns=[]\n",
    "for i in df.select_dtypes(include=['object']).columns.to_list():\n",
    "    if i not in skewed_data:\n",
    "        label_encoded_columns.append(i)\n",
    "## The columns remaining after all the EDA that are to be label encoded\n",
    "\n",
    "df_cleaned_dia=df.copy()\n",
    "## creating the copy of data before performing label encoding and one hot encoding\n",
    "one_hot = pd.get_dummies(df_cleaned_dia[['gender','race']])\n",
    "label_encoded_columns.remove('diag_1')\n",
    "label_encoded_columns.remove('diag_2')\n",
    "label_encoded_columns.remove('diag_3')\n",
    "label_encoded_columns.remove('gender')\n",
    "label_encoded_columns.remove('race')\n",
    "# combine the one-hot encoded columns with the original dataframe\n",
    "df_cleaned_dia = pd.concat([df_cleaned_dia, one_hot], axis=1)\n",
    "df_cleaned_dia.drop(columns=['diag_1','diag_2','diag_3','gender','race'],inplace=True)\n",
    "##\n",
    "df_cleaned_dia[label_encoded_columns]=df_cleaned_dia[label_encoded_columns].swifter.apply(LabelEncoder().fit_transform)\n",
    "\n",
    "\n",
    "df_cleaned_dia.shape"
   ]
  },
  {
   "cell_type": "code",
   "execution_count": 3,
   "id": "d5a0c109",
   "metadata": {},
   "outputs": [],
   "source": [
    "from sklearn.metrics import silhouette_score, calinski_harabasz_score\n",
    "def GMM_initialization(df,k):\n",
    "    number_of_rows=df.shape[0]\n",
    "    number_of_columns=df.shape[1]\n",
    "    means_matrix = df.sample(n=k).values\n",
    "    identity_matrix=np.eye(number_of_columns)\n",
    "    covariance_matrix=np.array([identity_matrix]*k)\n",
    "    weights_matrix=np.array([float(1/k)]*k)\n",
    "    return means_matrix,covariance_matrix,weights_matrix,number_of_rows,number_of_columns\n",
    "    \n",
    "    \n",
    "def calculate_posterior(data,means_matrix,covariance_matrix,weights_matrix,k,number_of_columns):\n",
    "    posterior=np.zeros(k)\n",
    "    for i in range(k):\n",
    "        try:\n",
    "            pseudo_inverse = np.linalg.pinv(covariance_matrix[i] + np.eye(covariance_matrix[i].shape[0]) * 1e-2, rcond=1e-10)\n",
    "            posterior[i] = multivariate_normal.pdf(data, mean=means_matrix[i], cov=pseudo_inverse)\n",
    "        except Exception as e:\n",
    "            continue\n",
    "    return posterior*weights_matrix/(posterior*weights_matrix).sum()\n",
    "    \n",
    "def maintain_k_clusters(labels,k):\n",
    "    unique_values, value_counts = np.unique(labels, return_counts=True)\n",
    "    missing_labels=[i for i in range(k) if i not in unique_values]\n",
    "    unique_values_to_be_replaced=[unique_values[i] for i in np.where(value_counts > 1)[0]]\n",
    "\n",
    "    indices=[i for i in range(len(labels))    if labels[i] in unique_values_to_be_replaced]\n",
    "    random_indices = np.random.choice(indices, size=len(missing_labels), replace=False)\n",
    "    for i,val in enumerate(random_indices):\n",
    "        labels[val]=missing_labels[i]\n",
    "    return labels\n",
    "\n",
    "\n",
    "def sum_of_square_error_em(new_centroids, data, labels):\n",
    "    columns = data.columns\n",
    "    # Join the data dataframe and the labels dataframe\n",
    "    data = data.join(labels)\n",
    "    # Rename the '0' column of the labels dataframe to 'Label'\n",
    "    data.rename(columns={0:'Label'}, inplace=True)\n",
    "    sse = []\n",
    "    # Compute the distance between each data point and its assigned centroid\n",
    "    for i in range(len(new_centroids)):\n",
    "        distance = np.sum(np.square(data[data['Label']==i][columns] - new_centroids.iloc[i][columns],dtype=np.float64), axis=1)\n",
    "        #print(distance)\n",
    "        sse.append(distance.sum())\n",
    "    # Return the sum of squared errors\n",
    "    \n",
    "    a=sum(sse)   \n",
    "    return a\n",
    "\n",
    "def Calinski_index_em(df_data,clusters):\n",
    "    ch_score = calinski_harabasz_score(df_data, clusters)\n",
    "    return ch_score\n",
    "    \n",
    "\n",
    "\n",
    "def GMM(df_cleaned_dia,k,tao):\n",
    "    scaler = MinMaxScaler()\n",
    "    scaler.fit(df_cleaned_dia)\n",
    "    scaled_input=scaler.transform(df_cleaned_dia)\n",
    "    \n",
    "    scaled_input_df= pd.DataFrame(scaled_input,columns=df_cleaned_dia.columns)\n",
    "    \n",
    "    means_matrix,covariance_matrix,weights_matrix,number_of_rows,number_of_columns= GMM_initialization(scaled_input_df,k)\n",
    "    likelihood=0\n",
    "    means_matrix_initial=means_matrix\n",
    "    for i in range(k):\n",
    "        try:\n",
    "            \n",
    "            pseudo_inverse = np.linalg.pinv(covariance_matrix[i] + np.diag(np.ones(covariance_matrix[i].shape[0]) * 1e-10))\n",
    "            likelihood=likelihood+weights_matrix[i]*multivariate_normal.logpdf(scaled_input,means_matrix[i], pseudo_inverse)\n",
    "        except Exception as e:\n",
    "            continue\n",
    "    log_likelihood_old=np.sum(likelihood)\n",
    "    old_means_matrix_df=pd.DataFrame(means_matrix)\n",
    "    posterior_probability = np.zeros((scaled_input.shape[0], k))\n",
    "    iterations=0\n",
    "    \n",
    "    while (True):\n",
    "        iterations+=1\n",
    "        # Expectation\n",
    "        for i in range(scaled_input.shape[0]):\n",
    "            posterior_probability[i] = calculate_posterior(scaled_input[i], means_matrix,covariance_matrix,weights_matrix,k,number_of_columns)\n",
    "        \n",
    "        # Maximization\n",
    "        posterior_probability=np.nan_to_num(posterior_probability, nan=0)\n",
    "        for i in range(k): \n",
    "            # Calculating weight\n",
    "            weight = posterior_probability[:, i].sum()\n",
    "            #print(weight)\n",
    "            # Updating each centroid\n",
    "            means_matrix[i] = (posterior_probability[:, i] @ scaled_input) / weight\n",
    "            #print(1,means_matrix[i])\n",
    "            # Subtracting the mean value from data\n",
    "            scaled_input_diff = scaled_input - means_matrix[i]\n",
    "\n",
    "            # Update the covariance matrix \n",
    "            covariance_matrix[i] = (posterior_probability[:, i] * scaled_input_diff.T @ scaled_input_diff) / weight\n",
    "\n",
    "            # Update the weights matrix\n",
    "            weights_matrix[i] = weight / number_of_rows\n",
    "        \n",
    "\n",
    "        likelihood=0\n",
    "        for i in range(k):\n",
    "            try:\n",
    "                pseudo_inverse = np.linalg.pinv(covariance_matrix[i] + np.diag(np.ones(covariance_matrix[i].shape[0]) * 1e-10))\n",
    "                likelihood=likelihood+weights_matrix[i]*multivariate_normal.logpdf(scaled_input,means_matrix[i], sudo_inverse)\n",
    "            except Exception as e:\n",
    "                continue\n",
    "        log_likelihood_new =np.sum(likelihood)\n",
    "        \n",
    "        new_means_matrix_df=pd.DataFrame(means_matrix)\n",
    "        distance = []\n",
    "        for col in new_means_matrix_df.columns:\n",
    "            col_distance = euclidean(old_means_matrix_df[col], new_means_matrix_df[col])\n",
    "            distance.append(col_distance)\n",
    "        tao_calculated=sum(distance)/k \n",
    "        \n",
    "        \n",
    "        \n",
    "        if tao_calculated< tao:#log_likelihood_new>log_likelihood_old and 100*((log_likelihood_new - log_likelihood_old) / log_likelihood_old)<tao:\n",
    "            \n",
    "            print(\"Converged\")\n",
    "            labels=np.argmax(posterior_probability,axis=1)\n",
    "            labels=maintain_k_clusters(labels,k)\n",
    "            labels_df=pd.DataFrame(labels)\n",
    "            means_matrix_df=pd.DataFrame(means_matrix,columns=scaled_input_df.columns)\n",
    "            sse=sum_of_square_error_em(means_matrix_df, scaled_input_df, labels_df)\n",
    "            clainski= Calinski_index_em(scaled_input_df,labels_df)\n",
    "            return sse,clainski,means_matrix_initial\n",
    "        #else:\n",
    "            #log_likelihood_old=log_likelihood_new\n",
    "            \n",
    "        if iterations>100:\n",
    "            print(\"Max iteration reached\")\n",
    "            labels=np.argmax(posterior_probability,axis=1)\n",
    "            labels=maintain_k_clusters(labels,k)\n",
    "            labels_df=pd.DataFrame(labels)\n",
    "            means_matrix_df=pd.DataFrame(means_matrix,columns=scaled_input_df.columns)\n",
    "            sse=sum_of_square_error_em(means_matrix_df, scaled_input_df, labels_df)\n",
    "            clainski= Calinski_index_em(scaled_input_df,labels_df)\n",
    "            return sse,clainski,means_matrix_initial\n",
    "        \n",
    "    \n"
   ]
  },
  {
   "cell_type": "code",
   "execution_count": 4,
   "id": "8117763a",
   "metadata": {},
   "outputs": [
    {
     "name": "stdout",
     "output_type": "stream",
     "text": [
      "Converged\n"
     ]
    },
    {
     "name": "stderr",
     "output_type": "stream",
     "text": [
      "/N/soft/rhel7/python/3.9.8/lib/python3.9/site-packages/sklearn/utils/validation.py:993: DataConversionWarning: A column-vector y was passed when a 1d array was expected. Please change the shape of y to (n_samples, ), for example using ravel().\n",
      "  y = column_or_1d(y, warn=True)\n"
     ]
    },
    {
     "name": "stdout",
     "output_type": "stream",
     "text": [
      "Converged\n"
     ]
    },
    {
     "name": "stderr",
     "output_type": "stream",
     "text": [
      "/N/soft/rhel7/python/3.9.8/lib/python3.9/site-packages/sklearn/utils/validation.py:993: DataConversionWarning: A column-vector y was passed when a 1d array was expected. Please change the shape of y to (n_samples, ), for example using ravel().\n",
      "  y = column_or_1d(y, warn=True)\n"
     ]
    },
    {
     "name": "stdout",
     "output_type": "stream",
     "text": [
      "Converged\n"
     ]
    },
    {
     "name": "stderr",
     "output_type": "stream",
     "text": [
      "/N/soft/rhel7/python/3.9.8/lib/python3.9/site-packages/sklearn/utils/validation.py:993: DataConversionWarning: A column-vector y was passed when a 1d array was expected. Please change the shape of y to (n_samples, ), for example using ravel().\n",
      "  y = column_or_1d(y, warn=True)\n"
     ]
    },
    {
     "name": "stdout",
     "output_type": "stream",
     "text": [
      "Converged\n"
     ]
    },
    {
     "name": "stderr",
     "output_type": "stream",
     "text": [
      "/N/soft/rhel7/python/3.9.8/lib/python3.9/site-packages/sklearn/utils/validation.py:993: DataConversionWarning: A column-vector y was passed when a 1d array was expected. Please change the shape of y to (n_samples, ), for example using ravel().\n",
      "  y = column_or_1d(y, warn=True)\n"
     ]
    },
    {
     "name": "stdout",
     "output_type": "stream",
     "text": [
      "Converged\n"
     ]
    },
    {
     "name": "stderr",
     "output_type": "stream",
     "text": [
      "/N/soft/rhel7/python/3.9.8/lib/python3.9/site-packages/sklearn/utils/validation.py:993: DataConversionWarning: A column-vector y was passed when a 1d array was expected. Please change the shape of y to (n_samples, ), for example using ravel().\n",
      "  y = column_or_1d(y, warn=True)\n"
     ]
    },
    {
     "name": "stdout",
     "output_type": "stream",
     "text": [
      "Converged\n"
     ]
    },
    {
     "name": "stderr",
     "output_type": "stream",
     "text": [
      "/N/soft/rhel7/python/3.9.8/lib/python3.9/site-packages/sklearn/utils/validation.py:993: DataConversionWarning: A column-vector y was passed when a 1d array was expected. Please change the shape of y to (n_samples, ), for example using ravel().\n",
      "  y = column_or_1d(y, warn=True)\n"
     ]
    },
    {
     "name": "stdout",
     "output_type": "stream",
     "text": [
      "Converged\n"
     ]
    },
    {
     "name": "stderr",
     "output_type": "stream",
     "text": [
      "/N/soft/rhel7/python/3.9.8/lib/python3.9/site-packages/sklearn/utils/validation.py:993: DataConversionWarning: A column-vector y was passed when a 1d array was expected. Please change the shape of y to (n_samples, ), for example using ravel().\n",
      "  y = column_or_1d(y, warn=True)\n"
     ]
    },
    {
     "name": "stdout",
     "output_type": "stream",
     "text": [
      "Converged\n"
     ]
    },
    {
     "name": "stderr",
     "output_type": "stream",
     "text": [
      "/N/soft/rhel7/python/3.9.8/lib/python3.9/site-packages/sklearn/utils/validation.py:993: DataConversionWarning: A column-vector y was passed when a 1d array was expected. Please change the shape of y to (n_samples, ), for example using ravel().\n",
      "  y = column_or_1d(y, warn=True)\n"
     ]
    },
    {
     "name": "stdout",
     "output_type": "stream",
     "text": [
      "Converged\n"
     ]
    },
    {
     "name": "stderr",
     "output_type": "stream",
     "text": [
      "/N/soft/rhel7/python/3.9.8/lib/python3.9/site-packages/sklearn/utils/validation.py:993: DataConversionWarning: A column-vector y was passed when a 1d array was expected. Please change the shape of y to (n_samples, ), for example using ravel().\n",
      "  y = column_or_1d(y, warn=True)\n"
     ]
    },
    {
     "name": "stdout",
     "output_type": "stream",
     "text": [
      "Converged\n"
     ]
    },
    {
     "name": "stderr",
     "output_type": "stream",
     "text": [
      "/N/soft/rhel7/python/3.9.8/lib/python3.9/site-packages/sklearn/utils/validation.py:993: DataConversionWarning: A column-vector y was passed when a 1d array was expected. Please change the shape of y to (n_samples, ), for example using ravel().\n",
      "  y = column_or_1d(y, warn=True)\n"
     ]
    },
    {
     "name": "stdout",
     "output_type": "stream",
     "text": [
      "Converged\n"
     ]
    },
    {
     "name": "stderr",
     "output_type": "stream",
     "text": [
      "/N/soft/rhel7/python/3.9.8/lib/python3.9/site-packages/sklearn/utils/validation.py:993: DataConversionWarning: A column-vector y was passed when a 1d array was expected. Please change the shape of y to (n_samples, ), for example using ravel().\n",
      "  y = column_or_1d(y, warn=True)\n"
     ]
    },
    {
     "name": "stdout",
     "output_type": "stream",
     "text": [
      "Converged\n"
     ]
    },
    {
     "name": "stderr",
     "output_type": "stream",
     "text": [
      "/N/soft/rhel7/python/3.9.8/lib/python3.9/site-packages/sklearn/utils/validation.py:993: DataConversionWarning: A column-vector y was passed when a 1d array was expected. Please change the shape of y to (n_samples, ), for example using ravel().\n",
      "  y = column_or_1d(y, warn=True)\n"
     ]
    },
    {
     "name": "stdout",
     "output_type": "stream",
     "text": [
      "Converged\n"
     ]
    },
    {
     "name": "stderr",
     "output_type": "stream",
     "text": [
      "/N/soft/rhel7/python/3.9.8/lib/python3.9/site-packages/sklearn/utils/validation.py:993: DataConversionWarning: A column-vector y was passed when a 1d array was expected. Please change the shape of y to (n_samples, ), for example using ravel().\n",
      "  y = column_or_1d(y, warn=True)\n"
     ]
    },
    {
     "name": "stdout",
     "output_type": "stream",
     "text": [
      "Converged\n"
     ]
    },
    {
     "name": "stderr",
     "output_type": "stream",
     "text": [
      "/N/soft/rhel7/python/3.9.8/lib/python3.9/site-packages/sklearn/utils/validation.py:993: DataConversionWarning: A column-vector y was passed when a 1d array was expected. Please change the shape of y to (n_samples, ), for example using ravel().\n",
      "  y = column_or_1d(y, warn=True)\n"
     ]
    },
    {
     "name": "stdout",
     "output_type": "stream",
     "text": [
      "Converged\n"
     ]
    },
    {
     "name": "stderr",
     "output_type": "stream",
     "text": [
      "/N/soft/rhel7/python/3.9.8/lib/python3.9/site-packages/sklearn/utils/validation.py:993: DataConversionWarning: A column-vector y was passed when a 1d array was expected. Please change the shape of y to (n_samples, ), for example using ravel().\n",
      "  y = column_or_1d(y, warn=True)\n"
     ]
    },
    {
     "name": "stdout",
     "output_type": "stream",
     "text": [
      "Converged\n"
     ]
    },
    {
     "name": "stderr",
     "output_type": "stream",
     "text": [
      "/N/soft/rhel7/python/3.9.8/lib/python3.9/site-packages/sklearn/utils/validation.py:993: DataConversionWarning: A column-vector y was passed when a 1d array was expected. Please change the shape of y to (n_samples, ), for example using ravel().\n",
      "  y = column_or_1d(y, warn=True)\n"
     ]
    },
    {
     "name": "stdout",
     "output_type": "stream",
     "text": [
      "Converged\n"
     ]
    },
    {
     "name": "stderr",
     "output_type": "stream",
     "text": [
      "/N/soft/rhel7/python/3.9.8/lib/python3.9/site-packages/sklearn/utils/validation.py:993: DataConversionWarning: A column-vector y was passed when a 1d array was expected. Please change the shape of y to (n_samples, ), for example using ravel().\n",
      "  y = column_or_1d(y, warn=True)\n"
     ]
    },
    {
     "name": "stdout",
     "output_type": "stream",
     "text": [
      "Converged\n"
     ]
    },
    {
     "name": "stderr",
     "output_type": "stream",
     "text": [
      "/N/soft/rhel7/python/3.9.8/lib/python3.9/site-packages/sklearn/utils/validation.py:993: DataConversionWarning: A column-vector y was passed when a 1d array was expected. Please change the shape of y to (n_samples, ), for example using ravel().\n",
      "  y = column_or_1d(y, warn=True)\n"
     ]
    },
    {
     "name": "stdout",
     "output_type": "stream",
     "text": [
      "Converged\n"
     ]
    },
    {
     "name": "stderr",
     "output_type": "stream",
     "text": [
      "/N/soft/rhel7/python/3.9.8/lib/python3.9/site-packages/sklearn/utils/validation.py:993: DataConversionWarning: A column-vector y was passed when a 1d array was expected. Please change the shape of y to (n_samples, ), for example using ravel().\n",
      "  y = column_or_1d(y, warn=True)\n"
     ]
    },
    {
     "name": "stdout",
     "output_type": "stream",
     "text": [
      "Converged\n"
     ]
    },
    {
     "name": "stderr",
     "output_type": "stream",
     "text": [
      "/N/soft/rhel7/python/3.9.8/lib/python3.9/site-packages/sklearn/utils/validation.py:993: DataConversionWarning: A column-vector y was passed when a 1d array was expected. Please change the shape of y to (n_samples, ), for example using ravel().\n",
      "  y = column_or_1d(y, warn=True)\n"
     ]
    },
    {
     "name": "stdout",
     "output_type": "stream",
     "text": [
      "Converged\n"
     ]
    },
    {
     "name": "stderr",
     "output_type": "stream",
     "text": [
      "/N/soft/rhel7/python/3.9.8/lib/python3.9/site-packages/sklearn/utils/validation.py:993: DataConversionWarning: A column-vector y was passed when a 1d array was expected. Please change the shape of y to (n_samples, ), for example using ravel().\n",
      "  y = column_or_1d(y, warn=True)\n"
     ]
    },
    {
     "name": "stdout",
     "output_type": "stream",
     "text": [
      "Converged\n"
     ]
    },
    {
     "name": "stderr",
     "output_type": "stream",
     "text": [
      "/N/soft/rhel7/python/3.9.8/lib/python3.9/site-packages/sklearn/utils/validation.py:993: DataConversionWarning: A column-vector y was passed when a 1d array was expected. Please change the shape of y to (n_samples, ), for example using ravel().\n",
      "  y = column_or_1d(y, warn=True)\n"
     ]
    },
    {
     "name": "stdout",
     "output_type": "stream",
     "text": [
      "Converged\n"
     ]
    },
    {
     "name": "stderr",
     "output_type": "stream",
     "text": [
      "/N/soft/rhel7/python/3.9.8/lib/python3.9/site-packages/sklearn/utils/validation.py:993: DataConversionWarning: A column-vector y was passed when a 1d array was expected. Please change the shape of y to (n_samples, ), for example using ravel().\n",
      "  y = column_or_1d(y, warn=True)\n"
     ]
    },
    {
     "name": "stdout",
     "output_type": "stream",
     "text": [
      "Converged\n"
     ]
    },
    {
     "name": "stderr",
     "output_type": "stream",
     "text": [
      "/N/soft/rhel7/python/3.9.8/lib/python3.9/site-packages/sklearn/utils/validation.py:993: DataConversionWarning: A column-vector y was passed when a 1d array was expected. Please change the shape of y to (n_samples, ), for example using ravel().\n",
      "  y = column_or_1d(y, warn=True)\n"
     ]
    },
    {
     "name": "stdout",
     "output_type": "stream",
     "text": [
      "Converged\n"
     ]
    },
    {
     "name": "stderr",
     "output_type": "stream",
     "text": [
      "/N/soft/rhel7/python/3.9.8/lib/python3.9/site-packages/sklearn/utils/validation.py:993: DataConversionWarning: A column-vector y was passed when a 1d array was expected. Please change the shape of y to (n_samples, ), for example using ravel().\n",
      "  y = column_or_1d(y, warn=True)\n"
     ]
    },
    {
     "name": "stdout",
     "output_type": "stream",
     "text": [
      "Converged\n"
     ]
    },
    {
     "name": "stderr",
     "output_type": "stream",
     "text": [
      "/N/soft/rhel7/python/3.9.8/lib/python3.9/site-packages/sklearn/utils/validation.py:993: DataConversionWarning: A column-vector y was passed when a 1d array was expected. Please change the shape of y to (n_samples, ), for example using ravel().\n",
      "  y = column_or_1d(y, warn=True)\n"
     ]
    },
    {
     "name": "stdout",
     "output_type": "stream",
     "text": [
      "Converged\n"
     ]
    },
    {
     "name": "stderr",
     "output_type": "stream",
     "text": [
      "/N/soft/rhel7/python/3.9.8/lib/python3.9/site-packages/sklearn/utils/validation.py:993: DataConversionWarning: A column-vector y was passed when a 1d array was expected. Please change the shape of y to (n_samples, ), for example using ravel().\n",
      "  y = column_or_1d(y, warn=True)\n"
     ]
    },
    {
     "name": "stdout",
     "output_type": "stream",
     "text": [
      "Converged\n"
     ]
    },
    {
     "name": "stderr",
     "output_type": "stream",
     "text": [
      "/N/soft/rhel7/python/3.9.8/lib/python3.9/site-packages/sklearn/utils/validation.py:993: DataConversionWarning: A column-vector y was passed when a 1d array was expected. Please change the shape of y to (n_samples, ), for example using ravel().\n",
      "  y = column_or_1d(y, warn=True)\n"
     ]
    },
    {
     "name": "stdout",
     "output_type": "stream",
     "text": [
      "Converged\n"
     ]
    },
    {
     "name": "stderr",
     "output_type": "stream",
     "text": [
      "/N/soft/rhel7/python/3.9.8/lib/python3.9/site-packages/sklearn/utils/validation.py:993: DataConversionWarning: A column-vector y was passed when a 1d array was expected. Please change the shape of y to (n_samples, ), for example using ravel().\n",
      "  y = column_or_1d(y, warn=True)\n"
     ]
    },
    {
     "name": "stdout",
     "output_type": "stream",
     "text": [
      "Converged\n"
     ]
    },
    {
     "name": "stderr",
     "output_type": "stream",
     "text": [
      "/N/soft/rhel7/python/3.9.8/lib/python3.9/site-packages/sklearn/utils/validation.py:993: DataConversionWarning: A column-vector y was passed when a 1d array was expected. Please change the shape of y to (n_samples, ), for example using ravel().\n",
      "  y = column_or_1d(y, warn=True)\n"
     ]
    },
    {
     "name": "stdout",
     "output_type": "stream",
     "text": [
      "Converged\n"
     ]
    },
    {
     "name": "stderr",
     "output_type": "stream",
     "text": [
      "/N/soft/rhel7/python/3.9.8/lib/python3.9/site-packages/sklearn/utils/validation.py:993: DataConversionWarning: A column-vector y was passed when a 1d array was expected. Please change the shape of y to (n_samples, ), for example using ravel().\n",
      "  y = column_or_1d(y, warn=True)\n"
     ]
    },
    {
     "name": "stdout",
     "output_type": "stream",
     "text": [
      "Converged\n"
     ]
    },
    {
     "name": "stderr",
     "output_type": "stream",
     "text": [
      "/N/soft/rhel7/python/3.9.8/lib/python3.9/site-packages/sklearn/utils/validation.py:993: DataConversionWarning: A column-vector y was passed when a 1d array was expected. Please change the shape of y to (n_samples, ), for example using ravel().\n",
      "  y = column_or_1d(y, warn=True)\n"
     ]
    },
    {
     "name": "stdout",
     "output_type": "stream",
     "text": [
      "Converged\n"
     ]
    },
    {
     "name": "stderr",
     "output_type": "stream",
     "text": [
      "/N/soft/rhel7/python/3.9.8/lib/python3.9/site-packages/sklearn/utils/validation.py:993: DataConversionWarning: A column-vector y was passed when a 1d array was expected. Please change the shape of y to (n_samples, ), for example using ravel().\n",
      "  y = column_or_1d(y, warn=True)\n"
     ]
    },
    {
     "name": "stdout",
     "output_type": "stream",
     "text": [
      "Converged\n"
     ]
    },
    {
     "name": "stderr",
     "output_type": "stream",
     "text": [
      "/N/soft/rhel7/python/3.9.8/lib/python3.9/site-packages/sklearn/utils/validation.py:993: DataConversionWarning: A column-vector y was passed when a 1d array was expected. Please change the shape of y to (n_samples, ), for example using ravel().\n",
      "  y = column_or_1d(y, warn=True)\n"
     ]
    },
    {
     "name": "stdout",
     "output_type": "stream",
     "text": [
      "Converged\n"
     ]
    },
    {
     "name": "stderr",
     "output_type": "stream",
     "text": [
      "/N/soft/rhel7/python/3.9.8/lib/python3.9/site-packages/sklearn/utils/validation.py:993: DataConversionWarning: A column-vector y was passed when a 1d array was expected. Please change the shape of y to (n_samples, ), for example using ravel().\n",
      "  y = column_or_1d(y, warn=True)\n"
     ]
    },
    {
     "name": "stdout",
     "output_type": "stream",
     "text": [
      "Converged\n"
     ]
    },
    {
     "name": "stderr",
     "output_type": "stream",
     "text": [
      "/N/soft/rhel7/python/3.9.8/lib/python3.9/site-packages/sklearn/utils/validation.py:993: DataConversionWarning: A column-vector y was passed when a 1d array was expected. Please change the shape of y to (n_samples, ), for example using ravel().\n",
      "  y = column_or_1d(y, warn=True)\n"
     ]
    },
    {
     "name": "stdout",
     "output_type": "stream",
     "text": [
      "Converged\n"
     ]
    },
    {
     "name": "stderr",
     "output_type": "stream",
     "text": [
      "/N/soft/rhel7/python/3.9.8/lib/python3.9/site-packages/sklearn/utils/validation.py:993: DataConversionWarning: A column-vector y was passed when a 1d array was expected. Please change the shape of y to (n_samples, ), for example using ravel().\n",
      "  y = column_or_1d(y, warn=True)\n"
     ]
    },
    {
     "name": "stdout",
     "output_type": "stream",
     "text": [
      "Converged\n"
     ]
    },
    {
     "name": "stderr",
     "output_type": "stream",
     "text": [
      "/N/soft/rhel7/python/3.9.8/lib/python3.9/site-packages/sklearn/utils/validation.py:993: DataConversionWarning: A column-vector y was passed when a 1d array was expected. Please change the shape of y to (n_samples, ), for example using ravel().\n",
      "  y = column_or_1d(y, warn=True)\n"
     ]
    },
    {
     "name": "stdout",
     "output_type": "stream",
     "text": [
      "Converged\n"
     ]
    },
    {
     "name": "stderr",
     "output_type": "stream",
     "text": [
      "/N/soft/rhel7/python/3.9.8/lib/python3.9/site-packages/sklearn/utils/validation.py:993: DataConversionWarning: A column-vector y was passed when a 1d array was expected. Please change the shape of y to (n_samples, ), for example using ravel().\n",
      "  y = column_or_1d(y, warn=True)\n"
     ]
    },
    {
     "name": "stdout",
     "output_type": "stream",
     "text": [
      "Converged\n"
     ]
    },
    {
     "name": "stderr",
     "output_type": "stream",
     "text": [
      "/N/soft/rhel7/python/3.9.8/lib/python3.9/site-packages/sklearn/utils/validation.py:993: DataConversionWarning: A column-vector y was passed when a 1d array was expected. Please change the shape of y to (n_samples, ), for example using ravel().\n",
      "  y = column_or_1d(y, warn=True)\n"
     ]
    },
    {
     "name": "stdout",
     "output_type": "stream",
     "text": [
      "Converged\n"
     ]
    },
    {
     "name": "stderr",
     "output_type": "stream",
     "text": [
      "/N/soft/rhel7/python/3.9.8/lib/python3.9/site-packages/sklearn/utils/validation.py:993: DataConversionWarning: A column-vector y was passed when a 1d array was expected. Please change the shape of y to (n_samples, ), for example using ravel().\n",
      "  y = column_or_1d(y, warn=True)\n"
     ]
    },
    {
     "name": "stdout",
     "output_type": "stream",
     "text": [
      "Converged\n"
     ]
    },
    {
     "name": "stderr",
     "output_type": "stream",
     "text": [
      "/N/soft/rhel7/python/3.9.8/lib/python3.9/site-packages/sklearn/utils/validation.py:993: DataConversionWarning: A column-vector y was passed when a 1d array was expected. Please change the shape of y to (n_samples, ), for example using ravel().\n",
      "  y = column_or_1d(y, warn=True)\n"
     ]
    },
    {
     "name": "stdout",
     "output_type": "stream",
     "text": [
      "Converged\n"
     ]
    },
    {
     "name": "stderr",
     "output_type": "stream",
     "text": [
      "/N/soft/rhel7/python/3.9.8/lib/python3.9/site-packages/sklearn/utils/validation.py:993: DataConversionWarning: A column-vector y was passed when a 1d array was expected. Please change the shape of y to (n_samples, ), for example using ravel().\n",
      "  y = column_or_1d(y, warn=True)\n"
     ]
    },
    {
     "name": "stdout",
     "output_type": "stream",
     "text": [
      "Converged\n"
     ]
    },
    {
     "name": "stderr",
     "output_type": "stream",
     "text": [
      "/N/soft/rhel7/python/3.9.8/lib/python3.9/site-packages/sklearn/utils/validation.py:993: DataConversionWarning: A column-vector y was passed when a 1d array was expected. Please change the shape of y to (n_samples, ), for example using ravel().\n",
      "  y = column_or_1d(y, warn=True)\n"
     ]
    },
    {
     "name": "stdout",
     "output_type": "stream",
     "text": [
      "Converged\n"
     ]
    },
    {
     "name": "stderr",
     "output_type": "stream",
     "text": [
      "/N/soft/rhel7/python/3.9.8/lib/python3.9/site-packages/sklearn/utils/validation.py:993: DataConversionWarning: A column-vector y was passed when a 1d array was expected. Please change the shape of y to (n_samples, ), for example using ravel().\n",
      "  y = column_or_1d(y, warn=True)\n"
     ]
    },
    {
     "name": "stdout",
     "output_type": "stream",
     "text": [
      "Converged\n"
     ]
    },
    {
     "name": "stderr",
     "output_type": "stream",
     "text": [
      "/N/soft/rhel7/python/3.9.8/lib/python3.9/site-packages/sklearn/utils/validation.py:993: DataConversionWarning: A column-vector y was passed when a 1d array was expected. Please change the shape of y to (n_samples, ), for example using ravel().\n",
      "  y = column_or_1d(y, warn=True)\n"
     ]
    },
    {
     "name": "stdout",
     "output_type": "stream",
     "text": [
      "Converged\n"
     ]
    },
    {
     "name": "stderr",
     "output_type": "stream",
     "text": [
      "/N/soft/rhel7/python/3.9.8/lib/python3.9/site-packages/sklearn/utils/validation.py:993: DataConversionWarning: A column-vector y was passed when a 1d array was expected. Please change the shape of y to (n_samples, ), for example using ravel().\n",
      "  y = column_or_1d(y, warn=True)\n"
     ]
    },
    {
     "name": "stdout",
     "output_type": "stream",
     "text": [
      "Converged\n"
     ]
    },
    {
     "name": "stderr",
     "output_type": "stream",
     "text": [
      "/N/soft/rhel7/python/3.9.8/lib/python3.9/site-packages/sklearn/utils/validation.py:993: DataConversionWarning: A column-vector y was passed when a 1d array was expected. Please change the shape of y to (n_samples, ), for example using ravel().\n",
      "  y = column_or_1d(y, warn=True)\n"
     ]
    },
    {
     "name": "stdout",
     "output_type": "stream",
     "text": [
      "Converged\n"
     ]
    },
    {
     "name": "stderr",
     "output_type": "stream",
     "text": [
      "/N/soft/rhel7/python/3.9.8/lib/python3.9/site-packages/sklearn/utils/validation.py:993: DataConversionWarning: A column-vector y was passed when a 1d array was expected. Please change the shape of y to (n_samples, ), for example using ravel().\n",
      "  y = column_or_1d(y, warn=True)\n"
     ]
    },
    {
     "name": "stdout",
     "output_type": "stream",
     "text": [
      "Converged\n"
     ]
    },
    {
     "name": "stderr",
     "output_type": "stream",
     "text": [
      "/N/soft/rhel7/python/3.9.8/lib/python3.9/site-packages/sklearn/utils/validation.py:993: DataConversionWarning: A column-vector y was passed when a 1d array was expected. Please change the shape of y to (n_samples, ), for example using ravel().\n",
      "  y = column_or_1d(y, warn=True)\n"
     ]
    },
    {
     "name": "stdout",
     "output_type": "stream",
     "text": [
      "Converged\n"
     ]
    },
    {
     "name": "stderr",
     "output_type": "stream",
     "text": [
      "/N/soft/rhel7/python/3.9.8/lib/python3.9/site-packages/sklearn/utils/validation.py:993: DataConversionWarning: A column-vector y was passed when a 1d array was expected. Please change the shape of y to (n_samples, ), for example using ravel().\n",
      "  y = column_or_1d(y, warn=True)\n"
     ]
    },
    {
     "name": "stdout",
     "output_type": "stream",
     "text": [
      "Converged\n"
     ]
    },
    {
     "name": "stderr",
     "output_type": "stream",
     "text": [
      "/N/soft/rhel7/python/3.9.8/lib/python3.9/site-packages/sklearn/utils/validation.py:993: DataConversionWarning: A column-vector y was passed when a 1d array was expected. Please change the shape of y to (n_samples, ), for example using ravel().\n",
      "  y = column_or_1d(y, warn=True)\n"
     ]
    },
    {
     "name": "stdout",
     "output_type": "stream",
     "text": [
      "Converged\n"
     ]
    },
    {
     "name": "stderr",
     "output_type": "stream",
     "text": [
      "/N/soft/rhel7/python/3.9.8/lib/python3.9/site-packages/sklearn/utils/validation.py:993: DataConversionWarning: A column-vector y was passed when a 1d array was expected. Please change the shape of y to (n_samples, ), for example using ravel().\n",
      "  y = column_or_1d(y, warn=True)\n"
     ]
    },
    {
     "name": "stdout",
     "output_type": "stream",
     "text": [
      "Converged\n"
     ]
    },
    {
     "name": "stderr",
     "output_type": "stream",
     "text": [
      "/N/soft/rhel7/python/3.9.8/lib/python3.9/site-packages/sklearn/utils/validation.py:993: DataConversionWarning: A column-vector y was passed when a 1d array was expected. Please change the shape of y to (n_samples, ), for example using ravel().\n",
      "  y = column_or_1d(y, warn=True)\n"
     ]
    },
    {
     "name": "stdout",
     "output_type": "stream",
     "text": [
      "Converged\n"
     ]
    },
    {
     "name": "stderr",
     "output_type": "stream",
     "text": [
      "/N/soft/rhel7/python/3.9.8/lib/python3.9/site-packages/sklearn/utils/validation.py:993: DataConversionWarning: A column-vector y was passed when a 1d array was expected. Please change the shape of y to (n_samples, ), for example using ravel().\n",
      "  y = column_or_1d(y, warn=True)\n"
     ]
    },
    {
     "name": "stdout",
     "output_type": "stream",
     "text": [
      "Converged\n"
     ]
    },
    {
     "name": "stderr",
     "output_type": "stream",
     "text": [
      "/N/soft/rhel7/python/3.9.8/lib/python3.9/site-packages/sklearn/utils/validation.py:993: DataConversionWarning: A column-vector y was passed when a 1d array was expected. Please change the shape of y to (n_samples, ), for example using ravel().\n",
      "  y = column_or_1d(y, warn=True)\n"
     ]
    },
    {
     "name": "stdout",
     "output_type": "stream",
     "text": [
      "Converged\n"
     ]
    },
    {
     "name": "stderr",
     "output_type": "stream",
     "text": [
      "/N/soft/rhel7/python/3.9.8/lib/python3.9/site-packages/sklearn/utils/validation.py:993: DataConversionWarning: A column-vector y was passed when a 1d array was expected. Please change the shape of y to (n_samples, ), for example using ravel().\n",
      "  y = column_or_1d(y, warn=True)\n"
     ]
    },
    {
     "name": "stdout",
     "output_type": "stream",
     "text": [
      "Converged\n"
     ]
    },
    {
     "name": "stderr",
     "output_type": "stream",
     "text": [
      "/N/soft/rhel7/python/3.9.8/lib/python3.9/site-packages/sklearn/utils/validation.py:993: DataConversionWarning: A column-vector y was passed when a 1d array was expected. Please change the shape of y to (n_samples, ), for example using ravel().\n",
      "  y = column_or_1d(y, warn=True)\n"
     ]
    },
    {
     "name": "stdout",
     "output_type": "stream",
     "text": [
      "Converged\n"
     ]
    },
    {
     "name": "stderr",
     "output_type": "stream",
     "text": [
      "/N/soft/rhel7/python/3.9.8/lib/python3.9/site-packages/sklearn/utils/validation.py:993: DataConversionWarning: A column-vector y was passed when a 1d array was expected. Please change the shape of y to (n_samples, ), for example using ravel().\n",
      "  y = column_or_1d(y, warn=True)\n"
     ]
    },
    {
     "name": "stdout",
     "output_type": "stream",
     "text": [
      "Converged\n"
     ]
    },
    {
     "name": "stderr",
     "output_type": "stream",
     "text": [
      "/N/soft/rhel7/python/3.9.8/lib/python3.9/site-packages/sklearn/utils/validation.py:993: DataConversionWarning: A column-vector y was passed when a 1d array was expected. Please change the shape of y to (n_samples, ), for example using ravel().\n",
      "  y = column_or_1d(y, warn=True)\n"
     ]
    },
    {
     "name": "stdout",
     "output_type": "stream",
     "text": [
      "Converged\n"
     ]
    },
    {
     "name": "stderr",
     "output_type": "stream",
     "text": [
      "/N/soft/rhel7/python/3.9.8/lib/python3.9/site-packages/sklearn/utils/validation.py:993: DataConversionWarning: A column-vector y was passed when a 1d array was expected. Please change the shape of y to (n_samples, ), for example using ravel().\n",
      "  y = column_or_1d(y, warn=True)\n"
     ]
    },
    {
     "name": "stdout",
     "output_type": "stream",
     "text": [
      "Converged\n"
     ]
    },
    {
     "name": "stderr",
     "output_type": "stream",
     "text": [
      "/N/soft/rhel7/python/3.9.8/lib/python3.9/site-packages/sklearn/utils/validation.py:993: DataConversionWarning: A column-vector y was passed when a 1d array was expected. Please change the shape of y to (n_samples, ), for example using ravel().\n",
      "  y = column_or_1d(y, warn=True)\n"
     ]
    },
    {
     "name": "stdout",
     "output_type": "stream",
     "text": [
      "Converged\n"
     ]
    },
    {
     "name": "stderr",
     "output_type": "stream",
     "text": [
      "/N/soft/rhel7/python/3.9.8/lib/python3.9/site-packages/sklearn/utils/validation.py:993: DataConversionWarning: A column-vector y was passed when a 1d array was expected. Please change the shape of y to (n_samples, ), for example using ravel().\n",
      "  y = column_or_1d(y, warn=True)\n"
     ]
    },
    {
     "name": "stdout",
     "output_type": "stream",
     "text": [
      "Converged\n"
     ]
    },
    {
     "name": "stderr",
     "output_type": "stream",
     "text": [
      "/N/soft/rhel7/python/3.9.8/lib/python3.9/site-packages/sklearn/utils/validation.py:993: DataConversionWarning: A column-vector y was passed when a 1d array was expected. Please change the shape of y to (n_samples, ), for example using ravel().\n",
      "  y = column_or_1d(y, warn=True)\n"
     ]
    },
    {
     "name": "stdout",
     "output_type": "stream",
     "text": [
      "Converged\n"
     ]
    },
    {
     "name": "stderr",
     "output_type": "stream",
     "text": [
      "/N/soft/rhel7/python/3.9.8/lib/python3.9/site-packages/sklearn/utils/validation.py:993: DataConversionWarning: A column-vector y was passed when a 1d array was expected. Please change the shape of y to (n_samples, ), for example using ravel().\n",
      "  y = column_or_1d(y, warn=True)\n"
     ]
    },
    {
     "name": "stdout",
     "output_type": "stream",
     "text": [
      "Converged\n"
     ]
    },
    {
     "name": "stderr",
     "output_type": "stream",
     "text": [
      "/N/soft/rhel7/python/3.9.8/lib/python3.9/site-packages/sklearn/utils/validation.py:993: DataConversionWarning: A column-vector y was passed when a 1d array was expected. Please change the shape of y to (n_samples, ), for example using ravel().\n",
      "  y = column_or_1d(y, warn=True)\n"
     ]
    },
    {
     "name": "stdout",
     "output_type": "stream",
     "text": [
      "Converged\n"
     ]
    },
    {
     "name": "stderr",
     "output_type": "stream",
     "text": [
      "/N/soft/rhel7/python/3.9.8/lib/python3.9/site-packages/sklearn/utils/validation.py:993: DataConversionWarning: A column-vector y was passed when a 1d array was expected. Please change the shape of y to (n_samples, ), for example using ravel().\n",
      "  y = column_or_1d(y, warn=True)\n"
     ]
    },
    {
     "name": "stdout",
     "output_type": "stream",
     "text": [
      "Converged\n"
     ]
    },
    {
     "name": "stderr",
     "output_type": "stream",
     "text": [
      "/N/soft/rhel7/python/3.9.8/lib/python3.9/site-packages/sklearn/utils/validation.py:993: DataConversionWarning: A column-vector y was passed when a 1d array was expected. Please change the shape of y to (n_samples, ), for example using ravel().\n",
      "  y = column_or_1d(y, warn=True)\n"
     ]
    },
    {
     "name": "stdout",
     "output_type": "stream",
     "text": [
      "Converged\n"
     ]
    },
    {
     "name": "stderr",
     "output_type": "stream",
     "text": [
      "/N/soft/rhel7/python/3.9.8/lib/python3.9/site-packages/sklearn/utils/validation.py:993: DataConversionWarning: A column-vector y was passed when a 1d array was expected. Please change the shape of y to (n_samples, ), for example using ravel().\n",
      "  y = column_or_1d(y, warn=True)\n"
     ]
    },
    {
     "name": "stdout",
     "output_type": "stream",
     "text": [
      "Converged\n"
     ]
    },
    {
     "name": "stderr",
     "output_type": "stream",
     "text": [
      "/N/soft/rhel7/python/3.9.8/lib/python3.9/site-packages/sklearn/utils/validation.py:993: DataConversionWarning: A column-vector y was passed when a 1d array was expected. Please change the shape of y to (n_samples, ), for example using ravel().\n",
      "  y = column_or_1d(y, warn=True)\n"
     ]
    },
    {
     "name": "stdout",
     "output_type": "stream",
     "text": [
      "Converged\n"
     ]
    },
    {
     "name": "stderr",
     "output_type": "stream",
     "text": [
      "/N/soft/rhel7/python/3.9.8/lib/python3.9/site-packages/sklearn/utils/validation.py:993: DataConversionWarning: A column-vector y was passed when a 1d array was expected. Please change the shape of y to (n_samples, ), for example using ravel().\n",
      "  y = column_or_1d(y, warn=True)\n"
     ]
    },
    {
     "name": "stdout",
     "output_type": "stream",
     "text": [
      "Converged\n"
     ]
    },
    {
     "name": "stderr",
     "output_type": "stream",
     "text": [
      "/N/soft/rhel7/python/3.9.8/lib/python3.9/site-packages/sklearn/utils/validation.py:993: DataConversionWarning: A column-vector y was passed when a 1d array was expected. Please change the shape of y to (n_samples, ), for example using ravel().\n",
      "  y = column_or_1d(y, warn=True)\n"
     ]
    },
    {
     "name": "stdout",
     "output_type": "stream",
     "text": [
      "Converged\n"
     ]
    },
    {
     "name": "stderr",
     "output_type": "stream",
     "text": [
      "/N/soft/rhel7/python/3.9.8/lib/python3.9/site-packages/sklearn/utils/validation.py:993: DataConversionWarning: A column-vector y was passed when a 1d array was expected. Please change the shape of y to (n_samples, ), for example using ravel().\n",
      "  y = column_or_1d(y, warn=True)\n"
     ]
    },
    {
     "name": "stdout",
     "output_type": "stream",
     "text": [
      "Converged\n"
     ]
    },
    {
     "name": "stderr",
     "output_type": "stream",
     "text": [
      "/N/soft/rhel7/python/3.9.8/lib/python3.9/site-packages/sklearn/utils/validation.py:993: DataConversionWarning: A column-vector y was passed when a 1d array was expected. Please change the shape of y to (n_samples, ), for example using ravel().\n",
      "  y = column_or_1d(y, warn=True)\n"
     ]
    },
    {
     "name": "stdout",
     "output_type": "stream",
     "text": [
      "Converged\n"
     ]
    },
    {
     "name": "stderr",
     "output_type": "stream",
     "text": [
      "/N/soft/rhel7/python/3.9.8/lib/python3.9/site-packages/sklearn/utils/validation.py:993: DataConversionWarning: A column-vector y was passed when a 1d array was expected. Please change the shape of y to (n_samples, ), for example using ravel().\n",
      "  y = column_or_1d(y, warn=True)\n"
     ]
    },
    {
     "name": "stdout",
     "output_type": "stream",
     "text": [
      "Converged\n"
     ]
    },
    {
     "name": "stderr",
     "output_type": "stream",
     "text": [
      "/N/soft/rhel7/python/3.9.8/lib/python3.9/site-packages/sklearn/utils/validation.py:993: DataConversionWarning: A column-vector y was passed when a 1d array was expected. Please change the shape of y to (n_samples, ), for example using ravel().\n",
      "  y = column_or_1d(y, warn=True)\n"
     ]
    },
    {
     "name": "stdout",
     "output_type": "stream",
     "text": [
      "Converged\n"
     ]
    },
    {
     "name": "stderr",
     "output_type": "stream",
     "text": [
      "/N/soft/rhel7/python/3.9.8/lib/python3.9/site-packages/sklearn/utils/validation.py:993: DataConversionWarning: A column-vector y was passed when a 1d array was expected. Please change the shape of y to (n_samples, ), for example using ravel().\n",
      "  y = column_or_1d(y, warn=True)\n"
     ]
    },
    {
     "name": "stdout",
     "output_type": "stream",
     "text": [
      "Converged\n"
     ]
    },
    {
     "name": "stderr",
     "output_type": "stream",
     "text": [
      "/N/soft/rhel7/python/3.9.8/lib/python3.9/site-packages/sklearn/utils/validation.py:993: DataConversionWarning: A column-vector y was passed when a 1d array was expected. Please change the shape of y to (n_samples, ), for example using ravel().\n",
      "  y = column_or_1d(y, warn=True)\n"
     ]
    },
    {
     "name": "stdout",
     "output_type": "stream",
     "text": [
      "Converged\n"
     ]
    },
    {
     "name": "stderr",
     "output_type": "stream",
     "text": [
      "/N/soft/rhel7/python/3.9.8/lib/python3.9/site-packages/sklearn/utils/validation.py:993: DataConversionWarning: A column-vector y was passed when a 1d array was expected. Please change the shape of y to (n_samples, ), for example using ravel().\n",
      "  y = column_or_1d(y, warn=True)\n"
     ]
    },
    {
     "name": "stdout",
     "output_type": "stream",
     "text": [
      "Converged\n"
     ]
    },
    {
     "name": "stderr",
     "output_type": "stream",
     "text": [
      "/N/soft/rhel7/python/3.9.8/lib/python3.9/site-packages/sklearn/utils/validation.py:993: DataConversionWarning: A column-vector y was passed when a 1d array was expected. Please change the shape of y to (n_samples, ), for example using ravel().\n",
      "  y = column_or_1d(y, warn=True)\n"
     ]
    }
   ],
   "source": [
    "error_matrix_em=[]\n",
    "\n",
    "for i in range(2,6):\n",
    "    for j in range(1,21):\n",
    "        sse,clainski,means_matrix_initial=GMM(df_cleaned_dia,i,10)\n",
    "        error_matrix_em.append([i,sse,clainski])\n",
    "        \n",
    "error_df_em= pd.DataFrame(error_matrix_em,columns=['number_of_cluster', 'sse','clainski']) "
   ]
  },
  {
   "cell_type": "code",
   "execution_count": 5,
   "id": "49142cea",
   "metadata": {},
   "outputs": [],
   "source": [
    "error_df_em.to_csv('6_em_minmax.csv',index=False)"
   ]
  },
  {
   "cell_type": "code",
   "execution_count": 6,
   "id": "ed46c069",
   "metadata": {},
   "outputs": [
    {
     "data": {
      "text/html": [
       "<div>\n",
       "<style scoped>\n",
       "    .dataframe tbody tr th:only-of-type {\n",
       "        vertical-align: middle;\n",
       "    }\n",
       "\n",
       "    .dataframe tbody tr th {\n",
       "        vertical-align: top;\n",
       "    }\n",
       "\n",
       "    .dataframe thead th {\n",
       "        text-align: right;\n",
       "    }\n",
       "</style>\n",
       "<table border=\"1\" class=\"dataframe\">\n",
       "  <thead>\n",
       "    <tr style=\"text-align: right;\">\n",
       "      <th></th>\n",
       "      <th>number_of_cluster</th>\n",
       "      <th>sse</th>\n",
       "      <th>clainski</th>\n",
       "    </tr>\n",
       "  </thead>\n",
       "  <tbody>\n",
       "    <tr>\n",
       "      <th>0</th>\n",
       "      <td>2</td>\n",
       "      <td>199794.407077</td>\n",
       "      <td>14014.987414</td>\n",
       "    </tr>\n",
       "    <tr>\n",
       "      <th>1</th>\n",
       "      <td>2</td>\n",
       "      <td>181955.900858</td>\n",
       "      <td>22414.786437</td>\n",
       "    </tr>\n",
       "    <tr>\n",
       "      <th>2</th>\n",
       "      <td>2</td>\n",
       "      <td>195228.589626</td>\n",
       "      <td>12904.486753</td>\n",
       "    </tr>\n",
       "    <tr>\n",
       "      <th>3</th>\n",
       "      <td>2</td>\n",
       "      <td>195689.762065</td>\n",
       "      <td>15391.685019</td>\n",
       "    </tr>\n",
       "    <tr>\n",
       "      <th>4</th>\n",
       "      <td>2</td>\n",
       "      <td>192673.620510</td>\n",
       "      <td>13174.569214</td>\n",
       "    </tr>\n",
       "    <tr>\n",
       "      <th>...</th>\n",
       "      <td>...</td>\n",
       "      <td>...</td>\n",
       "      <td>...</td>\n",
       "    </tr>\n",
       "    <tr>\n",
       "      <th>75</th>\n",
       "      <td>5</td>\n",
       "      <td>162123.125143</td>\n",
       "      <td>14948.183371</td>\n",
       "    </tr>\n",
       "    <tr>\n",
       "      <th>76</th>\n",
       "      <td>5</td>\n",
       "      <td>165720.286279</td>\n",
       "      <td>13441.844495</td>\n",
       "    </tr>\n",
       "    <tr>\n",
       "      <th>77</th>\n",
       "      <td>5</td>\n",
       "      <td>154814.817041</td>\n",
       "      <td>16305.155941</td>\n",
       "    </tr>\n",
       "    <tr>\n",
       "      <th>78</th>\n",
       "      <td>5</td>\n",
       "      <td>179397.530043</td>\n",
       "      <td>10686.114962</td>\n",
       "    </tr>\n",
       "    <tr>\n",
       "      <th>79</th>\n",
       "      <td>5</td>\n",
       "      <td>161082.565025</td>\n",
       "      <td>11389.326862</td>\n",
       "    </tr>\n",
       "  </tbody>\n",
       "</table>\n",
       "<p>80 rows × 3 columns</p>\n",
       "</div>"
      ],
      "text/plain": [
       "    number_of_cluster            sse      clainski\n",
       "0                   2  199794.407077  14014.987414\n",
       "1                   2  181955.900858  22414.786437\n",
       "2                   2  195228.589626  12904.486753\n",
       "3                   2  195689.762065  15391.685019\n",
       "4                   2  192673.620510  13174.569214\n",
       "..                ...            ...           ...\n",
       "75                  5  162123.125143  14948.183371\n",
       "76                  5  165720.286279  13441.844495\n",
       "77                  5  154814.817041  16305.155941\n",
       "78                  5  179397.530043  10686.114962\n",
       "79                  5  161082.565025  11389.326862\n",
       "\n",
       "[80 rows x 3 columns]"
      ]
     },
     "execution_count": 6,
     "metadata": {},
     "output_type": "execute_result"
    }
   ],
   "source": [
    "error_df_em"
   ]
  },
  {
   "cell_type": "code",
   "execution_count": 7,
   "id": "e7f76f53",
   "metadata": {},
   "outputs": [],
   "source": [
    "error_df_em_poisson=pd.read_csv('6_em_poisson.csv')\n",
    "error_df_em_exp=pd.read_csv('6_em_exp.csv')\n",
    "error_df_em_normal=pd.read_csv('6_em_minmax.csv')\n",
    "\n",
    "error_df_em_poisson['algo']='em_poisson'\n",
    "error_df_em_exp['algo']='em_exponential'\n",
    "error_df_em_normal['algo']='em_normal'"
   ]
  },
  {
   "cell_type": "code",
   "execution_count": 8,
   "id": "823603d2",
   "metadata": {},
   "outputs": [],
   "source": [
    "run_time_diab=pd.DataFrame()\n",
    "run_time_diab=pd.concat( [ error_df_em_poisson[['algo','number_of_cluster','sse','clainski']],\n",
    "    error_df_em_exp[['algo','number_of_cluster', 'sse','clainski']],\n",
    "     error_df_em_normal[['algo','number_of_cluster', 'sse','clainski']]                     \n",
    "                        ],ignore_index=True )"
   ]
  },
  {
   "cell_type": "code",
   "execution_count": 9,
   "id": "88c6f374",
   "metadata": {},
   "outputs": [
    {
     "data": {
      "image/png": "[encoded data removed]",
      "text/plain": [
       "<Figure size 576x432 with 1 Axes>"
      ]
     },
     "metadata": {
      "needs_background": "light"
     },
     "output_type": "display_data"
    }
   ],
   "source": [
    "import seaborn as sns\n",
    "\n",
    "fig, ax = plt.subplots(figsize=(8,6))\n",
    "\n",
    "sns.boxplot(x='number_of_cluster', y='sse', hue='algo',\n",
    "            data=run_time_diab[run_time_diab['algo'].isin (['em_poisson','em_exponential','em_normal'])],ax=ax);\n",
    "plt.title('Box Plot of SSE for 3 versions of GMM (Normal, Poisson, Exponential)')\n",
    "plt.show()"
   ]
  },
  {
   "cell_type": "code",
   "execution_count": 10,
   "id": "ac69f81a",
   "metadata": {},
   "outputs": [
    {
     "data": {
      "image/png": "[encoded data removed]",
      "text/plain": [
       "<Figure size 576x432 with 1 Axes>"
      ]
     },
     "metadata": {
      "needs_background": "light"
     },
     "output_type": "display_data"
    }
   ],
   "source": [
    "import seaborn as sns\n",
    "\n",
    "fig, ax = plt.subplots(figsize=(8,6))\n",
    "\n",
    "sns.boxplot(x='number_of_cluster', y='clainski', hue='algo',\n",
    "            data=run_time_diab[run_time_diab['algo'].isin (['em_poisson','em_exponential','em_normal'])],ax=ax);\n",
    "plt.title('Box Plot of Clainski for 3 versions of GMM (Normal, Poisson, Exponential)')\n",
    "plt.show()"
   ]
  },
  {
   "cell_type": "code",
   "execution_count": null,
   "id": "dd3db2b3",
   "metadata": {},
   "outputs": [],
   "source": []
  }
 ],
 "metadata": {
  "kernelspec": {
   "display_name": "Python 3 (ipykernel)",
   "language": "python",
   "name": "python3"
  },
  "language_info": {
   "codemirror_mode": {
    "name": "ipython",
    "version": 3
   },
   "file_extension": ".py",
   "mimetype": "text/x-python",
   "name": "python",
   "nbconvert_exporter": "python",
   "pygments_lexer": "ipython3",
   "version": "3.9.13"
  }
 },
 "nbformat": 4,
 "nbformat_minor": 5
}
